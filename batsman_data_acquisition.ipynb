{
 "cells": [
  {
   "cell_type": "code",
   "execution_count": 20,
   "metadata": {},
   "outputs": [],
   "source": [
    "import pandas as pd\n",
    "import yaml\n",
    "import os\n",
    "import time\n",
    "import numpy as np\n",
    "import warnings"
   ]
  },
  {
   "cell_type": "code",
   "execution_count": 21,
   "metadata": {},
   "outputs": [],
   "source": [
    "warnings.filterwarnings(\"ignore\")  # Hide messy Numpy warnings"
   ]
  },
  {
   "cell_type": "code",
   "execution_count": 22,
   "metadata": {},
   "outputs": [],
   "source": [
    "def extract_details(filename):\n",
    "    dict = yaml.load(open(filename))\n",
    "    flag = False\n",
    "    \n",
    "    match_details = {}\n",
    "    match_details['venue'] = dict['info']['venue']\n",
    "    match_details['date'] = dict['info']['dates'][0]\n",
    "    match_details['team1'] = dict['info']['teams'][0]\n",
    "    match_details['team2'] = dict['info']['teams'][1]\n",
    "    if 'winner' not in dict['info']['outcome']:\n",
    "        match_details['winner'] = 'no_result'\n",
    "    else:\n",
    "        match_details['winner'] = dict['info']['outcome']['winner']\n",
    "    if dict['info']['toss']['winner'] == match_details['team1']:\n",
    "        if dict['info']['toss']['decision'] == 'bat':\n",
    "            match_details['bat_first'] = [match_details['team1'],match_details['team2']]\n",
    "        else:\n",
    "            match_details['bat_first'] = [match_details['team2'],match_details['team1']]\n",
    "    else:\n",
    "        if dict['info']['toss']['decision'] == 'bat':\n",
    "            match_details['bat_first'] = [match_details['team2'],match_details['team1']]\n",
    "        else:\n",
    "            match_details['bat_first'] = [match_details['team1'],match_details['team2']]\n",
    "    print(match_details)\n",
    "    player_details = pd.DataFrame(columns=['date','team','runs','balls','not_out','opposition','batting_innings','venue','outcome'])\n",
    "    \n",
    "    innings1 = dict['innings'][0]['1st innings']['deliveries']\n",
    "    for ball in innings1:\n",
    "        for delivery in ball:\n",
    "      \n",
    "            try:\n",
    "                player_details.index.get_loc(ball[delivery]['batsman'])\n",
    "            except:\n",
    "                player_details.loc[ball[delivery]['batsman'],'runs'] = 0\n",
    "                player_details.loc[ball[delivery]['batsman'], 'balls'] = 0\n",
    "            \n",
    "            player_details.loc[ball[delivery]['batsman'], 'date'] = match_details['date']\n",
    "            player_details.loc[ball[delivery]['batsman'], 'team'] = match_details['bat_first'][0]\n",
    "            player_details.loc[ball[delivery]['batsman'], 'opposition'] = match_details['bat_first'][1]\n",
    "            player_details.loc[ball[delivery]['batsman'], 'batting_innings'] = 1\n",
    "            player_details.loc[ball[delivery]['batsman'], 'venue'] = match_details['venue']\n",
    "            if match_details['winner'] == player_details.loc[ball[delivery]['batsman'], 'team']:\n",
    "                player_details.loc[ball[delivery]['batsman'], 'outcome'] = 1\n",
    "            else:\n",
    "                player_details.loc[ball[delivery]['batsman'], 'outcome'] = 0\n",
    "            if 'wicket' in ball[delivery]:\n",
    "                player_details.loc[ball[delivery]['batsman'],'not_out'] = False\n",
    "            else:\n",
    "                player_details.loc[ball[delivery]['batsman'], 'not_out'] = True\n",
    "            \n",
    "            player_details.loc[ball[delivery]['batsman'],'runs'] += ball[delivery]['runs']['batsman']\n",
    "            player_details.loc[ball[delivery]['batsman'],'balls'] += 1\n",
    "            \n",
    "    try:\n",
    "        innings2 = dict['innings'][1]['2nd innings']['deliveries']\n",
    "    except:\n",
    "        flag = True\n",
    "    else:\n",
    "        for ball in innings2:\n",
    "            for delivery in ball:\n",
    "            \n",
    "                try:\n",
    "                    player_details.index.get_loc(ball[delivery]['batsman'])\n",
    "                except:\n",
    "                    player_details.loc[ball[delivery]['batsman'],'runs'] = 0\n",
    "                    player_details.loc[ball[delivery]['batsman'], 'balls'] = 0\n",
    "                player_details.loc[ball[delivery]['batsman'], 'date'] = match_details['date']\n",
    "                player_details.loc[ball[delivery]['batsman'], 'team'] = match_details['bat_first'][1]\n",
    "                player_details.loc[ball[delivery]['batsman'], 'opposition'] = match_details['bat_first'][0]\n",
    "                player_details.loc[ball[delivery]['batsman'], 'batting_innings'] = 2\n",
    "                player_details.loc[ball[delivery]['batsman'], 'venue'] = match_details['venue']\n",
    "                if match_details['winner'] == player_details.loc[ball[delivery]['batsman'], 'team']:\n",
    "                    player_details.loc[ball[delivery]['batsman'], 'outcome'] = 1\n",
    "                else:\n",
    "                    player_details.loc[ball[delivery]['batsman'], 'outcome'] = 0\n",
    "                if 'wicket' in ball[delivery]:\n",
    "                    player_details.loc[ball[delivery]['batsman'],'not_out'] = False\n",
    "                else:\n",
    "                    player_details.loc[ball[delivery]['batsman'], 'not_out'] = True\n",
    "                player_details.loc[ball[delivery]['batsman'],'runs'] += ball[delivery]['runs']['batsman']\n",
    "                player_details.loc[ball[delivery]['batsman'],'balls'] += 1                \n",
    "    return player_details"
   ]
  },
  {
   "cell_type": "code",
   "execution_count": 23,
   "metadata": {},
   "outputs": [],
   "source": [
    "overall_batsman_details = pd.DataFrame(columns=['team','innings','runs','balls', 'average', 'strike_rate','centuries','fifties','zeros'])\n",
    "match_batsman_details = pd.DataFrame(columns=['date','name','team','opposition','venue','batting_innings','innings_played','previous_average','previous_strike_rate','previous_centuries','previous_fifties','previous_zeros','runs','balls'])"
   ]
  },
  {
   "cell_type": "code",
   "execution_count": 24,
   "metadata": {},
   "outputs": [],
   "source": [
    "count = -1"
   ]
  },
  {
   "cell_type": "code",
   "execution_count": 25,
   "metadata": {},
   "outputs": [
    {
     "name": "stdout",
     "output_type": "stream",
     "text": [
      "{'venue': 'Eden Park', 'date': '2004-01-03', 'team1': 'Pakistan', 'team2': 'New Zealand', 'winner': 'New Zealand', 'bat_first': ['Pakistan', 'New Zealand']}\n",
      "{'venue': 'Newlands', 'date': '2004-01-25', 'team1': 'South Africa', 'team2': 'West Indies', 'winner': 'South Africa', 'bat_first': ['South Africa', 'West Indies']}\n",
      "{'venue': 'Kingsmead', 'date': '2004-01-30', 'team1': 'West Indies', 'team2': 'South Africa', 'winner': 'no_result', 'bat_first': ['West Indies', 'South Africa']}\n",
      "{'venue': 'SuperSport Park', 'date': '2004-02-01', 'team1': 'South Africa', 'team2': 'West Indies', 'winner': 'West Indies', 'bat_first': ['South Africa', 'West Indies']}\n",
      "{'venue': 'Rangiri Dambulla International Stadium', 'date': '2004-02-20', 'team1': 'Australia', 'team2': 'Sri Lanka', 'winner': 'Australia', 'bat_first': ['Australia', 'Sri Lanka']}\n",
      "{'venue': 'Rangiri Dambulla International Stadium', 'date': '2004-02-22', 'team1': 'Sri Lanka', 'team2': 'Australia', 'winner': 'Sri Lanka', 'bat_first': ['Sri Lanka', 'Australia']}\n",
      "{'venue': 'Carisbrook', 'date': '2004-02-25', 'team1': 'South Africa', 'team2': 'New Zealand', 'winner': 'New Zealand', 'bat_first': ['South Africa', 'New Zealand']}\n",
      "{'venue': 'R.Premadasa Stadium', 'date': '2004-02-27', 'team1': 'Australia', 'team2': 'Sri Lanka', 'winner': 'Australia', 'bat_first': ['Australia', 'Sri Lanka']}\n",
      "{'venue': 'Harare Sports Club', 'date': '2004-03-14', 'team1': 'Bangladesh', 'team2': 'Zimbabwe', 'winner': 'Zimbabwe', 'bat_first': ['Bangladesh', 'Zimbabwe']}\n",
      "{'venue': 'Rawalpindi Cricket Stadium', 'date': '2004-03-16', 'team1': 'Pakistan', 'team2': 'India', 'winner': 'Pakistan', 'bat_first': ['Pakistan', 'India']}\n",
      "{'venue': 'Arbab Niaz Stadium', 'date': '2004-03-19', 'team1': 'India', 'team2': 'Pakistan', 'winner': 'Pakistan', 'bat_first': ['India', 'Pakistan']}\n",
      "{'venue': 'Gaddafi Stadium', 'date': '2004-03-21', 'team1': 'Pakistan', 'team2': 'India', 'winner': 'India', 'bat_first': ['Pakistan', 'India']}\n",
      "{'venue': 'Gaddafi Stadium', 'date': '2004-03-24', 'team1': 'India', 'team2': 'Pakistan', 'winner': 'India', 'bat_first': ['India', 'Pakistan']}\n",
      "{'venue': 'Queens Sports Club', 'date': '2004-04-20', 'team1': 'Zimbabwe', 'team2': 'Sri Lanka', 'winner': 'Sri Lanka', 'bat_first': ['Zimbabwe', 'Sri Lanka']}\n",
      "{'venue': \"Queen's Park Oval\", 'date': '2004-04-24', 'team1': 'West Indies', 'team2': 'England', 'winner': 'no_result', 'bat_first': ['West Indies', 'England']}\n",
      "{'venue': 'Harare Sports Club', 'date': '2004-04-27', 'team1': 'Sri Lanka', 'team2': 'Zimbabwe', 'winner': 'Sri Lanka', 'bat_first': ['Sri Lanka', 'Zimbabwe']}\n",
      "{'venue': 'Daren Sammy National Cricket Stadium', 'date': '2004-05-02', 'team1': 'England', 'team2': 'West Indies', 'winner': 'West Indies', 'bat_first': ['England', 'West Indies']}\n",
      "{'venue': 'Arnos Vale Ground', 'date': '2004-05-15', 'team1': 'Bangladesh', 'team2': 'West Indies', 'winner': 'West Indies', 'bat_first': ['Bangladesh', 'West Indies']}\n",
      "{'venue': 'Arnos Vale Ground', 'date': '2004-05-16', 'team1': 'West Indies', 'team2': 'Bangladesh', 'winner': 'West Indies', 'bat_first': ['West Indies', 'Bangladesh']}\n",
      "{'venue': 'National Cricket Stadium', 'date': '2004-05-19', 'team1': 'Bangladesh', 'team2': 'West Indies', 'winner': 'West Indies', 'bat_first': ['Bangladesh', 'West Indies']}\n",
      "{'venue': 'Harare Sports Club', 'date': '2004-05-25', 'team1': 'Zimbabwe', 'team2': 'Australia', 'winner': 'Australia', 'bat_first': ['Zimbabwe', 'Australia']}\n",
      "{'venue': 'Harare Sports Club', 'date': '2004-05-27', 'team1': 'Australia', 'team2': 'Zimbabwe', 'winner': 'Australia', 'bat_first': ['Australia', 'Zimbabwe']}\n",
      "{'venue': 'Harare Sports Club', 'date': '2004-05-29', 'team1': 'Zimbabwe', 'team2': 'Australia', 'winner': 'Australia', 'bat_first': ['Zimbabwe', 'Australia']}\n",
      "{'venue': 'Rangiri Dambulla International Stadium', 'date': '2004-08-28', 'team1': 'South Africa', 'team2': 'Sri Lanka', 'winner': 'Sri Lanka', 'bat_first': ['South Africa', 'Sri Lanka']}\n",
      "{'venue': 'Sinhalese Sports Club', 'date': '2004-08-31', 'team1': 'Sri Lanka', 'team2': 'South Africa', 'winner': 'Sri Lanka', 'bat_first': ['Sri Lanka', 'South Africa']}\n",
      "{'venue': 'MA Aziz Stadium', 'date': '2004-11-02', 'team1': 'New Zealand', 'team2': 'Bangladesh', 'winner': 'New Zealand', 'bat_first': ['New Zealand', 'Bangladesh']}\n",
      "{'venue': 'Harare Sports Club', 'date': '2004-11-28', 'team1': 'Zimbabwe', 'team2': 'England', 'winner': 'England', 'bat_first': ['Zimbabwe', 'England']}\n",
      "{'venue': 'Harare Sports Club', 'date': '2004-12-01', 'team1': 'England', 'team2': 'Zimbabwe', 'winner': 'England', 'bat_first': ['England', 'Zimbabwe']}\n",
      "{'venue': 'Queens Sports Club', 'date': '2004-12-05', 'team1': 'England', 'team2': 'Zimbabwe', 'winner': 'England', 'bat_first': ['England', 'Zimbabwe']}\n",
      "{'venue': 'MA Aziz Stadium', 'date': '2004-12-23', 'team1': 'India', 'team2': 'Bangladesh', 'winner': 'India', 'bat_first': ['India', 'Bangladesh']}\n",
      "{'venue': 'Bangabandhu National Stadium', 'date': '2004-12-27', 'team1': 'India', 'team2': 'Bangladesh', 'winner': 'India', 'bat_first': ['India', 'Bangladesh']}\n",
      "{'venue': 'MA Aziz Stadium', 'date': '2005-01-24', 'team1': 'Zimbabwe', 'team2': 'Bangladesh', 'winner': 'Zimbabwe', 'bat_first': ['Zimbabwe', 'Bangladesh']}\n",
      "{'venue': 'The Wanderers Stadium', 'date': '2005-01-30', 'team1': 'South Africa', 'team2': 'England', 'winner': 'England', 'bat_first': ['South Africa', 'England']}\n",
      "{'venue': 'Bangabandhu National Stadium', 'date': '2005-01-31', 'team1': 'Zimbabwe', 'team2': 'Bangladesh', 'winner': 'Bangladesh', 'bat_first': ['Zimbabwe', 'Bangladesh']}\n",
      "{'venue': 'Mangaung Oval', 'date': '2005-02-02', 'team1': 'England', 'team2': 'South Africa', 'winner': 'no_result', 'bat_first': ['England', 'South Africa']}\n",
      "{'venue': \"St George's Park\", 'date': '2005-02-04', 'team1': 'England', 'team2': 'South Africa', 'winner': 'South Africa', 'bat_first': ['England', 'South Africa']}\n",
      "{'venue': 'Newlands', 'date': '2005-02-06', 'team1': 'South Africa', 'team2': 'England', 'winner': 'South Africa', 'bat_first': ['South Africa', 'England']}\n",
      "{'venue': 'Buffalo Park', 'date': '2005-02-09', 'team1': 'South Africa', 'team2': 'England', 'winner': 'South Africa', 'bat_first': ['South Africa', 'England']}\n",
      "{'venue': 'Kingsmead', 'date': '2005-02-11', 'team1': 'South Africa', 'team2': 'England', 'winner': 'no_result', 'bat_first': ['South Africa', 'England']}\n",
      "{'venue': 'SuperSport Park', 'date': '2005-02-13', 'team1': 'England', 'team2': 'South Africa', 'winner': 'South Africa', 'bat_first': ['England', 'South Africa']}\n",
      "{'venue': 'The Wanderers Stadium', 'date': '2005-02-25', 'team1': 'South Africa', 'team2': 'Zimbabwe', 'winner': 'South Africa', 'bat_first': ['South Africa', 'Zimbabwe']}\n",
      "{'venue': 'Eden Park', 'date': '2005-02-26', 'team1': 'Australia', 'team2': 'New Zealand', 'winner': 'Australia', 'bat_first': ['Australia', 'New Zealand']}\n",
      "{'venue': 'Kingsmead', 'date': '2005-02-27', 'team1': 'South Africa', 'team2': 'Zimbabwe', 'winner': 'South Africa', 'bat_first': ['South Africa', 'Zimbabwe']}\n",
      "{'venue': 'Basin Reserve', 'date': '2005-03-01', 'team1': 'New Zealand', 'team2': 'Australia', 'winner': 'Australia', 'bat_first': ['New Zealand', 'Australia']}\n",
      "{'venue': \"St George's Park\", 'date': '2005-03-02', 'team1': 'Zimbabwe', 'team2': 'South Africa', 'winner': 'South Africa', 'bat_first': ['Zimbabwe', 'South Africa']}\n",
      "{'venue': 'Dr. Y.S. Rajasekhara Reddy ACA-VDCA Cricket Stadium', 'date': '2005-04-05', 'team1': 'India', 'team2': 'Pakistan', 'winner': 'India', 'bat_first': ['India', 'Pakistan']}\n",
      "{'venue': 'Sardar Patel (Gujarat) Stadium, Motera', 'date': '2005-04-12', 'team1': 'India', 'team2': 'Pakistan', 'winner': 'Pakistan', 'bat_first': ['India', 'Pakistan']}\n",
      "{'venue': 'Green Park', 'date': '2005-04-15', 'team1': 'India', 'team2': 'Pakistan', 'winner': 'Pakistan', 'bat_first': ['India', 'Pakistan']}\n",
      "{'venue': 'Arun Jaitley Stadium', 'date': '2005-04-17', 'team1': 'Pakistan', 'team2': 'India', 'winner': 'Pakistan', 'bat_first': ['Pakistan', 'India']}\n",
      "{'venue': 'Trent Bridge', 'date': '2004-09-01', 'team1': 'India', 'team2': 'England', 'winner': 'England', 'bat_first': ['India', 'England']}\n",
      "{'venue': 'Kennington Oval', 'date': '2004-09-03', 'team1': 'England', 'team2': 'India', 'winner': 'England', 'bat_first': ['England', 'India']}\n",
      "{'venue': \"Lord's\", 'date': '2004-09-05', 'team1': 'India', 'team2': 'England', 'winner': 'India', 'bat_first': ['India', 'England']}\n",
      "{'venue': 'Melbourne Cricket Ground', 'date': '2004-01-09', 'team1': 'Australia', 'team2': 'India', 'winner': 'Australia', 'bat_first': ['Australia', 'India']}\n",
      "{'venue': 'Sydney Cricket Ground', 'date': '2004-01-11', 'team1': 'Australia', 'team2': 'Zimbabwe', 'winner': 'Australia', 'bat_first': ['Australia', 'Zimbabwe']}\n",
      "{'venue': 'Bellerive Oval', 'date': '2004-01-14', 'team1': 'Zimbabwe', 'team2': 'India', 'winner': 'India', 'bat_first': ['Zimbabwe', 'India']}\n",
      "{'venue': 'Bellerive Oval', 'date': '2004-01-16', 'team1': 'Australia', 'team2': 'Zimbabwe', 'winner': 'Australia', 'bat_first': ['Australia', 'Zimbabwe']}\n",
      "{'venue': 'Brisbane Cricket Ground', 'date': '2004-01-18', 'team1': 'India', 'team2': 'Australia', 'winner': 'India', 'bat_first': ['India', 'Australia']}\n",
      "{'venue': 'Brisbane Cricket Ground', 'date': '2004-01-20', 'team1': 'India', 'team2': 'Zimbabwe', 'winner': 'India', 'bat_first': ['India', 'Zimbabwe']}\n",
      "{'venue': 'Sydney Cricket Ground', 'date': '2004-01-22', 'team1': 'India', 'team2': 'Australia', 'winner': 'Australia', 'bat_first': ['India', 'Australia']}\n",
      "{'venue': 'Melbourne Cricket Ground', 'date': '2004-01-29', 'team1': 'Australia', 'team2': 'Zimbabwe', 'winner': 'no_result', 'bat_first': ['Australia', 'Zimbabwe']}\n"
     ]
    }
   ],
   "source": [
    "for filename in os.listdir('odis_copy'):\n",
    "    if filename.endswith('.yaml'):\n",
    "        player_details = extract_details('odis_copy/'+filename)\n",
    "        for player in player_details.index:\n",
    "            count += 1\n",
    "            try:\n",
    "                overall_batsman_details.index.get_loc(player)\n",
    "            except:\n",
    "                overall_batsman_details.loc[player,'team'] = player_details.loc[player,'team']\n",
    "                overall_batsman_details.loc[player,'innings'] = 0\n",
    "                overall_batsman_details.loc[player,'runs'] = 0\n",
    "                overall_batsman_details.loc[player,'balls'] = 0\n",
    "                overall_batsman_details.loc[player,'strike_rate'] = 0\n",
    "                overall_batsman_details.loc[player, 'average'] = 0\n",
    "                overall_batsman_details.loc[player,'zeros'] = 0\n",
    "                overall_batsman_details.loc[player,'fifties'] = 0\n",
    "                overall_batsman_details.loc[player,'centuries'] = 0\n",
    "            \n",
    "            match_batsman_details.loc[count,'date'] = player_details.loc[player,'date']\n",
    "            match_batsman_details.loc[count,'name'] = player\n",
    "            match_batsman_details.loc[count,'team'] = player_details.loc[player,'team']\n",
    "            match_batsman_details.loc[count,'opposition'] = player_details.loc[player,'opposition']\n",
    "            match_batsman_details.loc[count,'venue'] = player_details.loc[player,'venue']\n",
    "            match_batsman_details.loc[count,'innings_played'] = overall_batsman_details.loc[player,'innings']\n",
    "            match_batsman_details.loc[count,'previous_average'] = overall_batsman_details.loc[player, 'average']\n",
    "            match_batsman_details.loc[count,'previous_strike_rate'] = overall_batsman_details.loc[player, 'strike_rate']\n",
    "            match_batsman_details.loc[count,'previous_centuries'] = overall_batsman_details.loc[player,'centuries']\n",
    "            match_batsman_details.loc[count,'previous_fifties'] = overall_batsman_details.loc[player,'fifties']\n",
    "            match_batsman_details.loc[count,'previous_zeros'] = overall_batsman_details.loc[player,'zeros']\n",
    "            match_batsman_details.loc[count,'runs'] = player_details.loc[player,'runs']\n",
    "            \n",
    "            overall_batsman_details.loc[player,'innings'] += 1\n",
    "            overall_batsman_details.loc[player,'runs'] += player_details.loc[player,'runs']\n",
    "            overall_batsman_details.loc[player,'balls'] += player_details.loc[player,'balls']\n",
    "            overall_batsman_details.loc[player,'strike_rate'] = (((player_details.loc[player, 'runs']/player_details.loc[player, 'balls'])*100)+(overall_batsman_details.loc[player,'strike_rate']*(overall_batsman_details.loc[player,'innings']-1)))/overall_batsman_details.loc[player,'innings']\n",
    "            overall_batsman_details.loc[player,'average'] = ((player_details.loc[player, 'runs'])+(overall_batsman_details.loc[player,'average']*(overall_batsman_details.loc[player,'innings']-1)))/overall_batsman_details.loc[player,'innings']\n",
    "            if player_details.loc[player,'runs'] == 0:\n",
    "                overall_batsman_details.loc[player,'zeros'] += 1\n",
    "            elif player_details.loc[player,'runs']>=50 and player_details.loc[player,'runs']<100:\n",
    "                overall_batsman_details.loc[player,'fifties'] += 1\n",
    "            elif player_details.loc[player,'runs']>=100:\n",
    "                overall_batsman_details.loc[player,'centuries'] += 1"
   ]
  },
  {
   "cell_type": "code",
   "execution_count": 26,
   "metadata": {},
   "outputs": [],
   "source": [
    "overall_batsman_details.index.name = 'player_name'"
   ]
  },
  {
   "cell_type": "code",
   "execution_count": 27,
   "metadata": {},
   "outputs": [],
   "source": [
    "overall_batsman_details.to_csv('overall_batsman_details.csv')\n",
    "match_batsman_details.to_csv('player_details/match_batsman_details.csv')"
   ]
  },
  {
   "cell_type": "code",
   "execution_count": null,
   "metadata": {},
   "outputs": [],
   "source": []
  },
  {
   "cell_type": "code",
   "execution_count": null,
   "metadata": {},
   "outputs": [],
   "source": []
  },
  {
   "cell_type": "code",
   "execution_count": null,
   "metadata": {},
   "outputs": [],
   "source": []
  },
  {
   "cell_type": "code",
   "execution_count": null,
   "metadata": {},
   "outputs": [],
   "source": []
  },
  {
   "cell_type": "code",
   "execution_count": null,
   "metadata": {},
   "outputs": [],
   "source": []
  },
  {
   "cell_type": "code",
   "execution_count": null,
   "metadata": {},
   "outputs": [],
   "source": []
  },
  {
   "cell_type": "code",
   "execution_count": null,
   "metadata": {},
   "outputs": [],
   "source": []
  },
  {
   "cell_type": "code",
   "execution_count": null,
   "metadata": {},
   "outputs": [],
   "source": []
  },
  {
   "cell_type": "code",
   "execution_count": null,
   "metadata": {},
   "outputs": [],
   "source": []
  },
  {
   "cell_type": "code",
   "execution_count": null,
   "metadata": {},
   "outputs": [],
   "source": []
  },
  {
   "cell_type": "code",
   "execution_count": null,
   "metadata": {},
   "outputs": [],
   "source": []
  },
  {
   "cell_type": "code",
   "execution_count": null,
   "metadata": {},
   "outputs": [],
   "source": []
  },
  {
   "cell_type": "code",
   "execution_count": null,
   "metadata": {},
   "outputs": [],
   "source": []
  },
  {
   "cell_type": "code",
   "execution_count": null,
   "metadata": {},
   "outputs": [],
   "source": []
  },
  {
   "cell_type": "code",
   "execution_count": null,
   "metadata": {},
   "outputs": [],
   "source": []
  },
  {
   "cell_type": "code",
   "execution_count": null,
   "metadata": {},
   "outputs": [],
   "source": []
  },
  {
   "cell_type": "code",
   "execution_count": null,
   "metadata": {},
   "outputs": [],
   "source": []
  }
 ],
 "metadata": {
  "kernelspec": {
   "display_name": "Python 3",
   "language": "python",
   "name": "python3"
  },
  "language_info": {
   "codemirror_mode": {
    "name": "ipython",
    "version": 3
   },
   "file_extension": ".py",
   "mimetype": "text/x-python",
   "name": "python",
   "nbconvert_exporter": "python",
   "pygments_lexer": "ipython3",
   "version": "3.8.8"
  }
 },
 "nbformat": 4,
 "nbformat_minor": 2
}
