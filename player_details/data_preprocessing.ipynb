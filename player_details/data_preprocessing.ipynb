{
 "cells": [
  {
   "cell_type": "code",
   "execution_count": 80,
   "metadata": {},
   "outputs": [],
   "source": [
    "import pandas as pd\n",
    "import matplotlib.pyplot as plt \n",
    "import numpy as np"
   ]
  },
  {
   "cell_type": "code",
   "execution_count": 81,
   "metadata": {},
   "outputs": [],
   "source": [
    "match_df = pd.read_csv('match_batsman_details.csv')"
   ]
  },
  {
   "cell_type": "code",
   "execution_count": 82,
   "metadata": {},
   "outputs": [],
   "source": [
    "overall_df = pd.read_csv('../overall_batsman_details.csv')"
   ]
  },
  {
   "cell_type": "code",
   "execution_count": 83,
   "metadata": {},
   "outputs": [
    {
     "data": {
      "text/html": [
       "<div>\n",
       "<style scoped>\n",
       "    .dataframe tbody tr th:only-of-type {\n",
       "        vertical-align: middle;\n",
       "    }\n",
       "\n",
       "    .dataframe tbody tr th {\n",
       "        vertical-align: top;\n",
       "    }\n",
       "\n",
       "    .dataframe thead th {\n",
       "        text-align: right;\n",
       "    }\n",
       "</style>\n",
       "<table border=\"1\" class=\"dataframe\">\n",
       "  <thead>\n",
       "    <tr style=\"text-align: right;\">\n",
       "      <th></th>\n",
       "      <th>Unnamed: 0</th>\n",
       "      <th>date</th>\n",
       "      <th>name</th>\n",
       "      <th>team</th>\n",
       "      <th>opposition</th>\n",
       "      <th>venue</th>\n",
       "      <th>batting_innings</th>\n",
       "      <th>innings_played</th>\n",
       "      <th>previous_average</th>\n",
       "      <th>previous_strike_rate</th>\n",
       "      <th>previous_centuries</th>\n",
       "      <th>previous_fifties</th>\n",
       "      <th>previous_zeros</th>\n",
       "      <th>runs</th>\n",
       "      <th>balls</th>\n",
       "    </tr>\n",
       "  </thead>\n",
       "  <tbody>\n",
       "    <tr>\n",
       "      <th>0</th>\n",
       "      <td>0</td>\n",
       "      <td>2017-01-13</td>\n",
       "      <td>DA Warner</td>\n",
       "      <td>Australia</td>\n",
       "      <td>Pakistan</td>\n",
       "      <td>Brisbane Cricket Ground, Woolloongabba</td>\n",
       "      <td>NaN</td>\n",
       "      <td>0</td>\n",
       "      <td>0.0</td>\n",
       "      <td>0.0</td>\n",
       "      <td>0</td>\n",
       "      <td>0</td>\n",
       "      <td>0</td>\n",
       "      <td>7</td>\n",
       "      <td>NaN</td>\n",
       "    </tr>\n",
       "    <tr>\n",
       "      <th>1</th>\n",
       "      <td>1</td>\n",
       "      <td>2017-01-13</td>\n",
       "      <td>TM Head</td>\n",
       "      <td>Australia</td>\n",
       "      <td>Pakistan</td>\n",
       "      <td>Brisbane Cricket Ground, Woolloongabba</td>\n",
       "      <td>NaN</td>\n",
       "      <td>0</td>\n",
       "      <td>0.0</td>\n",
       "      <td>0.0</td>\n",
       "      <td>0</td>\n",
       "      <td>0</td>\n",
       "      <td>0</td>\n",
       "      <td>39</td>\n",
       "      <td>NaN</td>\n",
       "    </tr>\n",
       "    <tr>\n",
       "      <th>2</th>\n",
       "      <td>2</td>\n",
       "      <td>2017-01-13</td>\n",
       "      <td>SPD Smith</td>\n",
       "      <td>Australia</td>\n",
       "      <td>Pakistan</td>\n",
       "      <td>Brisbane Cricket Ground, Woolloongabba</td>\n",
       "      <td>NaN</td>\n",
       "      <td>0</td>\n",
       "      <td>0.0</td>\n",
       "      <td>0.0</td>\n",
       "      <td>0</td>\n",
       "      <td>0</td>\n",
       "      <td>0</td>\n",
       "      <td>0</td>\n",
       "      <td>NaN</td>\n",
       "    </tr>\n",
       "    <tr>\n",
       "      <th>3</th>\n",
       "      <td>3</td>\n",
       "      <td>2017-01-13</td>\n",
       "      <td>CA Lynn</td>\n",
       "      <td>Australia</td>\n",
       "      <td>Pakistan</td>\n",
       "      <td>Brisbane Cricket Ground, Woolloongabba</td>\n",
       "      <td>NaN</td>\n",
       "      <td>0</td>\n",
       "      <td>0.0</td>\n",
       "      <td>0.0</td>\n",
       "      <td>0</td>\n",
       "      <td>0</td>\n",
       "      <td>0</td>\n",
       "      <td>16</td>\n",
       "      <td>NaN</td>\n",
       "    </tr>\n",
       "    <tr>\n",
       "      <th>4</th>\n",
       "      <td>4</td>\n",
       "      <td>2017-01-13</td>\n",
       "      <td>MR Marsh</td>\n",
       "      <td>Australia</td>\n",
       "      <td>Pakistan</td>\n",
       "      <td>Brisbane Cricket Ground, Woolloongabba</td>\n",
       "      <td>NaN</td>\n",
       "      <td>0</td>\n",
       "      <td>0.0</td>\n",
       "      <td>0.0</td>\n",
       "      <td>0</td>\n",
       "      <td>0</td>\n",
       "      <td>0</td>\n",
       "      <td>4</td>\n",
       "      <td>NaN</td>\n",
       "    </tr>\n",
       "  </tbody>\n",
       "</table>\n",
       "</div>"
      ],
      "text/plain": [
       "   Unnamed: 0        date       name       team opposition  \\\n",
       "0           0  2017-01-13  DA Warner  Australia   Pakistan   \n",
       "1           1  2017-01-13    TM Head  Australia   Pakistan   \n",
       "2           2  2017-01-13  SPD Smith  Australia   Pakistan   \n",
       "3           3  2017-01-13    CA Lynn  Australia   Pakistan   \n",
       "4           4  2017-01-13   MR Marsh  Australia   Pakistan   \n",
       "\n",
       "                                    venue  batting_innings  innings_played  \\\n",
       "0  Brisbane Cricket Ground, Woolloongabba              NaN               0   \n",
       "1  Brisbane Cricket Ground, Woolloongabba              NaN               0   \n",
       "2  Brisbane Cricket Ground, Woolloongabba              NaN               0   \n",
       "3  Brisbane Cricket Ground, Woolloongabba              NaN               0   \n",
       "4  Brisbane Cricket Ground, Woolloongabba              NaN               0   \n",
       "\n",
       "   previous_average  previous_strike_rate  previous_centuries  \\\n",
       "0               0.0                   0.0                   0   \n",
       "1               0.0                   0.0                   0   \n",
       "2               0.0                   0.0                   0   \n",
       "3               0.0                   0.0                   0   \n",
       "4               0.0                   0.0                   0   \n",
       "\n",
       "   previous_fifties  previous_zeros  runs  balls  \n",
       "0                 0               0     7    NaN  \n",
       "1                 0               0    39    NaN  \n",
       "2                 0               0     0    NaN  \n",
       "3                 0               0    16    NaN  \n",
       "4                 0               0     4    NaN  "
      ]
     },
     "execution_count": 83,
     "metadata": {},
     "output_type": "execute_result"
    }
   ],
   "source": [
    "match_df.head()"
   ]
  },
  {
   "cell_type": "code",
   "execution_count": null,
   "metadata": {},
   "outputs": [],
   "source": []
  },
  {
   "cell_type": "code",
   "execution_count": null,
   "metadata": {},
   "outputs": [],
   "source": []
  },
  {
   "cell_type": "code",
   "execution_count": null,
   "metadata": {},
   "outputs": [],
   "source": []
  },
  {
   "cell_type": "code",
   "execution_count": null,
   "metadata": {},
   "outputs": [],
   "source": []
  },
  {
   "cell_type": "code",
   "execution_count": null,
   "metadata": {},
   "outputs": [],
   "source": []
  },
  {
   "cell_type": "code",
   "execution_count": 84,
   "metadata": {},
   "outputs": [
    {
     "data": {
      "text/html": [
       "<div>\n",
       "<style scoped>\n",
       "    .dataframe tbody tr th:only-of-type {\n",
       "        vertical-align: middle;\n",
       "    }\n",
       "\n",
       "    .dataframe tbody tr th {\n",
       "        vertical-align: top;\n",
       "    }\n",
       "\n",
       "    .dataframe thead th {\n",
       "        text-align: right;\n",
       "    }\n",
       "</style>\n",
       "<table border=\"1\" class=\"dataframe\">\n",
       "  <thead>\n",
       "    <tr style=\"text-align: right;\">\n",
       "      <th></th>\n",
       "      <th>player_name</th>\n",
       "      <th>team</th>\n",
       "      <th>innings</th>\n",
       "      <th>overall_runs</th>\n",
       "      <th>balls</th>\n",
       "      <th>average</th>\n",
       "      <th>strike_rate</th>\n",
       "      <th>centuries</th>\n",
       "      <th>fifties</th>\n",
       "      <th>zeros</th>\n",
       "    </tr>\n",
       "  </thead>\n",
       "  <tbody>\n",
       "    <tr>\n",
       "      <th>0</th>\n",
       "      <td>DA Warner</td>\n",
       "      <td>Australia</td>\n",
       "      <td>125</td>\n",
       "      <td>5455</td>\n",
       "      <td>5828</td>\n",
       "      <td>43.640000</td>\n",
       "      <td>84.561309</td>\n",
       "      <td>18</td>\n",
       "      <td>23</td>\n",
       "      <td>1</td>\n",
       "    </tr>\n",
       "    <tr>\n",
       "      <th>1</th>\n",
       "      <td>TM Head</td>\n",
       "      <td>Australia</td>\n",
       "      <td>39</td>\n",
       "      <td>1273</td>\n",
       "      <td>1442</td>\n",
       "      <td>32.641026</td>\n",
       "      <td>84.581456</td>\n",
       "      <td>1</td>\n",
       "      <td>10</td>\n",
       "      <td>1</td>\n",
       "    </tr>\n",
       "    <tr>\n",
       "      <th>2</th>\n",
       "      <td>SPD Smith</td>\n",
       "      <td>Australia</td>\n",
       "      <td>113</td>\n",
       "      <td>4378</td>\n",
       "      <td>5041</td>\n",
       "      <td>38.743363</td>\n",
       "      <td>83.123383</td>\n",
       "      <td>11</td>\n",
       "      <td>25</td>\n",
       "      <td>5</td>\n",
       "    </tr>\n",
       "    <tr>\n",
       "      <th>3</th>\n",
       "      <td>CA Lynn</td>\n",
       "      <td>Australia</td>\n",
       "      <td>4</td>\n",
       "      <td>75</td>\n",
       "      <td>92</td>\n",
       "      <td>18.750000</td>\n",
       "      <td>65.290179</td>\n",
       "      <td>0</td>\n",
       "      <td>0</td>\n",
       "      <td>1</td>\n",
       "    </tr>\n",
       "    <tr>\n",
       "      <th>4</th>\n",
       "      <td>MR Marsh</td>\n",
       "      <td>Australia</td>\n",
       "      <td>59</td>\n",
       "      <td>1672</td>\n",
       "      <td>1872</td>\n",
       "      <td>28.338983</td>\n",
       "      <td>79.700914</td>\n",
       "      <td>1</td>\n",
       "      <td>12</td>\n",
       "      <td>4</td>\n",
       "    </tr>\n",
       "  </tbody>\n",
       "</table>\n",
       "</div>"
      ],
      "text/plain": [
       "  player_name       team  innings  overall_runs  balls    average  \\\n",
       "0   DA Warner  Australia      125          5455   5828  43.640000   \n",
       "1     TM Head  Australia       39          1273   1442  32.641026   \n",
       "2   SPD Smith  Australia      113          4378   5041  38.743363   \n",
       "3     CA Lynn  Australia        4            75     92  18.750000   \n",
       "4    MR Marsh  Australia       59          1672   1872  28.338983   \n",
       "\n",
       "   strike_rate  centuries  fifties  zeros  \n",
       "0    84.561309         18       23      1  \n",
       "1    84.581456          1       10      1  \n",
       "2    83.123383         11       25      5  \n",
       "3    65.290179          0        0      1  \n",
       "4    79.700914          1       12      4  "
      ]
     },
     "execution_count": 84,
     "metadata": {},
     "output_type": "execute_result"
    }
   ],
   "source": [
    "overall_df.head()"
   ]
  },
  {
   "cell_type": "code",
   "execution_count": 85,
   "metadata": {},
   "outputs": [
    {
     "data": {
      "text/plain": [
       "(1873, 10)"
      ]
     },
     "execution_count": 85,
     "metadata": {},
     "output_type": "execute_result"
    }
   ],
   "source": [
    "overall_df.shape"
   ]
  },
  {
   "cell_type": "code",
   "execution_count": 86,
   "metadata": {},
   "outputs": [
    {
     "data": {
      "text/plain": [
       "Index(['player_name', 'team', 'innings', 'overall_runs', 'balls', 'average',\n",
       "       'strike_rate', 'centuries', 'fifties', 'zeros'],\n",
       "      dtype='object')"
      ]
     },
     "execution_count": 86,
     "metadata": {},
     "output_type": "execute_result"
    }
   ],
   "source": [
    "overall_df.columns"
   ]
  },
  {
   "cell_type": "code",
   "execution_count": 87,
   "metadata": {},
   "outputs": [
    {
     "data": {
      "text/plain": [
       "Index(['Unnamed: 0', 'date', 'name', 'team', 'opposition', 'venue',\n",
       "       'batting_innings', 'innings_played', 'previous_average',\n",
       "       'previous_strike_rate', 'previous_centuries', 'previous_fifties',\n",
       "       'previous_zeros', 'runs', 'balls'],\n",
       "      dtype='object')"
      ]
     },
     "execution_count": 87,
     "metadata": {},
     "output_type": "execute_result"
    }
   ],
   "source": [
    "match_df.columns"
   ]
  },
  {
   "cell_type": "code",
   "execution_count": 88,
   "metadata": {},
   "outputs": [
    {
     "data": {
      "text/plain": [
       "pandas.core.series.Series"
      ]
     },
     "execution_count": 88,
     "metadata": {},
     "output_type": "execute_result"
    }
   ],
   "source": [
    "type(match_df['date']) "
   ]
  },
  {
   "cell_type": "code",
   "execution_count": 89,
   "metadata": {},
   "outputs": [],
   "source": [
    "#match = pd.to_datetime(match_df['date'])"
   ]
  },
  {
   "cell_type": "code",
   "execution_count": 90,
   "metadata": {},
   "outputs": [],
   "source": [
    "#match_df['date'] = match"
   ]
  },
  {
   "cell_type": "code",
   "execution_count": 91,
   "metadata": {},
   "outputs": [],
   "source": [
    "#type(match_df['date'])"
   ]
  },
  {
   "cell_type": "code",
   "execution_count": 92,
   "metadata": {},
   "outputs": [],
   "source": [
    "match_df = match_df.drop(['date','Unnamed: 0','batting_innings','balls','team'],axis=1)"
   ]
  },
  {
   "cell_type": "code",
   "execution_count": 93,
   "metadata": {},
   "outputs": [],
   "source": [
    "df = match_df.merge(overall_df,left_on='name',right_on='player_name')"
   ]
  },
  {
   "cell_type": "code",
   "execution_count": 94,
   "metadata": {},
   "outputs": [],
   "source": [
    "df.to_csv(\"mergedDF.csv\")"
   ]
  },
  {
   "cell_type": "code",
   "execution_count": 95,
   "metadata": {},
   "outputs": [
    {
     "data": {
      "text/html": [
       "<div>\n",
       "<style scoped>\n",
       "    .dataframe tbody tr th:only-of-type {\n",
       "        vertical-align: middle;\n",
       "    }\n",
       "\n",
       "    .dataframe tbody tr th {\n",
       "        vertical-align: top;\n",
       "    }\n",
       "\n",
       "    .dataframe thead th {\n",
       "        text-align: right;\n",
       "    }\n",
       "</style>\n",
       "<table border=\"1\" class=\"dataframe\">\n",
       "  <thead>\n",
       "    <tr style=\"text-align: right;\">\n",
       "      <th></th>\n",
       "      <th>innings_played</th>\n",
       "      <th>previous_average</th>\n",
       "      <th>previous_strike_rate</th>\n",
       "      <th>previous_centuries</th>\n",
       "      <th>previous_fifties</th>\n",
       "      <th>previous_zeros</th>\n",
       "      <th>runs</th>\n",
       "      <th>innings</th>\n",
       "      <th>overall_runs</th>\n",
       "      <th>balls</th>\n",
       "      <th>average</th>\n",
       "      <th>strike_rate</th>\n",
       "      <th>centuries</th>\n",
       "      <th>fifties</th>\n",
       "      <th>zeros</th>\n",
       "    </tr>\n",
       "  </thead>\n",
       "  <tbody>\n",
       "    <tr>\n",
       "      <th>count</th>\n",
       "      <td>38594.000000</td>\n",
       "      <td>38594.000000</td>\n",
       "      <td>38594.000000</td>\n",
       "      <td>38594.000000</td>\n",
       "      <td>38594.000000</td>\n",
       "      <td>38594.000000</td>\n",
       "      <td>38594.000000</td>\n",
       "      <td>38594.000000</td>\n",
       "      <td>38594.000000</td>\n",
       "      <td>38594.000000</td>\n",
       "      <td>38594.000000</td>\n",
       "      <td>38594.000000</td>\n",
       "      <td>38594.000000</td>\n",
       "      <td>38594.000000</td>\n",
       "      <td>38594.000000</td>\n",
       "    </tr>\n",
       "    <tr>\n",
       "      <th>mean</th>\n",
       "      <td>38.284941</td>\n",
       "      <td>23.378583</td>\n",
       "      <td>67.063590</td>\n",
       "      <td>1.795797</td>\n",
       "      <td>6.573975</td>\n",
       "      <td>2.720552</td>\n",
       "      <td>23.943592</td>\n",
       "      <td>77.569881</td>\n",
       "      <td>2325.919029</td>\n",
       "      <td>2841.601726</td>\n",
       "      <td>23.943592</td>\n",
       "      <td>69.945701</td>\n",
       "      <td>3.704928</td>\n",
       "      <td>13.231202</td>\n",
       "      <td>5.543815</td>\n",
       "    </tr>\n",
       "    <tr>\n",
       "      <th>std</th>\n",
       "      <td>44.807299</td>\n",
       "      <td>14.185508</td>\n",
       "      <td>25.456710</td>\n",
       "      <td>3.867134</td>\n",
       "      <td>10.123423</td>\n",
       "      <td>3.169558</td>\n",
       "      <td>27.720348</td>\n",
       "      <td>67.223669</td>\n",
       "      <td>2619.120112</td>\n",
       "      <td>3098.724255</td>\n",
       "      <td>11.819724</td>\n",
       "      <td>16.974603</td>\n",
       "      <td>6.450684</td>\n",
       "      <td>16.160001</td>\n",
       "      <td>4.612568</td>\n",
       "    </tr>\n",
       "    <tr>\n",
       "      <th>min</th>\n",
       "      <td>0.000000</td>\n",
       "      <td>0.000000</td>\n",
       "      <td>0.000000</td>\n",
       "      <td>0.000000</td>\n",
       "      <td>0.000000</td>\n",
       "      <td>0.000000</td>\n",
       "      <td>0.000000</td>\n",
       "      <td>1.000000</td>\n",
       "      <td>0.000000</td>\n",
       "      <td>1.000000</td>\n",
       "      <td>0.000000</td>\n",
       "      <td>0.000000</td>\n",
       "      <td>0.000000</td>\n",
       "      <td>0.000000</td>\n",
       "      <td>0.000000</td>\n",
       "    </tr>\n",
       "    <tr>\n",
       "      <th>25%</th>\n",
       "      <td>7.000000</td>\n",
       "      <td>11.800000</td>\n",
       "      <td>57.306836</td>\n",
       "      <td>0.000000</td>\n",
       "      <td>0.000000</td>\n",
       "      <td>0.000000</td>\n",
       "      <td>4.000000</td>\n",
       "      <td>25.000000</td>\n",
       "      <td>324.000000</td>\n",
       "      <td>474.000000</td>\n",
       "      <td>14.071429</td>\n",
       "      <td>60.276319</td>\n",
       "      <td>0.000000</td>\n",
       "      <td>1.000000</td>\n",
       "      <td>2.000000</td>\n",
       "    </tr>\n",
       "    <tr>\n",
       "      <th>50%</th>\n",
       "      <td>21.000000</td>\n",
       "      <td>23.750000</td>\n",
       "      <td>69.776680</td>\n",
       "      <td>0.000000</td>\n",
       "      <td>2.000000</td>\n",
       "      <td>2.000000</td>\n",
       "      <td>14.000000</td>\n",
       "      <td>54.000000</td>\n",
       "      <td>1261.000000</td>\n",
       "      <td>1582.000000</td>\n",
       "      <td>24.837838</td>\n",
       "      <td>70.592708</td>\n",
       "      <td>1.000000</td>\n",
       "      <td>6.000000</td>\n",
       "      <td>4.000000</td>\n",
       "    </tr>\n",
       "    <tr>\n",
       "      <th>75%</th>\n",
       "      <td>53.000000</td>\n",
       "      <td>33.666667</td>\n",
       "      <td>80.926392</td>\n",
       "      <td>2.000000</td>\n",
       "      <td>9.000000</td>\n",
       "      <td>4.000000</td>\n",
       "      <td>34.000000</td>\n",
       "      <td>116.000000</td>\n",
       "      <td>3583.000000</td>\n",
       "      <td>4406.000000</td>\n",
       "      <td>33.048913</td>\n",
       "      <td>80.089563</td>\n",
       "      <td>5.000000</td>\n",
       "      <td>21.000000</td>\n",
       "      <td>9.000000</td>\n",
       "    </tr>\n",
       "    <tr>\n",
       "      <th>max</th>\n",
       "      <td>280.000000</td>\n",
       "      <td>146.000000</td>\n",
       "      <td>400.000000</td>\n",
       "      <td>43.000000</td>\n",
       "      <td>76.000000</td>\n",
       "      <td>28.000000</td>\n",
       "      <td>264.000000</td>\n",
       "      <td>281.000000</td>\n",
       "      <td>12169.000000</td>\n",
       "      <td>13880.000000</td>\n",
       "      <td>76.500000</td>\n",
       "      <td>328.571429</td>\n",
       "      <td>43.000000</td>\n",
       "      <td>76.000000</td>\n",
       "      <td>29.000000</td>\n",
       "    </tr>\n",
       "  </tbody>\n",
       "</table>\n",
       "</div>"
      ],
      "text/plain": [
       "       innings_played  previous_average  previous_strike_rate  \\\n",
       "count    38594.000000      38594.000000          38594.000000   \n",
       "mean        38.284941         23.378583             67.063590   \n",
       "std         44.807299         14.185508             25.456710   \n",
       "min          0.000000          0.000000              0.000000   \n",
       "25%          7.000000         11.800000             57.306836   \n",
       "50%         21.000000         23.750000             69.776680   \n",
       "75%         53.000000         33.666667             80.926392   \n",
       "max        280.000000        146.000000            400.000000   \n",
       "\n",
       "       previous_centuries  previous_fifties  previous_zeros          runs  \\\n",
       "count        38594.000000      38594.000000    38594.000000  38594.000000   \n",
       "mean             1.795797          6.573975        2.720552     23.943592   \n",
       "std              3.867134         10.123423        3.169558     27.720348   \n",
       "min              0.000000          0.000000        0.000000      0.000000   \n",
       "25%              0.000000          0.000000        0.000000      4.000000   \n",
       "50%              0.000000          2.000000        2.000000     14.000000   \n",
       "75%              2.000000          9.000000        4.000000     34.000000   \n",
       "max             43.000000         76.000000       28.000000    264.000000   \n",
       "\n",
       "            innings  overall_runs         balls       average   strike_rate  \\\n",
       "count  38594.000000  38594.000000  38594.000000  38594.000000  38594.000000   \n",
       "mean      77.569881   2325.919029   2841.601726     23.943592     69.945701   \n",
       "std       67.223669   2619.120112   3098.724255     11.819724     16.974603   \n",
       "min        1.000000      0.000000      1.000000      0.000000      0.000000   \n",
       "25%       25.000000    324.000000    474.000000     14.071429     60.276319   \n",
       "50%       54.000000   1261.000000   1582.000000     24.837838     70.592708   \n",
       "75%      116.000000   3583.000000   4406.000000     33.048913     80.089563   \n",
       "max      281.000000  12169.000000  13880.000000     76.500000    328.571429   \n",
       "\n",
       "          centuries       fifties         zeros  \n",
       "count  38594.000000  38594.000000  38594.000000  \n",
       "mean       3.704928     13.231202      5.543815  \n",
       "std        6.450684     16.160001      4.612568  \n",
       "min        0.000000      0.000000      0.000000  \n",
       "25%        0.000000      1.000000      2.000000  \n",
       "50%        1.000000      6.000000      4.000000  \n",
       "75%        5.000000     21.000000      9.000000  \n",
       "max       43.000000     76.000000     29.000000  "
      ]
     },
     "execution_count": 95,
     "metadata": {},
     "output_type": "execute_result"
    }
   ],
   "source": [
    "df.describe()"
   ]
  },
  {
   "cell_type": "code",
   "execution_count": 96,
   "metadata": {},
   "outputs": [
    {
     "data": {
      "text/plain": [
       "name                    0\n",
       "opposition              0\n",
       "venue                   0\n",
       "innings_played          0\n",
       "previous_average        0\n",
       "previous_strike_rate    0\n",
       "previous_centuries      0\n",
       "previous_fifties        0\n",
       "previous_zeros          0\n",
       "runs                    0\n",
       "player_name             0\n",
       "team                    0\n",
       "innings                 0\n",
       "overall_runs            0\n",
       "balls                   0\n",
       "average                 0\n",
       "strike_rate             0\n",
       "centuries               0\n",
       "fifties                 0\n",
       "zeros                   0\n",
       "dtype: int64"
      ]
     },
     "execution_count": 96,
     "metadata": {},
     "output_type": "execute_result"
    }
   ],
   "source": [
    "df.isnull().sum()"
   ]
  },
  {
   "cell_type": "markdown",
   "metadata": {},
   "source": []
  },
  {
   "cell_type": "code",
   "execution_count": 97,
   "metadata": {},
   "outputs": [],
   "source": [
    "import seaborn as sns"
   ]
  },
  {
   "cell_type": "code",
   "execution_count": 98,
   "metadata": {},
   "outputs": [
    {
     "data": {
      "text/plain": [
       "<seaborn.axisgrid.FacetGrid at 0x13f05a5eeb0>"
      ]
     },
     "execution_count": 98,
     "metadata": {},
     "output_type": "execute_result"
    },
    {
     "data": {
      "image/png": "[encoded data removed]",
      "text/plain": [
       "<Figure size 360x360 with 1 Axes>"
      ]
     },
     "metadata": {
      "needs_background": "light"
     },
     "output_type": "display_data"
    }
   ],
   "source": [
    "sns.displot(df['innings_played'])"
   ]
  },
  {
   "cell_type": "code",
   "execution_count": 99,
   "metadata": {},
   "outputs": [
    {
     "data": {
      "text/plain": [
       "(38594, 20)"
      ]
     },
     "execution_count": 99,
     "metadata": {},
     "output_type": "execute_result"
    }
   ],
   "source": [
    "df.shape"
   ]
  },
  {
   "cell_type": "code",
   "execution_count": 100,
   "metadata": {},
   "outputs": [],
   "source": [
    "df2 = df[df['name']=='V Kohli']\n"
   ]
  },
  {
   "cell_type": "code",
   "execution_count": null,
   "metadata": {},
   "outputs": [],
   "source": []
  },
  {
   "cell_type": "code",
   "execution_count": null,
   "metadata": {},
   "outputs": [],
   "source": []
  },
  {
   "cell_type": "code",
   "execution_count": null,
   "metadata": {},
   "outputs": [],
   "source": []
  },
  {
   "cell_type": "code",
   "execution_count": null,
   "metadata": {},
   "outputs": [],
   "source": []
  },
  {
   "cell_type": "code",
   "execution_count": null,
   "metadata": {},
   "outputs": [],
   "source": []
  },
  {
   "cell_type": "code",
   "execution_count": 101,
   "metadata": {},
   "outputs": [
    {
     "data": {
      "text/html": [
       "<div>\n",
       "<style scoped>\n",
       "    .dataframe tbody tr th:only-of-type {\n",
       "        vertical-align: middle;\n",
       "    }\n",
       "\n",
       "    .dataframe tbody tr th {\n",
       "        vertical-align: top;\n",
       "    }\n",
       "\n",
       "    .dataframe thead th {\n",
       "        text-align: right;\n",
       "    }\n",
       "</style>\n",
       "<table border=\"1\" class=\"dataframe\">\n",
       "  <thead>\n",
       "    <tr style=\"text-align: right;\">\n",
       "      <th></th>\n",
       "      <th>name</th>\n",
       "      <th>opposition</th>\n",
       "      <th>venue</th>\n",
       "      <th>innings_played</th>\n",
       "      <th>previous_average</th>\n",
       "      <th>previous_strike_rate</th>\n",
       "      <th>previous_centuries</th>\n",
       "      <th>previous_fifties</th>\n",
       "      <th>previous_zeros</th>\n",
       "      <th>runs</th>\n",
       "      <th>player_name</th>\n",
       "      <th>team</th>\n",
       "      <th>innings</th>\n",
       "      <th>overall_runs</th>\n",
       "      <th>balls</th>\n",
       "      <th>average</th>\n",
       "      <th>strike_rate</th>\n",
       "      <th>centuries</th>\n",
       "      <th>fifties</th>\n",
       "      <th>zeros</th>\n",
       "    </tr>\n",
       "  </thead>\n",
       "  <tbody>\n",
       "    <tr>\n",
       "      <th>9362</th>\n",
       "      <td>V Kohli</td>\n",
       "      <td>Pakistan</td>\n",
       "      <td>Edgbaston</td>\n",
       "      <td>0</td>\n",
       "      <td>0.000000</td>\n",
       "      <td>0.000000</td>\n",
       "      <td>0</td>\n",
       "      <td>0</td>\n",
       "      <td>0</td>\n",
       "      <td>81</td>\n",
       "      <td>V Kohli</td>\n",
       "      <td>India</td>\n",
       "      <td>244</td>\n",
       "      <td>12169</td>\n",
       "      <td>13310</td>\n",
       "      <td>49.872951</td>\n",
       "      <td>78.922628</td>\n",
       "      <td>43</td>\n",
       "      <td>62</td>\n",
       "      <td>12</td>\n",
       "    </tr>\n",
       "    <tr>\n",
       "      <th>9363</th>\n",
       "      <td>V Kohli</td>\n",
       "      <td>Sri Lanka</td>\n",
       "      <td>Kennington Oval</td>\n",
       "      <td>1</td>\n",
       "      <td>81.000000</td>\n",
       "      <td>119.117647</td>\n",
       "      <td>0</td>\n",
       "      <td>1</td>\n",
       "      <td>0</td>\n",
       "      <td>0</td>\n",
       "      <td>V Kohli</td>\n",
       "      <td>India</td>\n",
       "      <td>244</td>\n",
       "      <td>12169</td>\n",
       "      <td>13310</td>\n",
       "      <td>49.872951</td>\n",
       "      <td>78.922628</td>\n",
       "      <td>43</td>\n",
       "      <td>62</td>\n",
       "      <td>12</td>\n",
       "    </tr>\n",
       "    <tr>\n",
       "      <th>9364</th>\n",
       "      <td>V Kohli</td>\n",
       "      <td>South Africa</td>\n",
       "      <td>Kennington Oval</td>\n",
       "      <td>2</td>\n",
       "      <td>40.500000</td>\n",
       "      <td>59.558824</td>\n",
       "      <td>0</td>\n",
       "      <td>1</td>\n",
       "      <td>1</td>\n",
       "      <td>76</td>\n",
       "      <td>V Kohli</td>\n",
       "      <td>India</td>\n",
       "      <td>244</td>\n",
       "      <td>12169</td>\n",
       "      <td>13310</td>\n",
       "      <td>49.872951</td>\n",
       "      <td>78.922628</td>\n",
       "      <td>43</td>\n",
       "      <td>62</td>\n",
       "      <td>12</td>\n",
       "    </tr>\n",
       "    <tr>\n",
       "      <th>9365</th>\n",
       "      <td>V Kohli</td>\n",
       "      <td>Bangladesh</td>\n",
       "      <td>Edgbaston</td>\n",
       "      <td>3</td>\n",
       "      <td>52.333333</td>\n",
       "      <td>64.542484</td>\n",
       "      <td>0</td>\n",
       "      <td>2</td>\n",
       "      <td>1</td>\n",
       "      <td>96</td>\n",
       "      <td>V Kohli</td>\n",
       "      <td>India</td>\n",
       "      <td>244</td>\n",
       "      <td>12169</td>\n",
       "      <td>13310</td>\n",
       "      <td>49.872951</td>\n",
       "      <td>78.922628</td>\n",
       "      <td>43</td>\n",
       "      <td>62</td>\n",
       "      <td>12</td>\n",
       "    </tr>\n",
       "    <tr>\n",
       "      <th>9366</th>\n",
       "      <td>V Kohli</td>\n",
       "      <td>Pakistan</td>\n",
       "      <td>Kennington Oval</td>\n",
       "      <td>4</td>\n",
       "      <td>63.250000</td>\n",
       "      <td>79.176094</td>\n",
       "      <td>0</td>\n",
       "      <td>3</td>\n",
       "      <td>1</td>\n",
       "      <td>5</td>\n",
       "      <td>V Kohli</td>\n",
       "      <td>India</td>\n",
       "      <td>244</td>\n",
       "      <td>12169</td>\n",
       "      <td>13310</td>\n",
       "      <td>49.872951</td>\n",
       "      <td>78.922628</td>\n",
       "      <td>43</td>\n",
       "      <td>62</td>\n",
       "      <td>12</td>\n",
       "    </tr>\n",
       "  </tbody>\n",
       "</table>\n",
       "</div>"
      ],
      "text/plain": [
       "         name    opposition            venue  innings_played  \\\n",
       "9362  V Kohli      Pakistan        Edgbaston               0   \n",
       "9363  V Kohli     Sri Lanka  Kennington Oval               1   \n",
       "9364  V Kohli  South Africa  Kennington Oval               2   \n",
       "9365  V Kohli    Bangladesh        Edgbaston               3   \n",
       "9366  V Kohli      Pakistan  Kennington Oval               4   \n",
       "\n",
       "      previous_average  previous_strike_rate  previous_centuries  \\\n",
       "9362          0.000000              0.000000                   0   \n",
       "9363         81.000000            119.117647                   0   \n",
       "9364         40.500000             59.558824                   0   \n",
       "9365         52.333333             64.542484                   0   \n",
       "9366         63.250000             79.176094                   0   \n",
       "\n",
       "      previous_fifties  previous_zeros  runs player_name   team  innings  \\\n",
       "9362                 0               0    81     V Kohli  India      244   \n",
       "9363                 1               0     0     V Kohli  India      244   \n",
       "9364                 1               1    76     V Kohli  India      244   \n",
       "9365                 2               1    96     V Kohli  India      244   \n",
       "9366                 3               1     5     V Kohli  India      244   \n",
       "\n",
       "      overall_runs  balls    average  strike_rate  centuries  fifties  zeros  \n",
       "9362         12169  13310  49.872951    78.922628         43       62     12  \n",
       "9363         12169  13310  49.872951    78.922628         43       62     12  \n",
       "9364         12169  13310  49.872951    78.922628         43       62     12  \n",
       "9365         12169  13310  49.872951    78.922628         43       62     12  \n",
       "9366         12169  13310  49.872951    78.922628         43       62     12  "
      ]
     },
     "execution_count": 101,
     "metadata": {},
     "output_type": "execute_result"
    }
   ],
   "source": [
    "df2.head()"
   ]
  },
  {
   "cell_type": "code",
   "execution_count": 102,
   "metadata": {},
   "outputs": [
    {
     "data": {
      "text/plain": [
       "(244, 20)"
      ]
     },
     "execution_count": 102,
     "metadata": {},
     "output_type": "execute_result"
    }
   ],
   "source": [
    "df2.shape"
   ]
  },
  {
   "cell_type": "code",
   "execution_count": 103,
   "metadata": {},
   "outputs": [],
   "source": [
    "df2 = df2.drop(['player_name','name'],axis=1)"
   ]
  },
  {
   "cell_type": "code",
   "execution_count": 104,
   "metadata": {},
   "outputs": [],
   "source": [
    "df2.head()\n",
    "df2['rolling_test_5'] = df['runs'].rolling(window=5).mean()"
   ]
  },
  {
   "cell_type": "code",
   "execution_count": 105,
   "metadata": {},
   "outputs": [
    {
     "data": {
      "text/plain": [
       "Index(['opposition', 'venue', 'innings_played', 'previous_average',\n",
       "       'previous_strike_rate', 'previous_centuries', 'previous_fifties',\n",
       "       'previous_zeros', 'runs', 'team', 'innings', 'overall_runs', 'balls',\n",
       "       'average', 'strike_rate', 'centuries', 'fifties', 'zeros',\n",
       "       'rolling_test_5'],\n",
       "      dtype='object')"
      ]
     },
     "execution_count": 105,
     "metadata": {},
     "output_type": "execute_result"
    }
   ],
   "source": [
    "df2.columns"
   ]
  },
  {
   "cell_type": "code",
   "execution_count": 106,
   "metadata": {},
   "outputs": [
    {
     "data": {
      "text/plain": [
       "<seaborn.axisgrid.FacetGrid at 0x13f04847ee0>"
      ]
     },
     "execution_count": 106,
     "metadata": {},
     "output_type": "execute_result"
    },
    {
     "data": {
      "image/png": "[encoded data removed]",
      "text/plain": [
       "<Figure size 360x360 with 1 Axes>"
      ]
     },
     "metadata": {
      "needs_background": "light"
     },
     "output_type": "display_data"
    }
   ],
   "source": [
    "sns.displot(df2['rolling_test_5'])"
   ]
  },
  {
   "cell_type": "code",
   "execution_count": 107,
   "metadata": {},
   "outputs": [],
   "source": [
    "m = df2['runs'].quantile(0.95)"
   ]
  },
  {
   "cell_type": "code",
   "execution_count": 108,
   "metadata": {},
   "outputs": [],
   "source": [
    "n = df2['runs'].quantile(0.05)"
   ]
  },
  {
   "cell_type": "code",
   "execution_count": 109,
   "metadata": {},
   "outputs": [],
   "source": [
    "df2 = df2[df2['runs']< m]"
   ]
  },
  {
   "cell_type": "code",
   "execution_count": null,
   "metadata": {},
   "outputs": [],
   "source": []
  },
  {
   "cell_type": "code",
   "execution_count": 110,
   "metadata": {},
   "outputs": [
    {
     "data": {
      "text/html": [
       "<div>\n",
       "<style scoped>\n",
       "    .dataframe tbody tr th:only-of-type {\n",
       "        vertical-align: middle;\n",
       "    }\n",
       "\n",
       "    .dataframe tbody tr th {\n",
       "        vertical-align: top;\n",
       "    }\n",
       "\n",
       "    .dataframe thead th {\n",
       "        text-align: right;\n",
       "    }\n",
       "</style>\n",
       "<table border=\"1\" class=\"dataframe\">\n",
       "  <thead>\n",
       "    <tr style=\"text-align: right;\">\n",
       "      <th></th>\n",
       "      <th>opposition</th>\n",
       "      <th>venue</th>\n",
       "      <th>innings_played</th>\n",
       "      <th>previous_average</th>\n",
       "      <th>previous_strike_rate</th>\n",
       "      <th>previous_centuries</th>\n",
       "      <th>previous_fifties</th>\n",
       "      <th>previous_zeros</th>\n",
       "      <th>runs</th>\n",
       "      <th>team</th>\n",
       "      <th>innings</th>\n",
       "      <th>overall_runs</th>\n",
       "      <th>balls</th>\n",
       "      <th>average</th>\n",
       "      <th>strike_rate</th>\n",
       "      <th>centuries</th>\n",
       "      <th>fifties</th>\n",
       "      <th>zeros</th>\n",
       "      <th>rolling_test_5</th>\n",
       "    </tr>\n",
       "  </thead>\n",
       "  <tbody>\n",
       "    <tr>\n",
       "      <th>9362</th>\n",
       "      <td>Pakistan</td>\n",
       "      <td>Edgbaston</td>\n",
       "      <td>0</td>\n",
       "      <td>0.000000</td>\n",
       "      <td>0.000000</td>\n",
       "      <td>0</td>\n",
       "      <td>0</td>\n",
       "      <td>0</td>\n",
       "      <td>81</td>\n",
       "      <td>India</td>\n",
       "      <td>244</td>\n",
       "      <td>12169</td>\n",
       "      <td>13310</td>\n",
       "      <td>49.872951</td>\n",
       "      <td>78.922628</td>\n",
       "      <td>43</td>\n",
       "      <td>62</td>\n",
       "      <td>12</td>\n",
       "      <td>36.8</td>\n",
       "    </tr>\n",
       "    <tr>\n",
       "      <th>9363</th>\n",
       "      <td>Sri Lanka</td>\n",
       "      <td>Kennington Oval</td>\n",
       "      <td>1</td>\n",
       "      <td>81.000000</td>\n",
       "      <td>119.117647</td>\n",
       "      <td>0</td>\n",
       "      <td>1</td>\n",
       "      <td>0</td>\n",
       "      <td>0</td>\n",
       "      <td>India</td>\n",
       "      <td>244</td>\n",
       "      <td>12169</td>\n",
       "      <td>13310</td>\n",
       "      <td>49.872951</td>\n",
       "      <td>78.922628</td>\n",
       "      <td>43</td>\n",
       "      <td>62</td>\n",
       "      <td>12</td>\n",
       "      <td>32.2</td>\n",
       "    </tr>\n",
       "    <tr>\n",
       "      <th>9364</th>\n",
       "      <td>South Africa</td>\n",
       "      <td>Kennington Oval</td>\n",
       "      <td>2</td>\n",
       "      <td>40.500000</td>\n",
       "      <td>59.558824</td>\n",
       "      <td>0</td>\n",
       "      <td>1</td>\n",
       "      <td>1</td>\n",
       "      <td>76</td>\n",
       "      <td>India</td>\n",
       "      <td>244</td>\n",
       "      <td>12169</td>\n",
       "      <td>13310</td>\n",
       "      <td>49.872951</td>\n",
       "      <td>78.922628</td>\n",
       "      <td>43</td>\n",
       "      <td>62</td>\n",
       "      <td>12</td>\n",
       "      <td>44.8</td>\n",
       "    </tr>\n",
       "    <tr>\n",
       "      <th>9365</th>\n",
       "      <td>Bangladesh</td>\n",
       "      <td>Edgbaston</td>\n",
       "      <td>3</td>\n",
       "      <td>52.333333</td>\n",
       "      <td>64.542484</td>\n",
       "      <td>0</td>\n",
       "      <td>2</td>\n",
       "      <td>1</td>\n",
       "      <td>96</td>\n",
       "      <td>India</td>\n",
       "      <td>244</td>\n",
       "      <td>12169</td>\n",
       "      <td>13310</td>\n",
       "      <td>49.872951</td>\n",
       "      <td>78.922628</td>\n",
       "      <td>43</td>\n",
       "      <td>62</td>\n",
       "      <td>12</td>\n",
       "      <td>62.6</td>\n",
       "    </tr>\n",
       "    <tr>\n",
       "      <th>9366</th>\n",
       "      <td>Pakistan</td>\n",
       "      <td>Kennington Oval</td>\n",
       "      <td>4</td>\n",
       "      <td>63.250000</td>\n",
       "      <td>79.176094</td>\n",
       "      <td>0</td>\n",
       "      <td>3</td>\n",
       "      <td>1</td>\n",
       "      <td>5</td>\n",
       "      <td>India</td>\n",
       "      <td>244</td>\n",
       "      <td>12169</td>\n",
       "      <td>13310</td>\n",
       "      <td>49.872951</td>\n",
       "      <td>78.922628</td>\n",
       "      <td>43</td>\n",
       "      <td>62</td>\n",
       "      <td>12</td>\n",
       "      <td>51.6</td>\n",
       "    </tr>\n",
       "  </tbody>\n",
       "</table>\n",
       "</div>"
      ],
      "text/plain": [
       "        opposition            venue  innings_played  previous_average  \\\n",
       "9362      Pakistan        Edgbaston               0          0.000000   \n",
       "9363     Sri Lanka  Kennington Oval               1         81.000000   \n",
       "9364  South Africa  Kennington Oval               2         40.500000   \n",
       "9365    Bangladesh        Edgbaston               3         52.333333   \n",
       "9366      Pakistan  Kennington Oval               4         63.250000   \n",
       "\n",
       "      previous_strike_rate  previous_centuries  previous_fifties  \\\n",
       "9362              0.000000                   0                 0   \n",
       "9363            119.117647                   0                 1   \n",
       "9364             59.558824                   0                 1   \n",
       "9365             64.542484                   0                 2   \n",
       "9366             79.176094                   0                 3   \n",
       "\n",
       "      previous_zeros  runs   team  innings  overall_runs  balls    average  \\\n",
       "9362               0    81  India      244         12169  13310  49.872951   \n",
       "9363               0     0  India      244         12169  13310  49.872951   \n",
       "9364               1    76  India      244         12169  13310  49.872951   \n",
       "9365               1    96  India      244         12169  13310  49.872951   \n",
       "9366               1     5  India      244         12169  13310  49.872951   \n",
       "\n",
       "      strike_rate  centuries  fifties  zeros  rolling_test_5  \n",
       "9362    78.922628         43       62     12            36.8  \n",
       "9363    78.922628         43       62     12            32.2  \n",
       "9364    78.922628         43       62     12            44.8  \n",
       "9365    78.922628         43       62     12            62.6  \n",
       "9366    78.922628         43       62     12            51.6  "
      ]
     },
     "execution_count": 110,
     "metadata": {},
     "output_type": "execute_result"
    }
   ],
   "source": [
    "df2.head()"
   ]
  },
  {
   "cell_type": "code",
   "execution_count": 111,
   "metadata": {},
   "outputs": [
    {
     "data": {
      "text/plain": [
       "opposition              0\n",
       "venue                   0\n",
       "innings_played          0\n",
       "previous_average        0\n",
       "previous_strike_rate    0\n",
       "previous_centuries      0\n",
       "previous_fifties        0\n",
       "previous_zeros          0\n",
       "runs                    0\n",
       "team                    0\n",
       "innings                 0\n",
       "overall_runs            0\n",
       "balls                   0\n",
       "average                 0\n",
       "strike_rate             0\n",
       "centuries               0\n",
       "fifties                 0\n",
       "zeros                   0\n",
       "rolling_test_5          0\n",
       "dtype: int64"
      ]
     },
     "execution_count": 111,
     "metadata": {},
     "output_type": "execute_result"
    }
   ],
   "source": [
    "df2.isnull().sum()"
   ]
  },
  {
   "cell_type": "code",
   "execution_count": 112,
   "metadata": {},
   "outputs": [
    {
     "data": {
      "text/plain": [
       "(231, 19)"
      ]
     },
     "execution_count": 112,
     "metadata": {},
     "output_type": "execute_result"
    }
   ],
   "source": [
    "df2.shape"
   ]
  },
  {
   "cell_type": "code",
   "execution_count": 113,
   "metadata": {},
   "outputs": [
    {
     "name": "stderr",
     "output_type": "stream",
     "text": [
      "D:\\Programs\\Anaconda\\lib\\site-packages\\seaborn\\distributions.py:2557: FutureWarning: `distplot` is a deprecated function and will be removed in a future version. Please adapt your code to use either `displot` (a figure-level function with similar flexibility) or `histplot` (an axes-level function for histograms).\n",
      "  warnings.warn(msg, FutureWarning)\n"
     ]
    },
    {
     "data": {
      "text/plain": [
       "<AxesSubplot:xlabel='runs', ylabel='Density'>"
      ]
     },
     "execution_count": 113,
     "metadata": {},
     "output_type": "execute_result"
    },
    {
     "data": {
      "image/png": "[encoded data removed]",
      "text/plain": [
       "<Figure size 432x288 with 1 Axes>"
      ]
     },
     "metadata": {
      "needs_background": "light"
     },
     "output_type": "display_data"
    }
   ],
   "source": [
    "sns.distplot(df2['runs'])"
   ]
  },
  {
   "cell_type": "code",
   "execution_count": null,
   "metadata": {},
   "outputs": [],
   "source": []
  },
  {
   "cell_type": "code",
   "execution_count": null,
   "metadata": {},
   "outputs": [],
   "source": []
  },
  {
   "cell_type": "code",
   "execution_count": 114,
   "metadata": {},
   "outputs": [],
   "source": [
    "df2['innings_evm'] = df2['runs'].ewm(span=5 ,adjust=False).mean()"
   ]
  },
  {
   "cell_type": "code",
   "execution_count": 115,
   "metadata": {},
   "outputs": [
    {
     "data": {
      "text/plain": [
       "Index(['opposition', 'venue', 'innings_played', 'previous_average',\n",
       "       'previous_strike_rate', 'previous_centuries', 'previous_fifties',\n",
       "       'previous_zeros', 'runs', 'team', 'innings', 'overall_runs', 'balls',\n",
       "       'average', 'strike_rate', 'centuries', 'fifties', 'zeros',\n",
       "       'rolling_test_5', 'innings_evm'],\n",
       "      dtype='object')"
      ]
     },
     "execution_count": 115,
     "metadata": {},
     "output_type": "execute_result"
    }
   ],
   "source": [
    "df2.columns"
   ]
  },
  {
   "cell_type": "code",
   "execution_count": 116,
   "metadata": {},
   "outputs": [],
   "source": [
    "df2.to_csv('tableau.csv')"
   ]
  },
  {
   "cell_type": "code",
   "execution_count": 117,
   "metadata": {},
   "outputs": [],
   "source": [
    "df3 = pd.get_dummies(df2,columns = ['team','opposition','venue'])"
   ]
  },
  {
   "cell_type": "code",
   "execution_count": null,
   "metadata": {},
   "outputs": [],
   "source": []
  },
  {
   "cell_type": "code",
   "execution_count": 118,
   "metadata": {},
   "outputs": [
    {
     "data": {
      "text/plain": [
       "Index(['innings_played', 'previous_average', 'previous_strike_rate',\n",
       "       'previous_centuries', 'previous_fifties', 'previous_zeros', 'runs',\n",
       "       'innings', 'overall_runs', 'balls', 'average', 'strike_rate',\n",
       "       'centuries', 'fifties', 'zeros', 'rolling_test_5', 'innings_evm',\n",
       "       'team_India', 'opposition_Afghanistan', 'opposition_Australia',\n",
       "       'opposition_Bangladesh', 'opposition_England', 'opposition_Ireland',\n",
       "       'opposition_Netherlands', 'opposition_New Zealand',\n",
       "       'opposition_Pakistan', 'opposition_South Africa',\n",
       "       'opposition_Sri Lanka', 'opposition_United Arab Emirates',\n",
       "       'opposition_West Indies', 'opposition_Zimbabwe', 'venue_Adelaide Oval',\n",
       "       'venue_Arun Jaitley Stadium', 'venue_Barabati Stadium',\n",
       "       'venue_Bay Oval', 'venue_Brabourne Stadium',\n",
       "       'venue_Brisbane Cricket Ground, Woolloongabba',\n",
       "       'venue_Dr. Y.S. Rajasekhara Reddy ACA-VDCA Cricket Stadium',\n",
       "       'venue_Eden Gardens', 'venue_Eden Park', 'venue_Edgbaston',\n",
       "       'venue_Feroz Shah Kotla', 'venue_Green Park',\n",
       "       'venue_Greenfield International Stadium', 'venue_Harare Sports Club',\n",
       "       'venue_Headingley',\n",
       "       'venue_Himachal Pradesh Cricket Association Stadium',\n",
       "       'venue_Holkar Cricket Stadium',\n",
       "       'venue_JSCA International Stadium Complex', 'venue_Kennington Oval',\n",
       "       'venue_Khan Shaheb Osman Ali Stadium', 'venue_Kingsmead',\n",
       "       'venue_Lord's', 'venue_M Chinnaswamy Stadium',\n",
       "       'venue_M.Chinnaswamy Stadium', 'venue_MA Chidambaram Stadium, Chepauk',\n",
       "       'venue_Madhavrao Scindia Cricket Ground',\n",
       "       'venue_Maharashtra Cricket Association Stadium',\n",
       "       'venue_Mahinda Rajapaksa International Cricket Stadium, Sooriyawewa',\n",
       "       'venue_Manuka Oval', 'venue_McLean Park',\n",
       "       'venue_Melbourne Cricket Ground', 'venue_Nehru Stadium',\n",
       "       'venue_New Wanderers Stadium', 'venue_Newlands', 'venue_Old Trafford',\n",
       "       'venue_Pallekele International Cricket Stadium',\n",
       "       'venue_Punjab Cricket Association IS Bindra Stadium, Mohali',\n",
       "       'venue_Punjab Cricket Association Stadium, Mohali',\n",
       "       'venue_Queen's Park Oval, Port of Spain',\n",
       "       'venue_Queen's Park Oval, Trinidad', 'venue_Queens Sports Club',\n",
       "       'venue_R Premadasa Stadium', 'venue_R.Premadasa Stadium, Khettarama',\n",
       "       'venue_Rajiv Gandhi International Stadium, Uppal',\n",
       "       'venue_Rangiri Dambulla International Stadium',\n",
       "       'venue_Reliance Stadium', 'venue_Riverside Ground',\n",
       "       'venue_Sabina Park, Kingston', 'venue_Sardar Patel Stadium, Motera',\n",
       "       'venue_Saurashtra Cricket Association Stadium',\n",
       "       'venue_Sawai Mansingh Stadium', 'venue_Seddon Park',\n",
       "       'venue_Shere Bangla National Stadium',\n",
       "       'venue_Sir Vivian Richards Stadium, North Sound',\n",
       "       'venue_Sophia Gardens', 'venue_St George's Park',\n",
       "       'venue_SuperSport Park', 'venue_Sydney Cricket Ground',\n",
       "       'venue_The Rose Bowl', 'venue_The Wanderers Stadium',\n",
       "       'venue_Trent Bridge',\n",
       "       'venue_Vidarbha Cricket Association Stadium, Jamtha',\n",
       "       'venue_Wankhede Stadium',\n",
       "       'venue_Western Australia Cricket Association Ground',\n",
       "       'venue_Westpac Stadium'],\n",
       "      dtype='object')"
      ]
     },
     "execution_count": 118,
     "metadata": {},
     "output_type": "execute_result"
    }
   ],
   "source": [
    "df3.columns"
   ]
  },
  {
   "cell_type": "code",
   "execution_count": 119,
   "metadata": {},
   "outputs": [],
   "source": [
    "Y = df3['runs']"
   ]
  },
  {
   "cell_type": "code",
   "execution_count": 120,
   "metadata": {},
   "outputs": [],
   "source": [
    "X = df3.drop(['runs'],axis=1)\n"
   ]
  },
  {
   "cell_type": "code",
   "execution_count": 121,
   "metadata": {},
   "outputs": [],
   "source": [
    "from sklearn.model_selection import train_test_split"
   ]
  },
  {
   "cell_type": "code",
   "execution_count": 122,
   "metadata": {},
   "outputs": [],
   "source": [
    "X_train, X_test, y_train, y_test = train_test_split(X, Y, test_size=0.20, random_state=42)"
   ]
  },
  {
   "cell_type": "code",
   "execution_count": 123,
   "metadata": {},
   "outputs": [],
   "source": [
    "from sklearn.linear_model import LinearRegression"
   ]
  },
  {
   "cell_type": "code",
   "execution_count": 124,
   "metadata": {},
   "outputs": [],
   "source": [
    "model = LinearRegression()"
   ]
  },
  {
   "cell_type": "code",
   "execution_count": 125,
   "metadata": {},
   "outputs": [
    {
     "data": {
      "text/plain": [
       "LinearRegression()"
      ]
     },
     "execution_count": 125,
     "metadata": {},
     "output_type": "execute_result"
    }
   ],
   "source": [
    "model.fit(X_train, y_train)"
   ]
  },
  {
   "cell_type": "code",
   "execution_count": 126,
   "metadata": {},
   "outputs": [],
   "source": [
    "predictions = model.predict(X_test)"
   ]
  },
  {
   "cell_type": "code",
   "execution_count": 127,
   "metadata": {},
   "outputs": [
    {
     "data": {
      "text/plain": [
       "(231, 96)"
      ]
     },
     "execution_count": 127,
     "metadata": {},
     "output_type": "execute_result"
    }
   ],
   "source": [
    "df3.shape"
   ]
  },
  {
   "cell_type": "code",
   "execution_count": 128,
   "metadata": {},
   "outputs": [
    {
     "data": {
      "text/plain": [
       "0     7.993750e+01\n",
       "1    -4.375000e-01\n",
       "2     7.625000e+01\n",
       "3     1.281250e+01\n",
       "4     1.500000e+00\n",
       "5     5.706250e+01\n",
       "6     5.350000e+01\n",
       "7     7.512500e+01\n",
       "8     6.531250e+01\n",
       "9    -5.843162e+07\n",
       "10    1.956250e+01\n",
       "11    2.837500e+01\n",
       "12    5.000000e-01\n",
       "13    4.925000e+01\n",
       "14    3.725000e+01\n",
       "15    6.987500e+01\n",
       "16    7.212500e+01\n",
       "17    6.950000e+01\n",
       "18    6.256250e+01\n",
       "19    4.937500e+01\n",
       "20    4.412500e+01\n",
       "21    2.343750e+01\n",
       "22    1.310625e+02\n",
       "23    7.556250e+01\n",
       "24    4.125000e+00\n",
       "25    4.181250e+01\n",
       "26    5.637500e+01\n",
       "27    9.856250e+01\n",
       "28    3.712500e+01\n",
       "29   -5.250000e+00\n",
       "30    4.625000e+00\n",
       "31    4.812500e+01\n",
       "32    4.687500e+01\n",
       "33   -2.268750e+01\n",
       "34    9.837500e+01\n",
       "35    2.650000e+01\n",
       "36    3.475000e+01\n",
       "37   -1.331250e+01\n",
       "38   -2.793750e+01\n",
       "39    7.237500e+01\n",
       "40    1.481250e+01\n",
       "41   -4.375000e+00\n",
       "42    3.331250e+01\n",
       "43    6.656250e+01\n",
       "44    7.625000e+00\n",
       "45    1.437500e+01\n",
       "46    4.175000e+01\n",
       "dtype: float64"
      ]
     },
     "execution_count": 128,
     "metadata": {},
     "output_type": "execute_result"
    }
   ],
   "source": [
    "predictions\n",
    "pred = pd.Series(predictions)\n",
    "pred"
   ]
  },
  {
   "cell_type": "code",
   "execution_count": 129,
   "metadata": {},
   "outputs": [],
   "source": [
    "y_test = y_test.astype(np.float64)"
   ]
  },
  {
   "cell_type": "code",
   "execution_count": 130,
   "metadata": {},
   "outputs": [
    {
     "data": {
      "text/plain": [
       "9591     66.0\n",
       "9434     15.0\n",
       "9372    122.0\n",
       "9541      6.0\n",
       "9378      3.0\n",
       "9571      0.0\n",
       "9389     39.0\n",
       "9567     78.0\n",
       "9524     80.0\n",
       "9494     55.0\n",
       "9588     22.0\n",
       "9382      3.0\n",
       "9464      9.0\n",
       "9549     14.0\n",
       "9546     31.0\n",
       "9505     77.0\n",
       "9515     86.0\n",
       "9394     29.0\n",
       "9600      8.0\n",
       "9556     31.0\n",
       "9476     11.0\n",
       "9533     26.0\n",
       "9576     99.0\n",
       "9552    100.0\n",
       "9493      2.0\n",
       "9381      4.0\n",
       "9516      0.0\n",
       "9469    102.0\n",
       "9472     57.0\n",
       "9452     30.0\n",
       "9569      2.0\n",
       "9428      0.0\n",
       "9486     87.0\n",
       "9411      3.0\n",
       "9379    111.0\n",
       "9495      9.0\n",
       "9530     15.0\n",
       "9487      2.0\n",
       "9450     16.0\n",
       "9513    112.0\n",
       "9461      1.0\n",
       "9565      1.0\n",
       "9512     37.0\n",
       "9441     56.0\n",
       "9481      8.0\n",
       "9480      0.0\n",
       "9520      3.0\n",
       "Name: runs, dtype: float64"
      ]
     },
     "execution_count": 130,
     "metadata": {},
     "output_type": "execute_result"
    }
   ],
   "source": [
    "y_test"
   ]
  },
  {
   "cell_type": "code",
   "execution_count": 131,
   "metadata": {},
   "outputs": [],
   "source": [
    "pred_list = list(pred)\n",
    "y_test_list = list(y_test)"
   ]
  },
  {
   "cell_type": "code",
   "execution_count": 132,
   "metadata": {},
   "outputs": [
    {
     "data": {
      "text/plain": [
       "<matplotlib.collections.PathCollection at 0x13f04b0cfa0>"
      ]
     },
     "execution_count": 132,
     "metadata": {},
     "output_type": "execute_result"
    },
    {
     "data": {
      "image/png": "[encoded data removed]",
      "text/plain": [
       "<Figure size 432x288 with 1 Axes>"
      ]
     },
     "metadata": {
      "needs_background": "light"
     },
     "output_type": "display_data"
    }
   ],
   "source": [
    "plt.scatter(pred_list,y_test_list)"
   ]
  },
  {
   "cell_type": "code",
   "execution_count": 133,
   "metadata": {},
   "outputs": [
    {
     "data": {
      "text/plain": [
       "[79.9375,\n",
       " -0.4375,\n",
       " 76.25,\n",
       " 12.8125,\n",
       " 1.5,\n",
       " 57.0625,\n",
       " 53.5,\n",
       " 75.125,\n",
       " 65.3125,\n",
       " -58431622.0,\n",
       " 19.5625,\n",
       " 28.375,\n",
       " 0.5,\n",
       " 49.25,\n",
       " 37.25,\n",
       " 69.875,\n",
       " 72.125,\n",
       " 69.5,\n",
       " 62.5625,\n",
       " 49.375,\n",
       " 44.125,\n",
       " 23.4375,\n",
       " 131.0625,\n",
       " 75.5625,\n",
       " 4.125,\n",
       " 41.8125,\n",
       " 56.375,\n",
       " 98.5625,\n",
       " 37.125,\n",
       " -5.25,\n",
       " 4.625,\n",
       " 48.125,\n",
       " 46.875,\n",
       " -22.6875,\n",
       " 98.375,\n",
       " 26.5,\n",
       " 34.75,\n",
       " -13.3125,\n",
       " -27.9375,\n",
       " 72.375,\n",
       " 14.8125,\n",
       " -4.375,\n",
       " 33.3125,\n",
       " 66.5625,\n",
       " 7.625,\n",
       " 14.375,\n",
       " 41.75]"
      ]
     },
     "execution_count": 133,
     "metadata": {},
     "output_type": "execute_result"
    }
   ],
   "source": [
    "pred_list"
   ]
  },
  {
   "cell_type": "code",
   "execution_count": 134,
   "metadata": {},
   "outputs": [
    {
     "data": {
      "text/plain": [
       "47"
      ]
     },
     "execution_count": 134,
     "metadata": {},
     "output_type": "execute_result"
    }
   ],
   "source": [
    "len(pred_list)"
   ]
  },
  {
   "cell_type": "code",
   "execution_count": 135,
   "metadata": {},
   "outputs": [],
   "source": [
    "for i in range(47):\n",
    "    if int(pred_list[i])>150:\n",
    "        pred_list[i]=100.0\n",
    "    elif int(pred_list[i])<0:\n",
    "        pred_list[i]=0.0"
   ]
  },
  {
   "cell_type": "code",
   "execution_count": 136,
   "metadata": {},
   "outputs": [
    {
     "data": {
      "text/plain": [
       "[79.9375,\n",
       " -0.4375,\n",
       " 76.25,\n",
       " 12.8125,\n",
       " 1.5,\n",
       " 57.0625,\n",
       " 53.5,\n",
       " 75.125,\n",
       " 65.3125,\n",
       " 0.0,\n",
       " 19.5625,\n",
       " 28.375,\n",
       " 0.5,\n",
       " 49.25,\n",
       " 37.25,\n",
       " 69.875,\n",
       " 72.125,\n",
       " 69.5,\n",
       " 62.5625,\n",
       " 49.375,\n",
       " 44.125,\n",
       " 23.4375,\n",
       " 131.0625,\n",
       " 75.5625,\n",
       " 4.125,\n",
       " 41.8125,\n",
       " 56.375,\n",
       " 98.5625,\n",
       " 37.125,\n",
       " 0.0,\n",
       " 4.625,\n",
       " 48.125,\n",
       " 46.875,\n",
       " 0.0,\n",
       " 98.375,\n",
       " 26.5,\n",
       " 34.75,\n",
       " 0.0,\n",
       " 0.0,\n",
       " 72.375,\n",
       " 14.8125,\n",
       " 0.0,\n",
       " 33.3125,\n",
       " 66.5625,\n",
       " 7.625,\n",
       " 14.375,\n",
       " 41.75]"
      ]
     },
     "execution_count": 136,
     "metadata": {},
     "output_type": "execute_result"
    }
   ],
   "source": [
    "pred_list"
   ]
  },
  {
   "cell_type": "code",
   "execution_count": 137,
   "metadata": {},
   "outputs": [
    {
     "data": {
      "text/plain": [
       "<matplotlib.collections.PathCollection at 0x13f04d85370>"
      ]
     },
     "execution_count": 137,
     "metadata": {},
     "output_type": "execute_result"
    },
    {
     "data": {
      "image/png": "[encoded data removed]",
      "text/plain": [
       "<Figure size 432x288 with 1 Axes>"
      ]
     },
     "metadata": {
      "needs_background": "light"
     },
     "output_type": "display_data"
    }
   ],
   "source": [
    "plt.scatter(pred_list,y_test_list)"
   ]
  },
  {
   "cell_type": "code",
   "execution_count": 138,
   "metadata": {},
   "outputs": [],
   "source": [
    "from sklearn import datasets, linear_model, metrics"
   ]
  },
  {
   "cell_type": "code",
   "execution_count": 139,
   "metadata": {},
   "outputs": [
    {
     "data": {
      "text/plain": [
       "20.543882978723403"
      ]
     },
     "execution_count": 139,
     "metadata": {},
     "output_type": "execute_result"
    }
   ],
   "source": [
    "metrics.mean_absolute_error(y_test_list, pred_list)"
   ]
  },
  {
   "cell_type": "code",
   "execution_count": 140,
   "metadata": {},
   "outputs": [],
   "source": [
    "from sklearn.ensemble import RandomForestRegressor\n",
    "forest_model = RandomForestRegressor(random_state=1)\n",
    "forest_model.fit(X_train,y_train)\n",
    "y_test2 = forest_model.predict(X_test)"
   ]
  },
  {
   "cell_type": "code",
   "execution_count": 141,
   "metadata": {},
   "outputs": [
    {
     "data": {
      "text/plain": [
       "17.52191489361702"
      ]
     },
     "execution_count": 141,
     "metadata": {},
     "output_type": "execute_result"
    }
   ],
   "source": [
    "metrics.mean_absolute_error(y_test, y_test2)"
   ]
  },
  {
   "cell_type": "code",
   "execution_count": 142,
   "metadata": {},
   "outputs": [
    {
     "data": {
      "text/plain": [
       "9591    63.4\n",
       "9434    49.8\n",
       "9372    79.0\n",
       "9541    16.2\n",
       "9378    37.6\n",
       "9571    33.6\n",
       "9389    36.0\n",
       "9567    48.6\n",
       "9524    48.6\n",
       "9494    36.8\n",
       "9588    44.2\n",
       "9382    40.6\n",
       "9464    21.0\n",
       "9549    52.8\n",
       "9546    30.6\n",
       "9505    44.8\n",
       "9515    80.6\n",
       "9394    68.2\n",
       "9600    76.2\n",
       "9556    62.8\n",
       "9476    47.2\n",
       "9533    35.6\n",
       "9576    47.8\n",
       "9552    71.6\n",
       "9493    46.8\n",
       "9381    42.2\n",
       "9516    54.0\n",
       "9469    61.6\n",
       "9472    52.6\n",
       "9452    36.2\n",
       "9569    42.0\n",
       "9428    30.8\n",
       "9486    45.6\n",
       "9411    26.0\n",
       "9379    48.8\n",
       "9495    25.8\n",
       "9530    41.0\n",
       "9487    38.6\n",
       "9450    25.6\n",
       "9513    73.8\n",
       "9461    31.0\n",
       "9565    23.8\n",
       "9512    53.8\n",
       "9441    68.6\n",
       "9481    12.8\n",
       "9480    13.4\n",
       "9520    72.0\n",
       "Name: rolling_test_5, dtype: float64"
      ]
     },
     "execution_count": 142,
     "metadata": {},
     "output_type": "execute_result"
    }
   ],
   "source": [
    "X_test['rolling_test_5']"
   ]
  },
  {
   "cell_type": "code",
   "execution_count": 143,
   "metadata": {},
   "outputs": [],
   "source": [
    "y_test2_list = list(y_test2)"
   ]
  },
  {
   "cell_type": "code",
   "execution_count": 144,
   "metadata": {},
   "outputs": [
    {
     "data": {
      "text/plain": [
       "[66.0, 15.0, 122.0, 6.0, 3.0, 0.0, 39.0, 78.0, 80.0, 55.0]"
      ]
     },
     "execution_count": 144,
     "metadata": {},
     "output_type": "execute_result"
    }
   ],
   "source": [
    "y_test_list[:10]"
   ]
  },
  {
   "cell_type": "code",
   "execution_count": 145,
   "metadata": {},
   "outputs": [
    {
     "data": {
      "text/plain": [
       "[59.87, 23.87, 87.14, 4.4, 10.05, 9.14, 45.13, 101.63, 91.77, 55.32]"
      ]
     },
     "execution_count": 145,
     "metadata": {},
     "output_type": "execute_result"
    }
   ],
   "source": [
    "y_test2_list[:10]"
   ]
  },
  {
   "cell_type": "code",
   "execution_count": 146,
   "metadata": {},
   "outputs": [
    {
     "data": {
      "text/plain": [
       "6981537635110945.0"
      ]
     },
     "execution_count": 146,
     "metadata": {},
     "output_type": "execute_result"
    }
   ],
   "source": [
    "metrics.mean_absolute_percentage_error(y_test_list, y_test2_list)"
   ]
  },
  {
   "cell_type": "code",
   "execution_count": 147,
   "metadata": {},
   "outputs": [],
   "source": [
    "def mean_absolute_percentage_error(y_true, y_pred): \n",
    "    y_true, y_pred = np.array(y_true), np.array(y_pred)\n",
    "    return np.mean(np.abs((y_true - y_pred) / y_true)) * 100"
   ]
  },
  {
   "cell_type": "code",
   "execution_count": 148,
   "metadata": {},
   "outputs": [
    {
     "name": "stderr",
     "output_type": "stream",
     "text": [
      "<ipython-input-147-199972fad748>:3: RuntimeWarning: divide by zero encountered in true_divide\n",
      "  return np.mean(np.abs((y_true - y_pred) / y_true)) * 100\n"
     ]
    },
    {
     "data": {
      "text/plain": [
       "inf"
      ]
     },
     "execution_count": 148,
     "metadata": {},
     "output_type": "execute_result"
    }
   ],
   "source": [
    "mean_absolute_percentage_error(y_test_list,y_test2_list)"
   ]
  },
  {
   "cell_type": "code",
   "execution_count": 149,
   "metadata": {},
   "outputs": [
    {
     "data": {
      "text/plain": [
       "47"
      ]
     },
     "execution_count": 149,
     "metadata": {},
     "output_type": "execute_result"
    }
   ],
   "source": [
    "len(y_test_list)"
   ]
  },
  {
   "cell_type": "code",
   "execution_count": 150,
   "metadata": {},
   "outputs": [],
   "source": [
    "y_test_list_percent = y_test_list"
   ]
  },
  {
   "cell_type": "code",
   "execution_count": 151,
   "metadata": {},
   "outputs": [],
   "source": [
    "for i in range(47):\n",
    "    if y_test_list_percent[i] == 0:\n",
    "        y_test_list_percent[i] = 1.0\n",
    "    "
   ]
  },
  {
   "cell_type": "code",
   "execution_count": 152,
   "metadata": {},
   "outputs": [
    {
     "data": {
      "text/plain": [
       "[66.0,\n",
       " 15.0,\n",
       " 122.0,\n",
       " 6.0,\n",
       " 3.0,\n",
       " 1.0,\n",
       " 39.0,\n",
       " 78.0,\n",
       " 80.0,\n",
       " 55.0,\n",
       " 22.0,\n",
       " 3.0,\n",
       " 9.0,\n",
       " 14.0,\n",
       " 31.0,\n",
       " 77.0,\n",
       " 86.0,\n",
       " 29.0,\n",
       " 8.0,\n",
       " 31.0,\n",
       " 11.0,\n",
       " 26.0,\n",
       " 99.0,\n",
       " 100.0,\n",
       " 2.0,\n",
       " 4.0,\n",
       " 1.0,\n",
       " 102.0,\n",
       " 57.0,\n",
       " 30.0,\n",
       " 2.0,\n",
       " 1.0,\n",
       " 87.0,\n",
       " 3.0,\n",
       " 111.0,\n",
       " 9.0,\n",
       " 15.0,\n",
       " 2.0,\n",
       " 16.0,\n",
       " 112.0,\n",
       " 1.0,\n",
       " 1.0,\n",
       " 37.0,\n",
       " 56.0,\n",
       " 8.0,\n",
       " 1.0,\n",
       " 3.0]"
      ]
     },
     "execution_count": 152,
     "metadata": {},
     "output_type": "execute_result"
    }
   ],
   "source": [
    "y_test_list_percent"
   ]
  },
  {
   "cell_type": "code",
   "execution_count": 153,
   "metadata": {},
   "outputs": [
    {
     "data": {
      "text/plain": [
       "326.6088526391052"
      ]
     },
     "execution_count": 153,
     "metadata": {},
     "output_type": "execute_result"
    }
   ],
   "source": [
    "mean_absolute_percentage_error(y_test_list,y_test2_list)"
   ]
  },
  {
   "cell_type": "code",
   "execution_count": 154,
   "metadata": {},
   "outputs": [],
   "source": [
    "import tensorflow"
   ]
  },
  {
   "cell_type": "code",
   "execution_count": 155,
   "metadata": {},
   "outputs": [],
   "source": [
    "loss = tensorflow.keras.losses.mean_absolute_percentage_error(y_test_list_percent, y_test2_list)"
   ]
  },
  {
   "cell_type": "code",
   "execution_count": 156,
   "metadata": {},
   "outputs": [
    {
     "data": {
      "text/plain": [
       "<tf.Tensor: shape=(), dtype=float64, numpy=326.6088526391052>"
      ]
     },
     "execution_count": 156,
     "metadata": {},
     "output_type": "execute_result"
    }
   ],
   "source": [
    "loss"
   ]
  },
  {
   "cell_type": "code",
   "execution_count": 157,
   "metadata": {},
   "outputs": [
    {
     "data": {
      "text/plain": [
       "3"
      ]
     },
     "execution_count": 157,
     "metadata": {},
     "output_type": "execute_result"
    }
   ],
   "source": [
    "3"
   ]
  },
  {
   "cell_type": "code",
   "execution_count": null,
   "metadata": {},
   "outputs": [],
   "source": []
  },
  {
   "cell_type": "code",
   "execution_count": 158,
   "metadata": {},
   "outputs": [
    {
     "data": {
      "text/plain": [
       "7.0"
      ]
     },
     "execution_count": 158,
     "metadata": {},
     "output_type": "execute_result"
    }
   ],
   "source": [
    "df3.iloc[-1]['runs']"
   ]
  },
  {
   "cell_type": "code",
   "execution_count": 159,
   "metadata": {},
   "outputs": [
    {
     "data": {
      "text/html": [
       "<div>\n",
       "<style scoped>\n",
       "    .dataframe tbody tr th:only-of-type {\n",
       "        vertical-align: middle;\n",
       "    }\n",
       "\n",
       "    .dataframe tbody tr th {\n",
       "        vertical-align: top;\n",
       "    }\n",
       "\n",
       "    .dataframe thead th {\n",
       "        text-align: right;\n",
       "    }\n",
       "</style>\n",
       "<table border=\"1\" class=\"dataframe\">\n",
       "  <thead>\n",
       "    <tr style=\"text-align: right;\">\n",
       "      <th></th>\n",
       "      <th>innings_played</th>\n",
       "      <th>previous_average</th>\n",
       "      <th>previous_strike_rate</th>\n",
       "      <th>previous_centuries</th>\n",
       "      <th>previous_fifties</th>\n",
       "      <th>previous_zeros</th>\n",
       "      <th>runs</th>\n",
       "      <th>innings</th>\n",
       "      <th>overall_runs</th>\n",
       "      <th>balls</th>\n",
       "      <th>...</th>\n",
       "      <th>venue_St George's Park</th>\n",
       "      <th>venue_SuperSport Park</th>\n",
       "      <th>venue_Sydney Cricket Ground</th>\n",
       "      <th>venue_The Rose Bowl</th>\n",
       "      <th>venue_The Wanderers Stadium</th>\n",
       "      <th>venue_Trent Bridge</th>\n",
       "      <th>venue_Vidarbha Cricket Association Stadium, Jamtha</th>\n",
       "      <th>venue_Wankhede Stadium</th>\n",
       "      <th>venue_Western Australia Cricket Association Ground</th>\n",
       "      <th>venue_Westpac Stadium</th>\n",
       "    </tr>\n",
       "  </thead>\n",
       "  <tbody>\n",
       "    <tr>\n",
       "      <th>9600</th>\n",
       "      <td>238</td>\n",
       "      <td>50.067227</td>\n",
       "      <td>78.987735</td>\n",
       "      <td>42</td>\n",
       "      <td>61</td>\n",
       "      <td>12</td>\n",
       "      <td>8</td>\n",
       "      <td>244</td>\n",
       "      <td>12169</td>\n",
       "      <td>13310</td>\n",
       "      <td>...</td>\n",
       "      <td>0</td>\n",
       "      <td>0</td>\n",
       "      <td>1</td>\n",
       "      <td>0</td>\n",
       "      <td>0</td>\n",
       "      <td>0</td>\n",
       "      <td>0</td>\n",
       "      <td>0</td>\n",
       "      <td>0</td>\n",
       "      <td>0</td>\n",
       "    </tr>\n",
       "    <tr>\n",
       "      <th>9601</th>\n",
       "      <td>239</td>\n",
       "      <td>49.891213</td>\n",
       "      <td>78.914726</td>\n",
       "      <td>42</td>\n",
       "      <td>61</td>\n",
       "      <td>12</td>\n",
       "      <td>11</td>\n",
       "      <td>244</td>\n",
       "      <td>12169</td>\n",
       "      <td>13310</td>\n",
       "      <td>...</td>\n",
       "      <td>0</td>\n",
       "      <td>0</td>\n",
       "      <td>0</td>\n",
       "      <td>0</td>\n",
       "      <td>0</td>\n",
       "      <td>0</td>\n",
       "      <td>0</td>\n",
       "      <td>0</td>\n",
       "      <td>0</td>\n",
       "      <td>0</td>\n",
       "    </tr>\n",
       "    <tr>\n",
       "      <th>9602</th>\n",
       "      <td>240</td>\n",
       "      <td>49.729167</td>\n",
       "      <td>78.827142</td>\n",
       "      <td>42</td>\n",
       "      <td>61</td>\n",
       "      <td>12</td>\n",
       "      <td>12</td>\n",
       "      <td>244</td>\n",
       "      <td>12169</td>\n",
       "      <td>13310</td>\n",
       "      <td>...</td>\n",
       "      <td>0</td>\n",
       "      <td>0</td>\n",
       "      <td>0</td>\n",
       "      <td>0</td>\n",
       "      <td>0</td>\n",
       "      <td>0</td>\n",
       "      <td>0</td>\n",
       "      <td>0</td>\n",
       "      <td>0</td>\n",
       "      <td>0</td>\n",
       "    </tr>\n",
       "    <tr>\n",
       "      <th>9603</th>\n",
       "      <td>241</td>\n",
       "      <td>49.572614</td>\n",
       "      <td>78.776684</td>\n",
       "      <td>42</td>\n",
       "      <td>61</td>\n",
       "      <td>12</td>\n",
       "      <td>77</td>\n",
       "      <td>244</td>\n",
       "      <td>12169</td>\n",
       "      <td>13310</td>\n",
       "      <td>...</td>\n",
       "      <td>0</td>\n",
       "      <td>0</td>\n",
       "      <td>0</td>\n",
       "      <td>0</td>\n",
       "      <td>0</td>\n",
       "      <td>0</td>\n",
       "      <td>0</td>\n",
       "      <td>0</td>\n",
       "      <td>0</td>\n",
       "      <td>0</td>\n",
       "    </tr>\n",
       "    <tr>\n",
       "      <th>9605</th>\n",
       "      <td>243</td>\n",
       "      <td>50.049383</td>\n",
       "      <td>78.835890</td>\n",
       "      <td>43</td>\n",
       "      <td>62</td>\n",
       "      <td>12</td>\n",
       "      <td>7</td>\n",
       "      <td>244</td>\n",
       "      <td>12169</td>\n",
       "      <td>13310</td>\n",
       "      <td>...</td>\n",
       "      <td>0</td>\n",
       "      <td>0</td>\n",
       "      <td>0</td>\n",
       "      <td>0</td>\n",
       "      <td>0</td>\n",
       "      <td>0</td>\n",
       "      <td>0</td>\n",
       "      <td>1</td>\n",
       "      <td>0</td>\n",
       "      <td>0</td>\n",
       "    </tr>\n",
       "  </tbody>\n",
       "</table>\n",
       "<p>5 rows × 96 columns</p>\n",
       "</div>"
      ],
      "text/plain": [
       "      innings_played  previous_average  previous_strike_rate  \\\n",
       "9600             238         50.067227             78.987735   \n",
       "9601             239         49.891213             78.914726   \n",
       "9602             240         49.729167             78.827142   \n",
       "9603             241         49.572614             78.776684   \n",
       "9605             243         50.049383             78.835890   \n",
       "\n",
       "      previous_centuries  previous_fifties  previous_zeros  runs  innings  \\\n",
       "9600                  42                61              12     8      244   \n",
       "9601                  42                61              12    11      244   \n",
       "9602                  42                61              12    12      244   \n",
       "9603                  42                61              12    77      244   \n",
       "9605                  43                62              12     7      244   \n",
       "\n",
       "      overall_runs  balls  ...  venue_St George's Park  venue_SuperSport Park  \\\n",
       "9600         12169  13310  ...                       0                      0   \n",
       "9601         12169  13310  ...                       0                      0   \n",
       "9602         12169  13310  ...                       0                      0   \n",
       "9603         12169  13310  ...                       0                      0   \n",
       "9605         12169  13310  ...                       0                      0   \n",
       "\n",
       "      venue_Sydney Cricket Ground  venue_The Rose Bowl  \\\n",
       "9600                            1                    0   \n",
       "9601                            0                    0   \n",
       "9602                            0                    0   \n",
       "9603                            0                    0   \n",
       "9605                            0                    0   \n",
       "\n",
       "      venue_The Wanderers Stadium  venue_Trent Bridge  \\\n",
       "9600                            0                   0   \n",
       "9601                            0                   0   \n",
       "9602                            0                   0   \n",
       "9603                            0                   0   \n",
       "9605                            0                   0   \n",
       "\n",
       "      venue_Vidarbha Cricket Association Stadium, Jamtha  \\\n",
       "9600                                                  0    \n",
       "9601                                                  0    \n",
       "9602                                                  0    \n",
       "9603                                                  0    \n",
       "9605                                                  0    \n",
       "\n",
       "      venue_Wankhede Stadium  \\\n",
       "9600                       0   \n",
       "9601                       0   \n",
       "9602                       0   \n",
       "9603                       0   \n",
       "9605                       1   \n",
       "\n",
       "      venue_Western Australia Cricket Association Ground  \\\n",
       "9600                                                  0    \n",
       "9601                                                  0    \n",
       "9602                                                  0    \n",
       "9603                                                  0    \n",
       "9605                                                  0    \n",
       "\n",
       "      venue_Westpac Stadium  \n",
       "9600                      0  \n",
       "9601                      0  \n",
       "9602                      0  \n",
       "9603                      0  \n",
       "9605                      0  \n",
       "\n",
       "[5 rows x 96 columns]"
      ]
     },
     "execution_count": 159,
     "metadata": {},
     "output_type": "execute_result"
    }
   ],
   "source": [
    "df3.tail(5)"
   ]
  },
  {
   "cell_type": "code",
   "execution_count": 160,
   "metadata": {},
   "outputs": [],
   "source": [
    "df_trial = df3[['innings_played', 'previous_average', 'previous_strike_rate',\n",
    "       'previous_centuries', 'previous_fifties', 'previous_zeros', 'runs',\n",
    "       'innings', 'overall_runs', 'balls', 'average', 'strike_rate',\n",
    "       'centuries', 'fifties', 'zeros', 'rolling_test_5', 'innings_evm']]"
   ]
  },
  {
   "cell_type": "code",
   "execution_count": 161,
   "metadata": {},
   "outputs": [
    {
     "data": {
      "text/plain": [
       "Index(['innings_played', 'previous_average', 'previous_strike_rate',\n",
       "       'previous_centuries', 'previous_fifties', 'previous_zeros', 'runs',\n",
       "       'innings', 'overall_runs', 'balls', 'average', 'strike_rate',\n",
       "       'centuries', 'fifties', 'zeros', 'rolling_test_5', 'innings_evm',\n",
       "       'team_India', 'opposition_Afghanistan', 'opposition_Australia',\n",
       "       'opposition_Bangladesh', 'opposition_England', 'opposition_Ireland',\n",
       "       'opposition_Netherlands', 'opposition_New Zealand',\n",
       "       'opposition_Pakistan', 'opposition_South Africa',\n",
       "       'opposition_Sri Lanka', 'opposition_United Arab Emirates',\n",
       "       'opposition_West Indies', 'opposition_Zimbabwe', 'venue_Adelaide Oval',\n",
       "       'venue_Arun Jaitley Stadium', 'venue_Barabati Stadium',\n",
       "       'venue_Bay Oval', 'venue_Brabourne Stadium',\n",
       "       'venue_Brisbane Cricket Ground, Woolloongabba',\n",
       "       'venue_Dr. Y.S. Rajasekhara Reddy ACA-VDCA Cricket Stadium',\n",
       "       'venue_Eden Gardens', 'venue_Eden Park', 'venue_Edgbaston',\n",
       "       'venue_Feroz Shah Kotla', 'venue_Green Park',\n",
       "       'venue_Greenfield International Stadium', 'venue_Harare Sports Club',\n",
       "       'venue_Headingley',\n",
       "       'venue_Himachal Pradesh Cricket Association Stadium',\n",
       "       'venue_Holkar Cricket Stadium',\n",
       "       'venue_JSCA International Stadium Complex', 'venue_Kennington Oval',\n",
       "       'venue_Khan Shaheb Osman Ali Stadium', 'venue_Kingsmead',\n",
       "       'venue_Lord's', 'venue_M Chinnaswamy Stadium',\n",
       "       'venue_M.Chinnaswamy Stadium', 'venue_MA Chidambaram Stadium, Chepauk',\n",
       "       'venue_Madhavrao Scindia Cricket Ground',\n",
       "       'venue_Maharashtra Cricket Association Stadium',\n",
       "       'venue_Mahinda Rajapaksa International Cricket Stadium, Sooriyawewa',\n",
       "       'venue_Manuka Oval', 'venue_McLean Park',\n",
       "       'venue_Melbourne Cricket Ground', 'venue_Nehru Stadium',\n",
       "       'venue_New Wanderers Stadium', 'venue_Newlands', 'venue_Old Trafford',\n",
       "       'venue_Pallekele International Cricket Stadium',\n",
       "       'venue_Punjab Cricket Association IS Bindra Stadium, Mohali',\n",
       "       'venue_Punjab Cricket Association Stadium, Mohali',\n",
       "       'venue_Queen's Park Oval, Port of Spain',\n",
       "       'venue_Queen's Park Oval, Trinidad', 'venue_Queens Sports Club',\n",
       "       'venue_R Premadasa Stadium', 'venue_R.Premadasa Stadium, Khettarama',\n",
       "       'venue_Rajiv Gandhi International Stadium, Uppal',\n",
       "       'venue_Rangiri Dambulla International Stadium',\n",
       "       'venue_Reliance Stadium', 'venue_Riverside Ground',\n",
       "       'venue_Sabina Park, Kingston', 'venue_Sardar Patel Stadium, Motera',\n",
       "       'venue_Saurashtra Cricket Association Stadium',\n",
       "       'venue_Sawai Mansingh Stadium', 'venue_Seddon Park',\n",
       "       'venue_Shere Bangla National Stadium',\n",
       "       'venue_Sir Vivian Richards Stadium, North Sound',\n",
       "       'venue_Sophia Gardens', 'venue_St George's Park',\n",
       "       'venue_SuperSport Park', 'venue_Sydney Cricket Ground',\n",
       "       'venue_The Rose Bowl', 'venue_The Wanderers Stadium',\n",
       "       'venue_Trent Bridge',\n",
       "       'venue_Vidarbha Cricket Association Stadium, Jamtha',\n",
       "       'venue_Wankhede Stadium',\n",
       "       'venue_Western Australia Cricket Association Ground',\n",
       "       'venue_Westpac Stadium'],\n",
       "      dtype='object')"
      ]
     },
     "execution_count": 161,
     "metadata": {},
     "output_type": "execute_result"
    }
   ],
   "source": [
    "df3.columns"
   ]
  },
  {
   "cell_type": "code",
   "execution_count": 162,
   "metadata": {},
   "outputs": [
    {
     "data": {
      "text/plain": [
       "<bound method IndexOpsMixin.value_counts of 9362                                 Edgbaston\n",
       "9363                           Kennington Oval\n",
       "9364                           Kennington Oval\n",
       "9365                                 Edgbaston\n",
       "9366                           Kennington Oval\n",
       "                         ...                  \n",
       "9600                     Sydney Cricket Ground\n",
       "9601                                Green Park\n",
       "9602                    Holkar Cricket Stadium\n",
       "9603    Saurashtra Cricket Association Stadium\n",
       "9605                          Wankhede Stadium\n",
       "Name: venue, Length: 231, dtype: object>"
      ]
     },
     "execution_count": 162,
     "metadata": {},
     "output_type": "execute_result"
    }
   ],
   "source": [
    "df2['venue'].value_counts"
   ]
  },
  {
   "cell_type": "code",
   "execution_count": 163,
   "metadata": {},
   "outputs": [
    {
     "data": {
      "text/plain": [
       "Index(['innings_played', 'previous_average', 'previous_strike_rate',\n",
       "       'previous_centuries', 'previous_fifties', 'previous_zeros', 'runs',\n",
       "       'innings', 'overall_runs', 'balls', 'average', 'strike_rate',\n",
       "       'centuries', 'fifties', 'zeros', 'rolling_test_5', 'innings_evm',\n",
       "       'team_India', 'opposition_Afghanistan', 'opposition_Australia',\n",
       "       'opposition_Bangladesh', 'opposition_England', 'opposition_Ireland',\n",
       "       'opposition_Netherlands', 'opposition_New Zealand',\n",
       "       'opposition_Pakistan', 'opposition_South Africa',\n",
       "       'opposition_Sri Lanka', 'opposition_United Arab Emirates',\n",
       "       'opposition_West Indies', 'opposition_Zimbabwe', 'venue_Adelaide Oval',\n",
       "       'venue_Arun Jaitley Stadium', 'venue_Barabati Stadium',\n",
       "       'venue_Bay Oval', 'venue_Brabourne Stadium',\n",
       "       'venue_Brisbane Cricket Ground, Woolloongabba',\n",
       "       'venue_Dr. Y.S. Rajasekhara Reddy ACA-VDCA Cricket Stadium',\n",
       "       'venue_Eden Gardens', 'venue_Eden Park', 'venue_Edgbaston',\n",
       "       'venue_Feroz Shah Kotla', 'venue_Green Park',\n",
       "       'venue_Greenfield International Stadium', 'venue_Harare Sports Club',\n",
       "       'venue_Headingley',\n",
       "       'venue_Himachal Pradesh Cricket Association Stadium',\n",
       "       'venue_Holkar Cricket Stadium',\n",
       "       'venue_JSCA International Stadium Complex', 'venue_Kennington Oval',\n",
       "       'venue_Khan Shaheb Osman Ali Stadium', 'venue_Kingsmead',\n",
       "       'venue_Lord's', 'venue_M Chinnaswamy Stadium',\n",
       "       'venue_M.Chinnaswamy Stadium', 'venue_MA Chidambaram Stadium, Chepauk',\n",
       "       'venue_Madhavrao Scindia Cricket Ground',\n",
       "       'venue_Maharashtra Cricket Association Stadium',\n",
       "       'venue_Mahinda Rajapaksa International Cricket Stadium, Sooriyawewa',\n",
       "       'venue_Manuka Oval', 'venue_McLean Park',\n",
       "       'venue_Melbourne Cricket Ground', 'venue_Nehru Stadium',\n",
       "       'venue_New Wanderers Stadium', 'venue_Newlands', 'venue_Old Trafford',\n",
       "       'venue_Pallekele International Cricket Stadium',\n",
       "       'venue_Punjab Cricket Association IS Bindra Stadium, Mohali',\n",
       "       'venue_Punjab Cricket Association Stadium, Mohali',\n",
       "       'venue_Queen's Park Oval, Port of Spain',\n",
       "       'venue_Queen's Park Oval, Trinidad', 'venue_Queens Sports Club',\n",
       "       'venue_R Premadasa Stadium', 'venue_R.Premadasa Stadium, Khettarama',\n",
       "       'venue_Rajiv Gandhi International Stadium, Uppal',\n",
       "       'venue_Rangiri Dambulla International Stadium',\n",
       "       'venue_Reliance Stadium', 'venue_Riverside Ground',\n",
       "       'venue_Sabina Park, Kingston', 'venue_Sardar Patel Stadium, Motera',\n",
       "       'venue_Saurashtra Cricket Association Stadium',\n",
       "       'venue_Sawai Mansingh Stadium', 'venue_Seddon Park',\n",
       "       'venue_Shere Bangla National Stadium',\n",
       "       'venue_Sir Vivian Richards Stadium, North Sound',\n",
       "       'venue_Sophia Gardens', 'venue_St George's Park',\n",
       "       'venue_SuperSport Park', 'venue_Sydney Cricket Ground',\n",
       "       'venue_The Rose Bowl', 'venue_The Wanderers Stadium',\n",
       "       'venue_Trent Bridge',\n",
       "       'venue_Vidarbha Cricket Association Stadium, Jamtha',\n",
       "       'venue_Wankhede Stadium',\n",
       "       'venue_Western Australia Cricket Association Ground',\n",
       "       'venue_Westpac Stadium'],\n",
       "      dtype='object')"
      ]
     },
     "execution_count": 163,
     "metadata": {},
     "output_type": "execute_result"
    }
   ],
   "source": [
    "df3.columns"
   ]
  },
  {
   "cell_type": "code",
   "execution_count": 164,
   "metadata": {},
   "outputs": [
    {
     "ename": "ValueError",
     "evalue": "Expected 2D array, got 1D array instead:\narray=[].\nReshape your data either using array.reshape(-1, 1) if your data has a single feature or array.reshape(1, -1) if it contains a single sample.",
     "output_type": "error",
     "traceback": [
      "\u001b[1;31m---------------------------------------------------------------------------\u001b[0m",
      "\u001b[1;31mValueError\u001b[0m                                Traceback (most recent call last)",
      "\u001b[1;32m<ipython-input-164-9126bb7bf209>\u001b[0m in \u001b[0;36m<module>\u001b[1;34m\u001b[0m\n\u001b[1;32m----> 1\u001b[1;33m \u001b[0mforest_model\u001b[0m\u001b[1;33m.\u001b[0m\u001b[0mpredict\u001b[0m\u001b[1;33m(\u001b[0m\u001b[1;33m[\u001b[0m\u001b[1;33m]\u001b[0m\u001b[1;33m)\u001b[0m\u001b[1;33m\u001b[0m\u001b[1;33m\u001b[0m\u001b[0m\n\u001b[0m",
      "\u001b[1;32mD:\\Programs\\Anaconda\\lib\\site-packages\\sklearn\\ensemble\\_forest.py\u001b[0m in \u001b[0;36mpredict\u001b[1;34m(self, X)\u001b[0m\n\u001b[0;32m    782\u001b[0m         \u001b[0mcheck_is_fitted\u001b[0m\u001b[1;33m(\u001b[0m\u001b[0mself\u001b[0m\u001b[1;33m)\u001b[0m\u001b[1;33m\u001b[0m\u001b[1;33m\u001b[0m\u001b[0m\n\u001b[0;32m    783\u001b[0m         \u001b[1;31m# Check data\u001b[0m\u001b[1;33m\u001b[0m\u001b[1;33m\u001b[0m\u001b[1;33m\u001b[0m\u001b[0m\n\u001b[1;32m--> 784\u001b[1;33m         \u001b[0mX\u001b[0m \u001b[1;33m=\u001b[0m \u001b[0mself\u001b[0m\u001b[1;33m.\u001b[0m\u001b[0m_validate_X_predict\u001b[0m\u001b[1;33m(\u001b[0m\u001b[0mX\u001b[0m\u001b[1;33m)\u001b[0m\u001b[1;33m\u001b[0m\u001b[1;33m\u001b[0m\u001b[0m\n\u001b[0m\u001b[0;32m    785\u001b[0m \u001b[1;33m\u001b[0m\u001b[0m\n\u001b[0;32m    786\u001b[0m         \u001b[1;31m# Assign chunk of trees to jobs\u001b[0m\u001b[1;33m\u001b[0m\u001b[1;33m\u001b[0m\u001b[1;33m\u001b[0m\u001b[0m\n",
      "\u001b[1;32mD:\\Programs\\Anaconda\\lib\\site-packages\\sklearn\\ensemble\\_forest.py\u001b[0m in \u001b[0;36m_validate_X_predict\u001b[1;34m(self, X)\u001b[0m\n\u001b[0;32m    420\u001b[0m         \u001b[0mcheck_is_fitted\u001b[0m\u001b[1;33m(\u001b[0m\u001b[0mself\u001b[0m\u001b[1;33m)\u001b[0m\u001b[1;33m\u001b[0m\u001b[1;33m\u001b[0m\u001b[0m\n\u001b[0;32m    421\u001b[0m \u001b[1;33m\u001b[0m\u001b[0m\n\u001b[1;32m--> 422\u001b[1;33m         \u001b[1;32mreturn\u001b[0m \u001b[0mself\u001b[0m\u001b[1;33m.\u001b[0m\u001b[0mestimators_\u001b[0m\u001b[1;33m[\u001b[0m\u001b[1;36m0\u001b[0m\u001b[1;33m]\u001b[0m\u001b[1;33m.\u001b[0m\u001b[0m_validate_X_predict\u001b[0m\u001b[1;33m(\u001b[0m\u001b[0mX\u001b[0m\u001b[1;33m,\u001b[0m \u001b[0mcheck_input\u001b[0m\u001b[1;33m=\u001b[0m\u001b[1;32mTrue\u001b[0m\u001b[1;33m)\u001b[0m\u001b[1;33m\u001b[0m\u001b[1;33m\u001b[0m\u001b[0m\n\u001b[0m\u001b[0;32m    423\u001b[0m \u001b[1;33m\u001b[0m\u001b[0m\n\u001b[0;32m    424\u001b[0m     \u001b[1;33m@\u001b[0m\u001b[0mproperty\u001b[0m\u001b[1;33m\u001b[0m\u001b[1;33m\u001b[0m\u001b[0m\n",
      "\u001b[1;32mD:\\Programs\\Anaconda\\lib\\site-packages\\sklearn\\tree\\_classes.py\u001b[0m in \u001b[0;36m_validate_X_predict\u001b[1;34m(self, X, check_input)\u001b[0m\n\u001b[0;32m    400\u001b[0m         \u001b[1;34m\"\"\"Validate the training data on predict (probabilities).\"\"\"\u001b[0m\u001b[1;33m\u001b[0m\u001b[1;33m\u001b[0m\u001b[0m\n\u001b[0;32m    401\u001b[0m         \u001b[1;32mif\u001b[0m \u001b[0mcheck_input\u001b[0m\u001b[1;33m:\u001b[0m\u001b[1;33m\u001b[0m\u001b[1;33m\u001b[0m\u001b[0m\n\u001b[1;32m--> 402\u001b[1;33m             X = self._validate_data(X, dtype=DTYPE, accept_sparse=\"csr\",\n\u001b[0m\u001b[0;32m    403\u001b[0m                                     reset=False)\n\u001b[0;32m    404\u001b[0m             if issparse(X) and (X.indices.dtype != np.intc or\n",
      "\u001b[1;32mD:\\Programs\\Anaconda\\lib\\site-packages\\sklearn\\base.py\u001b[0m in \u001b[0;36m_validate_data\u001b[1;34m(self, X, y, reset, validate_separately, **check_params)\u001b[0m\n\u001b[0;32m    419\u001b[0m             \u001b[0mout\u001b[0m \u001b[1;33m=\u001b[0m \u001b[0mX\u001b[0m\u001b[1;33m\u001b[0m\u001b[1;33m\u001b[0m\u001b[0m\n\u001b[0;32m    420\u001b[0m         \u001b[1;32melif\u001b[0m \u001b[0misinstance\u001b[0m\u001b[1;33m(\u001b[0m\u001b[0my\u001b[0m\u001b[1;33m,\u001b[0m \u001b[0mstr\u001b[0m\u001b[1;33m)\u001b[0m \u001b[1;32mand\u001b[0m \u001b[0my\u001b[0m \u001b[1;33m==\u001b[0m \u001b[1;34m'no_validation'\u001b[0m\u001b[1;33m:\u001b[0m\u001b[1;33m\u001b[0m\u001b[1;33m\u001b[0m\u001b[0m\n\u001b[1;32m--> 421\u001b[1;33m             \u001b[0mX\u001b[0m \u001b[1;33m=\u001b[0m \u001b[0mcheck_array\u001b[0m\u001b[1;33m(\u001b[0m\u001b[0mX\u001b[0m\u001b[1;33m,\u001b[0m \u001b[1;33m**\u001b[0m\u001b[0mcheck_params\u001b[0m\u001b[1;33m)\u001b[0m\u001b[1;33m\u001b[0m\u001b[1;33m\u001b[0m\u001b[0m\n\u001b[0m\u001b[0;32m    422\u001b[0m             \u001b[0mout\u001b[0m \u001b[1;33m=\u001b[0m \u001b[0mX\u001b[0m\u001b[1;33m\u001b[0m\u001b[1;33m\u001b[0m\u001b[0m\n\u001b[0;32m    423\u001b[0m         \u001b[1;32melse\u001b[0m\u001b[1;33m:\u001b[0m\u001b[1;33m\u001b[0m\u001b[1;33m\u001b[0m\u001b[0m\n",
      "\u001b[1;32mD:\\Programs\\Anaconda\\lib\\site-packages\\sklearn\\utils\\validation.py\u001b[0m in \u001b[0;36minner_f\u001b[1;34m(*args, **kwargs)\u001b[0m\n\u001b[0;32m     61\u001b[0m             \u001b[0mextra_args\u001b[0m \u001b[1;33m=\u001b[0m \u001b[0mlen\u001b[0m\u001b[1;33m(\u001b[0m\u001b[0margs\u001b[0m\u001b[1;33m)\u001b[0m \u001b[1;33m-\u001b[0m \u001b[0mlen\u001b[0m\u001b[1;33m(\u001b[0m\u001b[0mall_args\u001b[0m\u001b[1;33m)\u001b[0m\u001b[1;33m\u001b[0m\u001b[1;33m\u001b[0m\u001b[0m\n\u001b[0;32m     62\u001b[0m             \u001b[1;32mif\u001b[0m \u001b[0mextra_args\u001b[0m \u001b[1;33m<=\u001b[0m \u001b[1;36m0\u001b[0m\u001b[1;33m:\u001b[0m\u001b[1;33m\u001b[0m\u001b[1;33m\u001b[0m\u001b[0m\n\u001b[1;32m---> 63\u001b[1;33m                 \u001b[1;32mreturn\u001b[0m \u001b[0mf\u001b[0m\u001b[1;33m(\u001b[0m\u001b[1;33m*\u001b[0m\u001b[0margs\u001b[0m\u001b[1;33m,\u001b[0m \u001b[1;33m**\u001b[0m\u001b[0mkwargs\u001b[0m\u001b[1;33m)\u001b[0m\u001b[1;33m\u001b[0m\u001b[1;33m\u001b[0m\u001b[0m\n\u001b[0m\u001b[0;32m     64\u001b[0m \u001b[1;33m\u001b[0m\u001b[0m\n\u001b[0;32m     65\u001b[0m             \u001b[1;31m# extra_args > 0\u001b[0m\u001b[1;33m\u001b[0m\u001b[1;33m\u001b[0m\u001b[1;33m\u001b[0m\u001b[0m\n",
      "\u001b[1;32mD:\\Programs\\Anaconda\\lib\\site-packages\\sklearn\\utils\\validation.py\u001b[0m in \u001b[0;36mcheck_array\u001b[1;34m(array, accept_sparse, accept_large_sparse, dtype, order, copy, force_all_finite, ensure_2d, allow_nd, ensure_min_samples, ensure_min_features, estimator)\u001b[0m\n\u001b[0;32m    635\u001b[0m             \u001b[1;31m# If input is 1D raise error\u001b[0m\u001b[1;33m\u001b[0m\u001b[1;33m\u001b[0m\u001b[1;33m\u001b[0m\u001b[0m\n\u001b[0;32m    636\u001b[0m             \u001b[1;32mif\u001b[0m \u001b[0marray\u001b[0m\u001b[1;33m.\u001b[0m\u001b[0mndim\u001b[0m \u001b[1;33m==\u001b[0m \u001b[1;36m1\u001b[0m\u001b[1;33m:\u001b[0m\u001b[1;33m\u001b[0m\u001b[1;33m\u001b[0m\u001b[0m\n\u001b[1;32m--> 637\u001b[1;33m                 raise ValueError(\n\u001b[0m\u001b[0;32m    638\u001b[0m                     \u001b[1;34m\"Expected 2D array, got 1D array instead:\\narray={}.\\n\"\u001b[0m\u001b[1;33m\u001b[0m\u001b[1;33m\u001b[0m\u001b[0m\n\u001b[0;32m    639\u001b[0m                     \u001b[1;34m\"Reshape your data either using array.reshape(-1, 1) if \"\u001b[0m\u001b[1;33m\u001b[0m\u001b[1;33m\u001b[0m\u001b[0m\n",
      "\u001b[1;31mValueError\u001b[0m: Expected 2D array, got 1D array instead:\narray=[].\nReshape your data either using array.reshape(-1, 1) if your data has a single feature or array.reshape(1, -1) if it contains a single sample."
     ]
    }
   ],
   "source": [
    "\n",
    "forest_model.predict([])"
   ]
  },
  {
   "cell_type": "code",
   "execution_count": null,
   "metadata": {},
   "outputs": [],
   "source": [
    "innings_played = df3.iloc[-1]['innings_played']\n",
    "previous_average = df3.iloc[-1]['previous_average']\n",
    "previous_strike_rate = df3.iloc[-1]['previous_strike_rate']\n",
    "previous_centuries = df3.iloc[-1]['previous_centuries']\n",
    "previous_fifties = df3.iloc[-1]['previous_fifties']\n",
    "previous_zeros = df3.iloc[-1]['previous_zeros']\n",
    "innings = df3.iloc[-1]['innings']\n",
    "balls = df3.iloc[-1]['balls']\n",
    "overall_runs = df3.iloc[-1]['overall_runs']\n",
    "rolling_test_5 = df3.iloc[-1]['rolling_test_5']\n",
    "innings_evm = df3.iloc[-1]['innings_evm']\n",
    "average = df3.iloc[-1]['average']\n",
    "strike_rate = df3.iloc[-1]['strike_rate']\n",
    "centuries = df3.iloc[-1]['centuries']\n",
    "fifties = df3.iloc[-1]['fifties']\n",
    "zeros = df3.iloc[-1]['zeros']\n",
    "\n",
    "list_of_prediction = [innings_played, previous_average, previous_strike_rate,\n",
    "       previous_centuries, previous_fifties, previous_zeros, innings, overall_runs, balls, average, strike_rate,\n",
    "       centuries, fifties, zeros, rolling_test_5, innings_evm]"
   ]
  },
  {
   "cell_type": "code",
   "execution_count": null,
   "metadata": {},
   "outputs": [],
   "source": [
    "l_zeros = [0]*78"
   ]
  },
  {
   "cell_type": "code",
   "execution_count": null,
   "metadata": {},
   "outputs": [],
   "source": []
  },
  {
   "cell_type": "code",
   "execution_count": null,
   "metadata": {},
   "outputs": [
    {
     "data": {
      "text/plain": [
       "array([11.02])"
      ]
     },
     "execution_count": 107,
     "metadata": {},
     "output_type": "execute_result"
    }
   ],
   "source": [
    "list_full = np.array(list_of_prediction+[1]+l_zeros)\n",
    "list_full = list_full.reshape(1, -1)\n",
    "\n",
    "forest_model.predict(list_full)"
   ]
  },
  {
   "cell_type": "code",
   "execution_count": null,
   "metadata": {},
   "outputs": [
    {
     "data": {
      "text/plain": [
       "9362    1\n",
       "9363    1\n",
       "9364    1\n",
       "9365    1\n",
       "9366    1\n",
       "       ..\n",
       "9600    1\n",
       "9601    1\n",
       "9602    1\n",
       "9603    1\n",
       "9605    1\n",
       "Name: team_India, Length: 231, dtype: uint8"
      ]
     },
     "execution_count": 101,
     "metadata": {},
     "output_type": "execute_result"
    }
   ],
   "source": [
    "df3['team_India']"
   ]
  },
  {
   "cell_type": "code",
   "execution_count": null,
   "metadata": {},
   "outputs": [],
   "source": [
    "from sklearn.neighbors import KNeighborsClassifier\n",
    "from sklearn.datasets import load_iris"
   ]
  },
  {
   "cell_type": "code",
   "execution_count": null,
   "metadata": {},
   "outputs": [],
   "source": [
    "knn = KNeighborsClassifier(n_neighbors=7)\n",
    "\n",
    "knn.fit(X_train, y_train)\n",
    "\n",
    "# Predict on dataset which model has not seen before\n",
    "print(knn.predict(X_test))"
   ]
  },
  {
   "cell_type": "code",
   "execution_count": null,
   "metadata": {},
   "outputs": [],
   "source": []
  },
  {
   "cell_type": "code",
   "execution_count": null,
   "metadata": {},
   "outputs": [],
   "source": []
  },
  {
   "cell_type": "code",
   "execution_count": null,
   "metadata": {},
   "outputs": [],
   "source": []
  },
  {
   "cell_type": "code",
   "execution_count": null,
   "metadata": {},
   "outputs": [],
   "source": []
  }
 ],
 "metadata": {
  "interpreter": {
   "hash": "919eb0904b72c37e8d6c7e3b2f7b6f162c89cafcc297fba09b2d10c79c52f5eb"
  },
  "kernelspec": {
   "display_name": "Python 3",
   "language": "python",
   "name": "python3"
  },
  "language_info": {
   "codemirror_mode": {
    "name": "ipython",
    "version": 3
   },
   "file_extension": ".py",
   "mimetype": "text/x-python",
   "name": "python",
   "nbconvert_exporter": "python",
   "pygments_lexer": "ipython3",
   "version": "3.8.8"
  }
 },
 "nbformat": 4,
 "nbformat_minor": 2
}
