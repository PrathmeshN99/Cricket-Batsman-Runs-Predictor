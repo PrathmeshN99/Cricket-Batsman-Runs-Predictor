{
 "cells": [
  {
   "cell_type": "code",
   "execution_count": 28,
   "metadata": {},
   "outputs": [],
   "source": [
    "import pandas as pd\n",
    "import matplotlib.pyplot as plt \n",
    "import numpy as np"
   ]
  },
  {
   "cell_type": "code",
   "execution_count": 29,
   "metadata": {},
   "outputs": [],
   "source": [
    "match_df = pd.read_csv('match_batsman_details.csv')"
   ]
  },
  {
   "cell_type": "code",
   "execution_count": 30,
   "metadata": {},
   "outputs": [],
   "source": [
    "overall_df = pd.read_csv('../overall_batsman_details.csv')"
   ]
  },
  {
   "cell_type": "code",
   "execution_count": 31,
   "metadata": {},
   "outputs": [
    {
     "data": {
      "text/html": [
       "<div>\n",
       "<style scoped>\n",
       "    .dataframe tbody tr th:only-of-type {\n",
       "        vertical-align: middle;\n",
       "    }\n",
       "\n",
       "    .dataframe tbody tr th {\n",
       "        vertical-align: top;\n",
       "    }\n",
       "\n",
       "    .dataframe thead th {\n",
       "        text-align: right;\n",
       "    }\n",
       "</style>\n",
       "<table border=\"1\" class=\"dataframe\">\n",
       "  <thead>\n",
       "    <tr style=\"text-align: right;\">\n",
       "      <th></th>\n",
       "      <th>Unnamed: 0</th>\n",
       "      <th>date</th>\n",
       "      <th>name</th>\n",
       "      <th>team</th>\n",
       "      <th>opposition</th>\n",
       "      <th>venue</th>\n",
       "      <th>batting_innings</th>\n",
       "      <th>innings_played</th>\n",
       "      <th>previous_average</th>\n",
       "      <th>previous_strike_rate</th>\n",
       "      <th>previous_centuries</th>\n",
       "      <th>previous_fifties</th>\n",
       "      <th>previous_zeros</th>\n",
       "      <th>runs</th>\n",
       "      <th>balls</th>\n",
       "    </tr>\n",
       "  </thead>\n",
       "  <tbody>\n",
       "    <tr>\n",
       "      <th>0</th>\n",
       "      <td>0</td>\n",
       "      <td>2017-01-13</td>\n",
       "      <td>DA Warner</td>\n",
       "      <td>Australia</td>\n",
       "      <td>Pakistan</td>\n",
       "      <td>Brisbane Cricket Ground, Woolloongabba</td>\n",
       "      <td>NaN</td>\n",
       "      <td>0</td>\n",
       "      <td>0.0</td>\n",
       "      <td>0.0</td>\n",
       "      <td>0</td>\n",
       "      <td>0</td>\n",
       "      <td>0</td>\n",
       "      <td>7</td>\n",
       "      <td>NaN</td>\n",
       "    </tr>\n",
       "    <tr>\n",
       "      <th>1</th>\n",
       "      <td>1</td>\n",
       "      <td>2017-01-13</td>\n",
       "      <td>TM Head</td>\n",
       "      <td>Australia</td>\n",
       "      <td>Pakistan</td>\n",
       "      <td>Brisbane Cricket Ground, Woolloongabba</td>\n",
       "      <td>NaN</td>\n",
       "      <td>0</td>\n",
       "      <td>0.0</td>\n",
       "      <td>0.0</td>\n",
       "      <td>0</td>\n",
       "      <td>0</td>\n",
       "      <td>0</td>\n",
       "      <td>39</td>\n",
       "      <td>NaN</td>\n",
       "    </tr>\n",
       "    <tr>\n",
       "      <th>2</th>\n",
       "      <td>2</td>\n",
       "      <td>2017-01-13</td>\n",
       "      <td>SPD Smith</td>\n",
       "      <td>Australia</td>\n",
       "      <td>Pakistan</td>\n",
       "      <td>Brisbane Cricket Ground, Woolloongabba</td>\n",
       "      <td>NaN</td>\n",
       "      <td>0</td>\n",
       "      <td>0.0</td>\n",
       "      <td>0.0</td>\n",
       "      <td>0</td>\n",
       "      <td>0</td>\n",
       "      <td>0</td>\n",
       "      <td>0</td>\n",
       "      <td>NaN</td>\n",
       "    </tr>\n",
       "    <tr>\n",
       "      <th>3</th>\n",
       "      <td>3</td>\n",
       "      <td>2017-01-13</td>\n",
       "      <td>CA Lynn</td>\n",
       "      <td>Australia</td>\n",
       "      <td>Pakistan</td>\n",
       "      <td>Brisbane Cricket Ground, Woolloongabba</td>\n",
       "      <td>NaN</td>\n",
       "      <td>0</td>\n",
       "      <td>0.0</td>\n",
       "      <td>0.0</td>\n",
       "      <td>0</td>\n",
       "      <td>0</td>\n",
       "      <td>0</td>\n",
       "      <td>16</td>\n",
       "      <td>NaN</td>\n",
       "    </tr>\n",
       "    <tr>\n",
       "      <th>4</th>\n",
       "      <td>4</td>\n",
       "      <td>2017-01-13</td>\n",
       "      <td>MR Marsh</td>\n",
       "      <td>Australia</td>\n",
       "      <td>Pakistan</td>\n",
       "      <td>Brisbane Cricket Ground, Woolloongabba</td>\n",
       "      <td>NaN</td>\n",
       "      <td>0</td>\n",
       "      <td>0.0</td>\n",
       "      <td>0.0</td>\n",
       "      <td>0</td>\n",
       "      <td>0</td>\n",
       "      <td>0</td>\n",
       "      <td>4</td>\n",
       "      <td>NaN</td>\n",
       "    </tr>\n",
       "  </tbody>\n",
       "</table>\n",
       "</div>"
      ],
      "text/plain": [
       "   Unnamed: 0        date       name       team opposition  \\\n",
       "0           0  2017-01-13  DA Warner  Australia   Pakistan   \n",
       "1           1  2017-01-13    TM Head  Australia   Pakistan   \n",
       "2           2  2017-01-13  SPD Smith  Australia   Pakistan   \n",
       "3           3  2017-01-13    CA Lynn  Australia   Pakistan   \n",
       "4           4  2017-01-13   MR Marsh  Australia   Pakistan   \n",
       "\n",
       "                                    venue  batting_innings  innings_played  \\\n",
       "0  Brisbane Cricket Ground, Woolloongabba              NaN               0   \n",
       "1  Brisbane Cricket Ground, Woolloongabba              NaN               0   \n",
       "2  Brisbane Cricket Ground, Woolloongabba              NaN               0   \n",
       "3  Brisbane Cricket Ground, Woolloongabba              NaN               0   \n",
       "4  Brisbane Cricket Ground, Woolloongabba              NaN               0   \n",
       "\n",
       "   previous_average  previous_strike_rate  previous_centuries  \\\n",
       "0               0.0                   0.0                   0   \n",
       "1               0.0                   0.0                   0   \n",
       "2               0.0                   0.0                   0   \n",
       "3               0.0                   0.0                   0   \n",
       "4               0.0                   0.0                   0   \n",
       "\n",
       "   previous_fifties  previous_zeros  runs  balls  \n",
       "0                 0               0     7    NaN  \n",
       "1                 0               0    39    NaN  \n",
       "2                 0               0     0    NaN  \n",
       "3                 0               0    16    NaN  \n",
       "4                 0               0     4    NaN  "
      ]
     },
     "execution_count": 31,
     "metadata": {},
     "output_type": "execute_result"
    }
   ],
   "source": [
    "match_df.head()"
   ]
  },
  {
   "cell_type": "code",
   "execution_count": null,
   "metadata": {},
   "outputs": [],
   "source": []
  },
  {
   "cell_type": "code",
   "execution_count": null,
   "metadata": {},
   "outputs": [],
   "source": []
  },
  {
   "cell_type": "code",
   "execution_count": null,
   "metadata": {},
   "outputs": [],
   "source": []
  },
  {
   "cell_type": "code",
   "execution_count": null,
   "metadata": {},
   "outputs": [],
   "source": []
  },
  {
   "cell_type": "code",
   "execution_count": null,
   "metadata": {},
   "outputs": [],
   "source": []
  },
  {
   "cell_type": "code",
   "execution_count": 32,
   "metadata": {},
   "outputs": [
    {
     "data": {
      "text/html": [
       "<div>\n",
       "<style scoped>\n",
       "    .dataframe tbody tr th:only-of-type {\n",
       "        vertical-align: middle;\n",
       "    }\n",
       "\n",
       "    .dataframe tbody tr th {\n",
       "        vertical-align: top;\n",
       "    }\n",
       "\n",
       "    .dataframe thead th {\n",
       "        text-align: right;\n",
       "    }\n",
       "</style>\n",
       "<table border=\"1\" class=\"dataframe\">\n",
       "  <thead>\n",
       "    <tr style=\"text-align: right;\">\n",
       "      <th></th>\n",
       "      <th>player_name</th>\n",
       "      <th>team</th>\n",
       "      <th>innings</th>\n",
       "      <th>overall_runs</th>\n",
       "      <th>balls</th>\n",
       "      <th>average</th>\n",
       "      <th>strike_rate</th>\n",
       "      <th>centuries</th>\n",
       "      <th>fifties</th>\n",
       "      <th>zeros</th>\n",
       "    </tr>\n",
       "  </thead>\n",
       "  <tbody>\n",
       "    <tr>\n",
       "      <th>0</th>\n",
       "      <td>DA Warner</td>\n",
       "      <td>Australia</td>\n",
       "      <td>125</td>\n",
       "      <td>5455</td>\n",
       "      <td>5828</td>\n",
       "      <td>43.640000</td>\n",
       "      <td>84.561309</td>\n",
       "      <td>18</td>\n",
       "      <td>23</td>\n",
       "      <td>1</td>\n",
       "    </tr>\n",
       "    <tr>\n",
       "      <th>1</th>\n",
       "      <td>TM Head</td>\n",
       "      <td>Australia</td>\n",
       "      <td>39</td>\n",
       "      <td>1273</td>\n",
       "      <td>1442</td>\n",
       "      <td>32.641026</td>\n",
       "      <td>84.581456</td>\n",
       "      <td>1</td>\n",
       "      <td>10</td>\n",
       "      <td>1</td>\n",
       "    </tr>\n",
       "    <tr>\n",
       "      <th>2</th>\n",
       "      <td>SPD Smith</td>\n",
       "      <td>Australia</td>\n",
       "      <td>113</td>\n",
       "      <td>4378</td>\n",
       "      <td>5041</td>\n",
       "      <td>38.743363</td>\n",
       "      <td>83.123383</td>\n",
       "      <td>11</td>\n",
       "      <td>25</td>\n",
       "      <td>5</td>\n",
       "    </tr>\n",
       "    <tr>\n",
       "      <th>3</th>\n",
       "      <td>CA Lynn</td>\n",
       "      <td>Australia</td>\n",
       "      <td>4</td>\n",
       "      <td>75</td>\n",
       "      <td>92</td>\n",
       "      <td>18.750000</td>\n",
       "      <td>65.290179</td>\n",
       "      <td>0</td>\n",
       "      <td>0</td>\n",
       "      <td>1</td>\n",
       "    </tr>\n",
       "    <tr>\n",
       "      <th>4</th>\n",
       "      <td>MR Marsh</td>\n",
       "      <td>Australia</td>\n",
       "      <td>59</td>\n",
       "      <td>1672</td>\n",
       "      <td>1872</td>\n",
       "      <td>28.338983</td>\n",
       "      <td>79.700914</td>\n",
       "      <td>1</td>\n",
       "      <td>12</td>\n",
       "      <td>4</td>\n",
       "    </tr>\n",
       "  </tbody>\n",
       "</table>\n",
       "</div>"
      ],
      "text/plain": [
       "  player_name       team  innings  overall_runs  balls    average  \\\n",
       "0   DA Warner  Australia      125          5455   5828  43.640000   \n",
       "1     TM Head  Australia       39          1273   1442  32.641026   \n",
       "2   SPD Smith  Australia      113          4378   5041  38.743363   \n",
       "3     CA Lynn  Australia        4            75     92  18.750000   \n",
       "4    MR Marsh  Australia       59          1672   1872  28.338983   \n",
       "\n",
       "   strike_rate  centuries  fifties  zeros  \n",
       "0    84.561309         18       23      1  \n",
       "1    84.581456          1       10      1  \n",
       "2    83.123383         11       25      5  \n",
       "3    65.290179          0        0      1  \n",
       "4    79.700914          1       12      4  "
      ]
     },
     "execution_count": 32,
     "metadata": {},
     "output_type": "execute_result"
    }
   ],
   "source": [
    "overall_df.head()"
   ]
  },
  {
   "cell_type": "code",
   "execution_count": 33,
   "metadata": {},
   "outputs": [
    {
     "data": {
      "text/plain": [
       "(1873, 10)"
      ]
     },
     "execution_count": 33,
     "metadata": {},
     "output_type": "execute_result"
    }
   ],
   "source": [
    "overall_df.shape"
   ]
  },
  {
   "cell_type": "code",
   "execution_count": 34,
   "metadata": {},
   "outputs": [
    {
     "data": {
      "text/plain": [
       "Index(['player_name', 'team', 'innings', 'overall_runs', 'balls', 'average',\n",
       "       'strike_rate', 'centuries', 'fifties', 'zeros'],\n",
       "      dtype='object')"
      ]
     },
     "execution_count": 34,
     "metadata": {},
     "output_type": "execute_result"
    }
   ],
   "source": [
    "overall_df.columns"
   ]
  },
  {
   "cell_type": "code",
   "execution_count": 35,
   "metadata": {},
   "outputs": [
    {
     "data": {
      "text/plain": [
       "Index(['Unnamed: 0', 'date', 'name', 'team', 'opposition', 'venue',\n",
       "       'batting_innings', 'innings_played', 'previous_average',\n",
       "       'previous_strike_rate', 'previous_centuries', 'previous_fifties',\n",
       "       'previous_zeros', 'runs', 'balls'],\n",
       "      dtype='object')"
      ]
     },
     "execution_count": 35,
     "metadata": {},
     "output_type": "execute_result"
    }
   ],
   "source": [
    "match_df.columns"
   ]
  },
  {
   "cell_type": "code",
   "execution_count": 36,
   "metadata": {},
   "outputs": [
    {
     "data": {
      "text/plain": [
       "pandas.core.series.Series"
      ]
     },
     "execution_count": 36,
     "metadata": {},
     "output_type": "execute_result"
    }
   ],
   "source": [
    "type(match_df['date']) "
   ]
  },
  {
   "cell_type": "code",
   "execution_count": 37,
   "metadata": {},
   "outputs": [],
   "source": [
    "#match = pd.to_datetime(match_df['date'])"
   ]
  },
  {
   "cell_type": "code",
   "execution_count": 38,
   "metadata": {},
   "outputs": [],
   "source": [
    "#match_df['date'] = match"
   ]
  },
  {
   "cell_type": "code",
   "execution_count": 39,
   "metadata": {},
   "outputs": [],
   "source": [
    "#type(match_df['date'])"
   ]
  },
  {
   "cell_type": "code",
   "execution_count": 40,
   "metadata": {},
   "outputs": [],
   "source": [
    "match_df = match_df.drop(['date','Unnamed: 0','batting_innings','balls','team'],axis=1)"
   ]
  },
  {
   "cell_type": "code",
   "execution_count": 41,
   "metadata": {},
   "outputs": [],
   "source": [
    "df = match_df.merge(overall_df,left_on='name',right_on='player_name')"
   ]
  },
  {
   "cell_type": "code",
   "execution_count": 42,
   "metadata": {},
   "outputs": [
    {
     "data": {
      "text/html": [
       "<div>\n",
       "<style scoped>\n",
       "    .dataframe tbody tr th:only-of-type {\n",
       "        vertical-align: middle;\n",
       "    }\n",
       "\n",
       "    .dataframe tbody tr th {\n",
       "        vertical-align: top;\n",
       "    }\n",
       "\n",
       "    .dataframe thead th {\n",
       "        text-align: right;\n",
       "    }\n",
       "</style>\n",
       "<table border=\"1\" class=\"dataframe\">\n",
       "  <thead>\n",
       "    <tr style=\"text-align: right;\">\n",
       "      <th></th>\n",
       "      <th>innings_played</th>\n",
       "      <th>previous_average</th>\n",
       "      <th>previous_strike_rate</th>\n",
       "      <th>previous_centuries</th>\n",
       "      <th>previous_fifties</th>\n",
       "      <th>previous_zeros</th>\n",
       "      <th>runs</th>\n",
       "      <th>innings</th>\n",
       "      <th>overall_runs</th>\n",
       "      <th>balls</th>\n",
       "      <th>average</th>\n",
       "      <th>strike_rate</th>\n",
       "      <th>centuries</th>\n",
       "      <th>fifties</th>\n",
       "      <th>zeros</th>\n",
       "    </tr>\n",
       "  </thead>\n",
       "  <tbody>\n",
       "    <tr>\n",
       "      <th>count</th>\n",
       "      <td>38594.000000</td>\n",
       "      <td>38594.000000</td>\n",
       "      <td>38594.000000</td>\n",
       "      <td>38594.000000</td>\n",
       "      <td>38594.000000</td>\n",
       "      <td>38594.000000</td>\n",
       "      <td>38594.000000</td>\n",
       "      <td>38594.000000</td>\n",
       "      <td>38594.000000</td>\n",
       "      <td>38594.000000</td>\n",
       "      <td>38594.000000</td>\n",
       "      <td>38594.000000</td>\n",
       "      <td>38594.000000</td>\n",
       "      <td>38594.000000</td>\n",
       "      <td>38594.000000</td>\n",
       "    </tr>\n",
       "    <tr>\n",
       "      <th>mean</th>\n",
       "      <td>38.284941</td>\n",
       "      <td>23.378583</td>\n",
       "      <td>67.063590</td>\n",
       "      <td>1.795797</td>\n",
       "      <td>6.573975</td>\n",
       "      <td>2.720552</td>\n",
       "      <td>23.943592</td>\n",
       "      <td>77.569881</td>\n",
       "      <td>2325.919029</td>\n",
       "      <td>2841.601726</td>\n",
       "      <td>23.943592</td>\n",
       "      <td>69.945701</td>\n",
       "      <td>3.704928</td>\n",
       "      <td>13.231202</td>\n",
       "      <td>5.543815</td>\n",
       "    </tr>\n",
       "    <tr>\n",
       "      <th>std</th>\n",
       "      <td>44.807299</td>\n",
       "      <td>14.185508</td>\n",
       "      <td>25.456710</td>\n",
       "      <td>3.867134</td>\n",
       "      <td>10.123423</td>\n",
       "      <td>3.169558</td>\n",
       "      <td>27.720348</td>\n",
       "      <td>67.223669</td>\n",
       "      <td>2619.120112</td>\n",
       "      <td>3098.724255</td>\n",
       "      <td>11.819724</td>\n",
       "      <td>16.974603</td>\n",
       "      <td>6.450684</td>\n",
       "      <td>16.160001</td>\n",
       "      <td>4.612568</td>\n",
       "    </tr>\n",
       "    <tr>\n",
       "      <th>min</th>\n",
       "      <td>0.000000</td>\n",
       "      <td>0.000000</td>\n",
       "      <td>0.000000</td>\n",
       "      <td>0.000000</td>\n",
       "      <td>0.000000</td>\n",
       "      <td>0.000000</td>\n",
       "      <td>0.000000</td>\n",
       "      <td>1.000000</td>\n",
       "      <td>0.000000</td>\n",
       "      <td>1.000000</td>\n",
       "      <td>0.000000</td>\n",
       "      <td>0.000000</td>\n",
       "      <td>0.000000</td>\n",
       "      <td>0.000000</td>\n",
       "      <td>0.000000</td>\n",
       "    </tr>\n",
       "    <tr>\n",
       "      <th>25%</th>\n",
       "      <td>7.000000</td>\n",
       "      <td>11.800000</td>\n",
       "      <td>57.306836</td>\n",
       "      <td>0.000000</td>\n",
       "      <td>0.000000</td>\n",
       "      <td>0.000000</td>\n",
       "      <td>4.000000</td>\n",
       "      <td>25.000000</td>\n",
       "      <td>324.000000</td>\n",
       "      <td>474.000000</td>\n",
       "      <td>14.071429</td>\n",
       "      <td>60.276319</td>\n",
       "      <td>0.000000</td>\n",
       "      <td>1.000000</td>\n",
       "      <td>2.000000</td>\n",
       "    </tr>\n",
       "    <tr>\n",
       "      <th>50%</th>\n",
       "      <td>21.000000</td>\n",
       "      <td>23.750000</td>\n",
       "      <td>69.776680</td>\n",
       "      <td>0.000000</td>\n",
       "      <td>2.000000</td>\n",
       "      <td>2.000000</td>\n",
       "      <td>14.000000</td>\n",
       "      <td>54.000000</td>\n",
       "      <td>1261.000000</td>\n",
       "      <td>1582.000000</td>\n",
       "      <td>24.837838</td>\n",
       "      <td>70.592708</td>\n",
       "      <td>1.000000</td>\n",
       "      <td>6.000000</td>\n",
       "      <td>4.000000</td>\n",
       "    </tr>\n",
       "    <tr>\n",
       "      <th>75%</th>\n",
       "      <td>53.000000</td>\n",
       "      <td>33.666667</td>\n",
       "      <td>80.926392</td>\n",
       "      <td>2.000000</td>\n",
       "      <td>9.000000</td>\n",
       "      <td>4.000000</td>\n",
       "      <td>34.000000</td>\n",
       "      <td>116.000000</td>\n",
       "      <td>3583.000000</td>\n",
       "      <td>4406.000000</td>\n",
       "      <td>33.048913</td>\n",
       "      <td>80.089563</td>\n",
       "      <td>5.000000</td>\n",
       "      <td>21.000000</td>\n",
       "      <td>9.000000</td>\n",
       "    </tr>\n",
       "    <tr>\n",
       "      <th>max</th>\n",
       "      <td>280.000000</td>\n",
       "      <td>146.000000</td>\n",
       "      <td>400.000000</td>\n",
       "      <td>43.000000</td>\n",
       "      <td>76.000000</td>\n",
       "      <td>28.000000</td>\n",
       "      <td>264.000000</td>\n",
       "      <td>281.000000</td>\n",
       "      <td>12169.000000</td>\n",
       "      <td>13880.000000</td>\n",
       "      <td>76.500000</td>\n",
       "      <td>328.571429</td>\n",
       "      <td>43.000000</td>\n",
       "      <td>76.000000</td>\n",
       "      <td>29.000000</td>\n",
       "    </tr>\n",
       "  </tbody>\n",
       "</table>\n",
       "</div>"
      ],
      "text/plain": [
       "       innings_played  previous_average  previous_strike_rate  \\\n",
       "count    38594.000000      38594.000000          38594.000000   \n",
       "mean        38.284941         23.378583             67.063590   \n",
       "std         44.807299         14.185508             25.456710   \n",
       "min          0.000000          0.000000              0.000000   \n",
       "25%          7.000000         11.800000             57.306836   \n",
       "50%         21.000000         23.750000             69.776680   \n",
       "75%         53.000000         33.666667             80.926392   \n",
       "max        280.000000        146.000000            400.000000   \n",
       "\n",
       "       previous_centuries  previous_fifties  previous_zeros          runs  \\\n",
       "count        38594.000000      38594.000000    38594.000000  38594.000000   \n",
       "mean             1.795797          6.573975        2.720552     23.943592   \n",
       "std              3.867134         10.123423        3.169558     27.720348   \n",
       "min              0.000000          0.000000        0.000000      0.000000   \n",
       "25%              0.000000          0.000000        0.000000      4.000000   \n",
       "50%              0.000000          2.000000        2.000000     14.000000   \n",
       "75%              2.000000          9.000000        4.000000     34.000000   \n",
       "max             43.000000         76.000000       28.000000    264.000000   \n",
       "\n",
       "            innings  overall_runs         balls       average   strike_rate  \\\n",
       "count  38594.000000  38594.000000  38594.000000  38594.000000  38594.000000   \n",
       "mean      77.569881   2325.919029   2841.601726     23.943592     69.945701   \n",
       "std       67.223669   2619.120112   3098.724255     11.819724     16.974603   \n",
       "min        1.000000      0.000000      1.000000      0.000000      0.000000   \n",
       "25%       25.000000    324.000000    474.000000     14.071429     60.276319   \n",
       "50%       54.000000   1261.000000   1582.000000     24.837838     70.592708   \n",
       "75%      116.000000   3583.000000   4406.000000     33.048913     80.089563   \n",
       "max      281.000000  12169.000000  13880.000000     76.500000    328.571429   \n",
       "\n",
       "          centuries       fifties         zeros  \n",
       "count  38594.000000  38594.000000  38594.000000  \n",
       "mean       3.704928     13.231202      5.543815  \n",
       "std        6.450684     16.160001      4.612568  \n",
       "min        0.000000      0.000000      0.000000  \n",
       "25%        0.000000      1.000000      2.000000  \n",
       "50%        1.000000      6.000000      4.000000  \n",
       "75%        5.000000     21.000000      9.000000  \n",
       "max       43.000000     76.000000     29.000000  "
      ]
     },
     "execution_count": 42,
     "metadata": {},
     "output_type": "execute_result"
    }
   ],
   "source": [
    "df.describe()"
   ]
  },
  {
   "cell_type": "code",
   "execution_count": 43,
   "metadata": {},
   "outputs": [
    {
     "data": {
      "text/plain": [
       "name                    0\n",
       "opposition              0\n",
       "venue                   0\n",
       "innings_played          0\n",
       "previous_average        0\n",
       "previous_strike_rate    0\n",
       "previous_centuries      0\n",
       "previous_fifties        0\n",
       "previous_zeros          0\n",
       "runs                    0\n",
       "player_name             0\n",
       "team                    0\n",
       "innings                 0\n",
       "overall_runs            0\n",
       "balls                   0\n",
       "average                 0\n",
       "strike_rate             0\n",
       "centuries               0\n",
       "fifties                 0\n",
       "zeros                   0\n",
       "dtype: int64"
      ]
     },
     "execution_count": 43,
     "metadata": {},
     "output_type": "execute_result"
    }
   ],
   "source": [
    "df.isnull().sum()"
   ]
  },
  {
   "cell_type": "markdown",
   "metadata": {},
   "source": []
  },
  {
   "cell_type": "code",
   "execution_count": 44,
   "metadata": {},
   "outputs": [],
   "source": [
    "import seaborn as sns"
   ]
  },
  {
   "cell_type": "code",
   "execution_count": 45,
   "metadata": {},
   "outputs": [
    {
     "data": {
      "text/plain": [
       "<seaborn.axisgrid.FacetGrid at 0x2864954b9d0>"
      ]
     },
     "execution_count": 45,
     "metadata": {},
     "output_type": "execute_result"
    },
    {
     "data": {
      "image/png": "[encoded data removed]",
      "text/plain": [
       "<Figure size 360x360 with 1 Axes>"
      ]
     },
     "metadata": {
      "needs_background": "light"
     },
     "output_type": "display_data"
    }
   ],
   "source": [
    "sns.displot(df['innings_played'])"
   ]
  },
  {
   "cell_type": "code",
   "execution_count": 46,
   "metadata": {},
   "outputs": [
    {
     "data": {
      "text/plain": [
       "(38594, 20)"
      ]
     },
     "execution_count": 46,
     "metadata": {},
     "output_type": "execute_result"
    }
   ],
   "source": [
    "df.shape"
   ]
  },
  {
   "cell_type": "code",
   "execution_count": 47,
   "metadata": {},
   "outputs": [],
   "source": [
    "df2 = df[df['name']=='V Kohli']"
   ]
  },
  {
   "cell_type": "code",
   "execution_count": 48,
   "metadata": {},
   "outputs": [
    {
     "data": {
      "text/html": [
       "<div>\n",
       "<style scoped>\n",
       "    .dataframe tbody tr th:only-of-type {\n",
       "        vertical-align: middle;\n",
       "    }\n",
       "\n",
       "    .dataframe tbody tr th {\n",
       "        vertical-align: top;\n",
       "    }\n",
       "\n",
       "    .dataframe thead th {\n",
       "        text-align: right;\n",
       "    }\n",
       "</style>\n",
       "<table border=\"1\" class=\"dataframe\">\n",
       "  <thead>\n",
       "    <tr style=\"text-align: right;\">\n",
       "      <th></th>\n",
       "      <th>name</th>\n",
       "      <th>opposition</th>\n",
       "      <th>venue</th>\n",
       "      <th>innings_played</th>\n",
       "      <th>previous_average</th>\n",
       "      <th>previous_strike_rate</th>\n",
       "      <th>previous_centuries</th>\n",
       "      <th>previous_fifties</th>\n",
       "      <th>previous_zeros</th>\n",
       "      <th>runs</th>\n",
       "      <th>player_name</th>\n",
       "      <th>team</th>\n",
       "      <th>innings</th>\n",
       "      <th>overall_runs</th>\n",
       "      <th>balls</th>\n",
       "      <th>average</th>\n",
       "      <th>strike_rate</th>\n",
       "      <th>centuries</th>\n",
       "      <th>fifties</th>\n",
       "      <th>zeros</th>\n",
       "    </tr>\n",
       "  </thead>\n",
       "  <tbody>\n",
       "    <tr>\n",
       "      <th>9362</th>\n",
       "      <td>V Kohli</td>\n",
       "      <td>Pakistan</td>\n",
       "      <td>Edgbaston</td>\n",
       "      <td>0</td>\n",
       "      <td>0.000000</td>\n",
       "      <td>0.000000</td>\n",
       "      <td>0</td>\n",
       "      <td>0</td>\n",
       "      <td>0</td>\n",
       "      <td>81</td>\n",
       "      <td>V Kohli</td>\n",
       "      <td>India</td>\n",
       "      <td>244</td>\n",
       "      <td>12169</td>\n",
       "      <td>13310</td>\n",
       "      <td>49.872951</td>\n",
       "      <td>78.922628</td>\n",
       "      <td>43</td>\n",
       "      <td>62</td>\n",
       "      <td>12</td>\n",
       "    </tr>\n",
       "    <tr>\n",
       "      <th>9363</th>\n",
       "      <td>V Kohli</td>\n",
       "      <td>Sri Lanka</td>\n",
       "      <td>Kennington Oval</td>\n",
       "      <td>1</td>\n",
       "      <td>81.000000</td>\n",
       "      <td>119.117647</td>\n",
       "      <td>0</td>\n",
       "      <td>1</td>\n",
       "      <td>0</td>\n",
       "      <td>0</td>\n",
       "      <td>V Kohli</td>\n",
       "      <td>India</td>\n",
       "      <td>244</td>\n",
       "      <td>12169</td>\n",
       "      <td>13310</td>\n",
       "      <td>49.872951</td>\n",
       "      <td>78.922628</td>\n",
       "      <td>43</td>\n",
       "      <td>62</td>\n",
       "      <td>12</td>\n",
       "    </tr>\n",
       "    <tr>\n",
       "      <th>9364</th>\n",
       "      <td>V Kohli</td>\n",
       "      <td>South Africa</td>\n",
       "      <td>Kennington Oval</td>\n",
       "      <td>2</td>\n",
       "      <td>40.500000</td>\n",
       "      <td>59.558824</td>\n",
       "      <td>0</td>\n",
       "      <td>1</td>\n",
       "      <td>1</td>\n",
       "      <td>76</td>\n",
       "      <td>V Kohli</td>\n",
       "      <td>India</td>\n",
       "      <td>244</td>\n",
       "      <td>12169</td>\n",
       "      <td>13310</td>\n",
       "      <td>49.872951</td>\n",
       "      <td>78.922628</td>\n",
       "      <td>43</td>\n",
       "      <td>62</td>\n",
       "      <td>12</td>\n",
       "    </tr>\n",
       "    <tr>\n",
       "      <th>9365</th>\n",
       "      <td>V Kohli</td>\n",
       "      <td>Bangladesh</td>\n",
       "      <td>Edgbaston</td>\n",
       "      <td>3</td>\n",
       "      <td>52.333333</td>\n",
       "      <td>64.542484</td>\n",
       "      <td>0</td>\n",
       "      <td>2</td>\n",
       "      <td>1</td>\n",
       "      <td>96</td>\n",
       "      <td>V Kohli</td>\n",
       "      <td>India</td>\n",
       "      <td>244</td>\n",
       "      <td>12169</td>\n",
       "      <td>13310</td>\n",
       "      <td>49.872951</td>\n",
       "      <td>78.922628</td>\n",
       "      <td>43</td>\n",
       "      <td>62</td>\n",
       "      <td>12</td>\n",
       "    </tr>\n",
       "    <tr>\n",
       "      <th>9366</th>\n",
       "      <td>V Kohli</td>\n",
       "      <td>Pakistan</td>\n",
       "      <td>Kennington Oval</td>\n",
       "      <td>4</td>\n",
       "      <td>63.250000</td>\n",
       "      <td>79.176094</td>\n",
       "      <td>0</td>\n",
       "      <td>3</td>\n",
       "      <td>1</td>\n",
       "      <td>5</td>\n",
       "      <td>V Kohli</td>\n",
       "      <td>India</td>\n",
       "      <td>244</td>\n",
       "      <td>12169</td>\n",
       "      <td>13310</td>\n",
       "      <td>49.872951</td>\n",
       "      <td>78.922628</td>\n",
       "      <td>43</td>\n",
       "      <td>62</td>\n",
       "      <td>12</td>\n",
       "    </tr>\n",
       "  </tbody>\n",
       "</table>\n",
       "</div>"
      ],
      "text/plain": [
       "         name    opposition            venue  innings_played  \\\n",
       "9362  V Kohli      Pakistan        Edgbaston               0   \n",
       "9363  V Kohli     Sri Lanka  Kennington Oval               1   \n",
       "9364  V Kohli  South Africa  Kennington Oval               2   \n",
       "9365  V Kohli    Bangladesh        Edgbaston               3   \n",
       "9366  V Kohli      Pakistan  Kennington Oval               4   \n",
       "\n",
       "      previous_average  previous_strike_rate  previous_centuries  \\\n",
       "9362          0.000000              0.000000                   0   \n",
       "9363         81.000000            119.117647                   0   \n",
       "9364         40.500000             59.558824                   0   \n",
       "9365         52.333333             64.542484                   0   \n",
       "9366         63.250000             79.176094                   0   \n",
       "\n",
       "      previous_fifties  previous_zeros  runs player_name   team  innings  \\\n",
       "9362                 0               0    81     V Kohli  India      244   \n",
       "9363                 1               0     0     V Kohli  India      244   \n",
       "9364                 1               1    76     V Kohli  India      244   \n",
       "9365                 2               1    96     V Kohli  India      244   \n",
       "9366                 3               1     5     V Kohli  India      244   \n",
       "\n",
       "      overall_runs  balls    average  strike_rate  centuries  fifties  zeros  \n",
       "9362         12169  13310  49.872951    78.922628         43       62     12  \n",
       "9363         12169  13310  49.872951    78.922628         43       62     12  \n",
       "9364         12169  13310  49.872951    78.922628         43       62     12  \n",
       "9365         12169  13310  49.872951    78.922628         43       62     12  \n",
       "9366         12169  13310  49.872951    78.922628         43       62     12  "
      ]
     },
     "execution_count": 48,
     "metadata": {},
     "output_type": "execute_result"
    }
   ],
   "source": [
    "df2.head()"
   ]
  },
  {
   "cell_type": "code",
   "execution_count": 49,
   "metadata": {},
   "outputs": [
    {
     "data": {
      "text/plain": [
       "(244, 20)"
      ]
     },
     "execution_count": 49,
     "metadata": {},
     "output_type": "execute_result"
    }
   ],
   "source": [
    "df2.shape"
   ]
  },
  {
   "cell_type": "code",
   "execution_count": 50,
   "metadata": {},
   "outputs": [],
   "source": [
    "df2 = df2.drop(['player_name','name'],axis=1)"
   ]
  },
  {
   "cell_type": "code",
   "execution_count": 51,
   "metadata": {},
   "outputs": [],
   "source": [
    "df2.head()\n",
    "df2['rolling_test_5'] = df['runs'].rolling(window=5).mean()"
   ]
  },
  {
   "cell_type": "code",
   "execution_count": 52,
   "metadata": {},
   "outputs": [
    {
     "data": {
      "text/plain": [
       "Index(['opposition', 'venue', 'innings_played', 'previous_average',\n",
       "       'previous_strike_rate', 'previous_centuries', 'previous_fifties',\n",
       "       'previous_zeros', 'runs', 'team', 'innings', 'overall_runs', 'balls',\n",
       "       'average', 'strike_rate', 'centuries', 'fifties', 'zeros',\n",
       "       'rolling_test_5'],\n",
       "      dtype='object')"
      ]
     },
     "execution_count": 52,
     "metadata": {},
     "output_type": "execute_result"
    }
   ],
   "source": [
    "df2.columns"
   ]
  },
  {
   "cell_type": "code",
   "execution_count": 53,
   "metadata": {},
   "outputs": [],
   "source": [
    "df3 = pd.get_dummies(df2,columns = ['team','opposition','venue'])"
   ]
  },
  {
   "cell_type": "code",
   "execution_count": 54,
   "metadata": {},
   "outputs": [
    {
     "data": {
      "text/plain": [
       "Index(['innings_played', 'previous_average', 'previous_strike_rate',\n",
       "       'previous_centuries', 'previous_fifties', 'previous_zeros', 'runs',\n",
       "       'innings', 'overall_runs', 'balls', 'average', 'strike_rate',\n",
       "       'centuries', 'fifties', 'zeros', 'rolling_test_5', 'team_India',\n",
       "       'opposition_Afghanistan', 'opposition_Australia',\n",
       "       'opposition_Bangladesh', 'opposition_England', 'opposition_Ireland',\n",
       "       'opposition_Netherlands', 'opposition_New Zealand',\n",
       "       'opposition_Pakistan', 'opposition_South Africa',\n",
       "       'opposition_Sri Lanka', 'opposition_United Arab Emirates',\n",
       "       'opposition_West Indies', 'opposition_Zimbabwe', 'venue_Adelaide Oval',\n",
       "       'venue_Arun Jaitley Stadium', 'venue_Barabati Stadium',\n",
       "       'venue_Barsapara Cricket Stadium', 'venue_Bay Oval',\n",
       "       'venue_Bellerive Oval', 'venue_Brabourne Stadium',\n",
       "       'venue_Brisbane Cricket Ground, Woolloongabba',\n",
       "       'venue_Dr. Y.S. Rajasekhara Reddy ACA-VDCA Cricket Stadium',\n",
       "       'venue_Eden Gardens', 'venue_Eden Park', 'venue_Edgbaston',\n",
       "       'venue_Feroz Shah Kotla', 'venue_Green Park',\n",
       "       'venue_Greenfield International Stadium', 'venue_Harare Sports Club',\n",
       "       'venue_Headingley',\n",
       "       'venue_Himachal Pradesh Cricket Association Stadium',\n",
       "       'venue_Holkar Cricket Stadium',\n",
       "       'venue_JSCA International Stadium Complex', 'venue_Kennington Oval',\n",
       "       'venue_Khan Shaheb Osman Ali Stadium', 'venue_Kingsmead',\n",
       "       'venue_Lord's', 'venue_M Chinnaswamy Stadium',\n",
       "       'venue_M.Chinnaswamy Stadium', 'venue_MA Chidambaram Stadium, Chepauk',\n",
       "       'venue_Madhavrao Scindia Cricket Ground',\n",
       "       'venue_Maharashtra Cricket Association Stadium',\n",
       "       'venue_Mahinda Rajapaksa International Cricket Stadium, Sooriyawewa',\n",
       "       'venue_Manuka Oval', 'venue_McLean Park',\n",
       "       'venue_Melbourne Cricket Ground', 'venue_Nehru Stadium',\n",
       "       'venue_New Wanderers Stadium', 'venue_Newlands', 'venue_Old Trafford',\n",
       "       'venue_Pallekele International Cricket Stadium',\n",
       "       'venue_Punjab Cricket Association IS Bindra Stadium, Mohali',\n",
       "       'venue_Punjab Cricket Association Stadium, Mohali',\n",
       "       'venue_Queen's Park Oval, Port of Spain',\n",
       "       'venue_Queen's Park Oval, Trinidad', 'venue_Queens Sports Club',\n",
       "       'venue_R Premadasa Stadium', 'venue_R.Premadasa Stadium, Khettarama',\n",
       "       'venue_Rajiv Gandhi International Stadium, Uppal',\n",
       "       'venue_Rangiri Dambulla International Stadium',\n",
       "       'venue_Reliance Stadium', 'venue_Riverside Ground',\n",
       "       'venue_Sabina Park, Kingston', 'venue_Sardar Patel Stadium, Motera',\n",
       "       'venue_Saurashtra Cricket Association Stadium',\n",
       "       'venue_Sawai Mansingh Stadium', 'venue_Seddon Park',\n",
       "       'venue_Shere Bangla National Stadium',\n",
       "       'venue_Sir Vivian Richards Stadium, North Sound',\n",
       "       'venue_Sophia Gardens', 'venue_St George's Park',\n",
       "       'venue_SuperSport Park', 'venue_Sydney Cricket Ground',\n",
       "       'venue_The Rose Bowl', 'venue_The Wanderers Stadium',\n",
       "       'venue_Trent Bridge',\n",
       "       'venue_Vidarbha Cricket Association Stadium, Jamtha',\n",
       "       'venue_Wankhede Stadium',\n",
       "       'venue_Western Australia Cricket Association Ground',\n",
       "       'venue_Westpac Stadium'],\n",
       "      dtype='object')"
      ]
     },
     "execution_count": 54,
     "metadata": {},
     "output_type": "execute_result"
    }
   ],
   "source": [
    "df3.columns"
   ]
  },
  {
   "cell_type": "code",
   "execution_count": 55,
   "metadata": {},
   "outputs": [],
   "source": [
    "Y = df3['runs']"
   ]
  },
  {
   "cell_type": "code",
   "execution_count": 56,
   "metadata": {},
   "outputs": [],
   "source": [
    "X = df3.drop(['runs'],axis=1)\n"
   ]
  },
  {
   "cell_type": "code",
   "execution_count": 57,
   "metadata": {},
   "outputs": [],
   "source": [
    "from sklearn.model_selection import train_test_split"
   ]
  },
  {
   "cell_type": "code",
   "execution_count": 58,
   "metadata": {},
   "outputs": [],
   "source": [
    "X_train, X_test, y_train, y_test = train_test_split(X, Y, test_size=0.20, random_state=42)"
   ]
  },
  {
   "cell_type": "code",
   "execution_count": 59,
   "metadata": {},
   "outputs": [],
   "source": [
    "from sklearn.linear_model import LinearRegression"
   ]
  },
  {
   "cell_type": "code",
   "execution_count": 60,
   "metadata": {},
   "outputs": [],
   "source": [
    "model = LinearRegression()"
   ]
  },
  {
   "cell_type": "code",
   "execution_count": 61,
   "metadata": {},
   "outputs": [
    {
     "data": {
      "text/plain": [
       "LinearRegression()"
      ]
     },
     "execution_count": 61,
     "metadata": {},
     "output_type": "execute_result"
    }
   ],
   "source": [
    "model.fit(X_train, y_train)"
   ]
  },
  {
   "cell_type": "code",
   "execution_count": 62,
   "metadata": {},
   "outputs": [],
   "source": [
    "predictions = model.predict(X_test)"
   ]
  },
  {
   "cell_type": "code",
   "execution_count": 63,
   "metadata": {},
   "outputs": [
    {
     "data": {
      "text/plain": [
       "(244, 97)"
      ]
     },
     "execution_count": 63,
     "metadata": {},
     "output_type": "execute_result"
    }
   ],
   "source": [
    "df3.shape"
   ]
  },
  {
   "cell_type": "code",
   "execution_count": 64,
   "metadata": {},
   "outputs": [
    {
     "data": {
      "text/plain": [
       "0     9.400000e+01\n",
       "1     6.950000e+01\n",
       "2     9.525000e+01\n",
       "3     2.250000e+00\n",
       "4    -1.475527e+10\n",
       "5     3.025000e+01\n",
       "6     1.112500e+02\n",
       "7     5.387279e+08\n",
       "8     1.037500e+02\n",
       "9     1.500000e+00\n",
       "10    5.650000e+01\n",
       "11    6.025000e+01\n",
       "12    1.600000e+01\n",
       "13    3.375000e+01\n",
       "14    7.250000e+00\n",
       "15    4.375000e+01\n",
       "16   -1.471734e+10\n",
       "17    1.975000e+01\n",
       "18    7.550000e+01\n",
       "19    5.600000e+01\n",
       "20    4.000000e+01\n",
       "21    0.000000e+00\n",
       "22    6.225000e+01\n",
       "23    5.500000e+01\n",
       "24    4.425000e+01\n",
       "25    1.750000e+00\n",
       "26    6.750000e+01\n",
       "27    3.900000e+01\n",
       "28    1.670000e+02\n",
       "29    6.700000e+01\n",
       "30    2.675000e+01\n",
       "31    6.950000e+01\n",
       "32    4.500000e+01\n",
       "33    5.975000e+01\n",
       "34    5.750000e+01\n",
       "35   -2.400000e+01\n",
       "36   -1.471734e+10\n",
       "37    1.375000e+01\n",
       "38    2.425000e+01\n",
       "39    8.100000e+01\n",
       "40    1.235000e+02\n",
       "41    9.025000e+01\n",
       "42    3.125000e+01\n",
       "43    2.525000e+01\n",
       "44    4.150000e+01\n",
       "45   -3.500000e+01\n",
       "46    6.550000e+01\n",
       "47    5.387279e+08\n",
       "48    4.900000e+01\n",
       "dtype: float64"
      ]
     },
     "execution_count": 64,
     "metadata": {},
     "output_type": "execute_result"
    }
   ],
   "source": [
    "predictions\n",
    "pred = pd.Series(predictions)\n",
    "pred"
   ]
  },
  {
   "cell_type": "code",
   "execution_count": 65,
   "metadata": {},
   "outputs": [],
   "source": [
    "y_test = y_test.astype(np.float64)"
   ]
  },
  {
   "cell_type": "code",
   "execution_count": 66,
   "metadata": {},
   "outputs": [
    {
     "data": {
      "text/plain": [
       "9386     92.0\n",
       "9368      9.0\n",
       "9515     86.0\n",
       "9573      1.0\n",
       "9560     33.0\n",
       "9538     22.0\n",
       "9554    115.0\n",
       "9486     87.0\n",
       "9371     65.0\n",
       "9463     24.0\n",
       "9407     66.0\n",
       "9595     25.0\n",
       "9479     28.0\n",
       "9539     22.0\n",
       "9444     12.0\n",
       "9508     12.0\n",
       "9562     44.0\n",
       "9377     11.0\n",
       "9428      0.0\n",
       "9504     31.0\n",
       "9395    113.0\n",
       "9381      4.0\n",
       "9471     31.0\n",
       "9392     71.0\n",
       "9548    115.0\n",
       "9482     37.0\n",
       "9372    122.0\n",
       "9435      9.0\n",
       "9521    117.0\n",
       "9518     66.0\n",
       "9474     18.0\n",
       "9580      5.0\n",
       "9387     28.0\n",
       "9422     44.0\n",
       "9380     82.0\n",
       "9481      8.0\n",
       "9459     34.0\n",
       "9559     46.0\n",
       "9501      0.0\n",
       "9603     77.0\n",
       "9437    114.0\n",
       "9489    105.0\n",
       "9475     68.0\n",
       "9378      3.0\n",
       "9558    107.0\n",
       "9429     85.0\n",
       "9530     15.0\n",
       "9400     36.0\n",
       "9557      0.0\n",
       "Name: runs, dtype: float64"
      ]
     },
     "execution_count": 66,
     "metadata": {},
     "output_type": "execute_result"
    }
   ],
   "source": [
    "y_test"
   ]
  },
  {
   "cell_type": "code",
   "execution_count": 67,
   "metadata": {},
   "outputs": [],
   "source": [
    "pred_list = list(pred)\n",
    "y_test_list = list(y_test)"
   ]
  },
  {
   "cell_type": "code",
   "execution_count": 68,
   "metadata": {},
   "outputs": [
    {
     "data": {
      "text/plain": [
       "<matplotlib.collections.PathCollection at 0x2864953f6a0>"
      ]
     },
     "execution_count": 68,
     "metadata": {},
     "output_type": "execute_result"
    },
    {
     "data": {
      "image/png": "[encoded data removed]",
      "text/plain": [
       "<Figure size 432x288 with 1 Axes>"
      ]
     },
     "metadata": {
      "needs_background": "light"
     },
     "output_type": "display_data"
    }
   ],
   "source": [
    "plt.scatter(pred_list,y_test_list)"
   ]
  },
  {
   "cell_type": "code",
   "execution_count": 69,
   "metadata": {},
   "outputs": [
    {
     "data": {
      "text/plain": [
       "[94.0,\n",
       " 69.5,\n",
       " 95.25,\n",
       " 2.25,\n",
       " -14755271193.0,\n",
       " 30.25,\n",
       " 111.25,\n",
       " 538727864.5,\n",
       " 103.75,\n",
       " 1.5,\n",
       " 56.5,\n",
       " 60.25,\n",
       " 16.0,\n",
       " 33.75,\n",
       " 7.25,\n",
       " 43.75,\n",
       " -14717343058.0,\n",
       " 19.75,\n",
       " 75.5,\n",
       " 56.0,\n",
       " 40.0,\n",
       " 0.0,\n",
       " 62.25,\n",
       " 55.0,\n",
       " 44.25,\n",
       " 1.75,\n",
       " 67.5,\n",
       " 39.0,\n",
       " 167.0,\n",
       " 67.0,\n",
       " 26.75,\n",
       " 69.5,\n",
       " 45.0,\n",
       " 59.75,\n",
       " 57.5,\n",
       " -24.0,\n",
       " -14717343117.75,\n",
       " 13.75,\n",
       " 24.25,\n",
       " 81.0,\n",
       " 123.5,\n",
       " 90.25,\n",
       " 31.25,\n",
       " 25.25,\n",
       " 41.5,\n",
       " -35.0,\n",
       " 65.5,\n",
       " 538727892.75,\n",
       " 49.0]"
      ]
     },
     "execution_count": 69,
     "metadata": {},
     "output_type": "execute_result"
    }
   ],
   "source": [
    "pred_list"
   ]
  },
  {
   "cell_type": "code",
   "execution_count": 70,
   "metadata": {},
   "outputs": [
    {
     "data": {
      "text/plain": [
       "49"
      ]
     },
     "execution_count": 70,
     "metadata": {},
     "output_type": "execute_result"
    }
   ],
   "source": [
    "len(pred_list)"
   ]
  },
  {
   "cell_type": "code",
   "execution_count": 71,
   "metadata": {},
   "outputs": [],
   "source": [
    "for i in range(49):\n",
    "    if int(pred_list[i])>150:\n",
    "        pred_list[i]=100.0\n",
    "    elif int(pred_list[i])<0:\n",
    "        pred_list[i]=0.0"
   ]
  },
  {
   "cell_type": "code",
   "execution_count": 72,
   "metadata": {},
   "outputs": [
    {
     "data": {
      "text/plain": [
       "[94.0,\n",
       " 69.5,\n",
       " 95.25,\n",
       " 2.25,\n",
       " 0.0,\n",
       " 30.25,\n",
       " 111.25,\n",
       " 100.0,\n",
       " 103.75,\n",
       " 1.5,\n",
       " 56.5,\n",
       " 60.25,\n",
       " 16.0,\n",
       " 33.75,\n",
       " 7.25,\n",
       " 43.75,\n",
       " 0.0,\n",
       " 19.75,\n",
       " 75.5,\n",
       " 56.0,\n",
       " 40.0,\n",
       " 0.0,\n",
       " 62.25,\n",
       " 55.0,\n",
       " 44.25,\n",
       " 1.75,\n",
       " 67.5,\n",
       " 39.0,\n",
       " 100.0,\n",
       " 67.0,\n",
       " 26.75,\n",
       " 69.5,\n",
       " 45.0,\n",
       " 59.75,\n",
       " 57.5,\n",
       " 0.0,\n",
       " 0.0,\n",
       " 13.75,\n",
       " 24.25,\n",
       " 81.0,\n",
       " 123.5,\n",
       " 90.25,\n",
       " 31.25,\n",
       " 25.25,\n",
       " 41.5,\n",
       " 0.0,\n",
       " 65.5,\n",
       " 100.0,\n",
       " 49.0]"
      ]
     },
     "execution_count": 72,
     "metadata": {},
     "output_type": "execute_result"
    }
   ],
   "source": [
    "pred_list"
   ]
  },
  {
   "cell_type": "code",
   "execution_count": 73,
   "metadata": {},
   "outputs": [
    {
     "data": {
      "image/png": "[encoded data removed]",
      "text/plain": [
       "<Figure size 432x288 with 1 Axes>"
      ]
     },
     "metadata": {
      "needs_background": "light"
     },
     "output_type": "display_data"
    }
   ],
   "source": [
    "plt.scatter(pred_list,y_test_list,c='coral')\n",
    "plt.show()"
   ]
  },
  {
   "cell_type": "code",
   "execution_count": 74,
   "metadata": {},
   "outputs": [],
   "source": [
    "from sklearn import datasets, linear_model, metrics"
   ]
  },
  {
   "cell_type": "code",
   "execution_count": 75,
   "metadata": {},
   "outputs": [
    {
     "data": {
      "text/plain": [
       "28.846938775510203"
      ]
     },
     "execution_count": 75,
     "metadata": {},
     "output_type": "execute_result"
    }
   ],
   "source": [
    "metrics.mean_absolute_error(y_test_list, pred_list)"
   ]
  },
  {
   "cell_type": "code",
   "execution_count": 76,
   "metadata": {},
   "outputs": [],
   "source": [
    "from sklearn.ensemble import RandomForestRegressor\n",
    "forest_model = RandomForestRegressor(random_state=1)\n",
    "forest_model.fit(X_train,y_train)\n",
    "y_test2 = forest_model.predict(X_test)"
   ]
  },
  {
   "cell_type": "code",
   "execution_count": 77,
   "metadata": {},
   "outputs": [
    {
     "data": {
      "text/plain": [
       "28.24244897959184"
      ]
     },
     "execution_count": 77,
     "metadata": {},
     "output_type": "execute_result"
    }
   ],
   "source": [
    "metrics.mean_absolute_error(y_test, y_test2)"
   ]
  },
  {
   "cell_type": "code",
   "execution_count": 78,
   "metadata": {},
   "outputs": [],
   "source": [
    "y_test2_list = list(y_test2)"
   ]
  },
  {
   "cell_type": "code",
   "execution_count": 86,
   "metadata": {},
   "outputs": [
    {
     "data": {
      "text/plain": [
       "1.223416625304667e+16"
      ]
     },
     "execution_count": 86,
     "metadata": {},
     "output_type": "execute_result"
    }
   ],
   "source": [
    "metrics.mean_absolute_percentage_error(y_test_list, y_test2_list)"
   ]
  },
  {
   "cell_type": "code",
   "execution_count": 79,
   "metadata": {},
   "outputs": [
    {
     "data": {
      "text/plain": [
       "9386    67.2\n",
       "9368    54.2\n",
       "9515    80.6\n",
       "9573    25.0\n",
       "9560    43.4\n",
       "9538    30.8\n",
       "9554    82.4\n",
       "9486    45.6\n",
       "9371    71.6\n",
       "9463    26.0\n",
       "9407    72.8\n",
       "9595    50.8\n",
       "9479    27.0\n",
       "9539    35.2\n",
       "9444    40.8\n",
       "9508    30.6\n",
       "9562    52.6\n",
       "9377    38.6\n",
       "9428    30.8\n",
       "9504    45.6\n",
       "9395    75.8\n",
       "9381    42.2\n",
       "9471    59.4\n",
       "9392    50.2\n",
       "9548    50.4\n",
       "9482    16.6\n",
       "9372    79.0\n",
       "9435    48.4\n",
       "9521    95.4\n",
       "9518    59.0\n",
       "9474    38.0\n",
       "9580    61.4\n",
       "9387    72.2\n",
       "9422    71.4\n",
       "9380    58.8\n",
       "9481    12.8\n",
       "9459    60.6\n",
       "9559    36.8\n",
       "9501    41.2\n",
       "9603    42.8\n",
       "9437    61.8\n",
       "9489    68.0\n",
       "9475    51.2\n",
       "9378    37.6\n",
       "9558    50.6\n",
       "9429    23.2\n",
       "9530    41.0\n",
       "9400    85.8\n",
       "9557    42.8\n",
       "Name: rolling_test_5, dtype: float64"
      ]
     },
     "execution_count": 79,
     "metadata": {},
     "output_type": "execute_result"
    }
   ],
   "source": [
    "X_test['rolling_test_5']"
   ]
  },
  {
   "cell_type": "code",
   "execution_count": 80,
   "metadata": {},
   "outputs": [
    {
     "data": {
      "text/plain": [
       "1.3671641725946148e+16"
      ]
     },
     "execution_count": 80,
     "metadata": {},
     "output_type": "execute_result"
    }
   ],
   "source": [
    "metrics.mean_absolute_percentage_error(y_test_list, pred_list)"
   ]
  },
  {
   "cell_type": "code",
   "execution_count": 81,
   "metadata": {},
   "outputs": [
    {
     "data": {
      "text/plain": [
       "[92.0, 9.0, 86.0, 1.0, 33.0, 22.0, 115.0]"
      ]
     },
     "execution_count": 81,
     "metadata": {},
     "output_type": "execute_result"
    }
   ],
   "source": [
    "y_test_list[0:7]"
   ]
  },
  {
   "cell_type": "code",
   "execution_count": 82,
   "metadata": {},
   "outputs": [
    {
     "data": {
      "text/plain": [
       "[94.0, 69.5, 95.25, 2.25, 0.0, 30.25, 111.25]"
      ]
     },
     "execution_count": 82,
     "metadata": {},
     "output_type": "execute_result"
    }
   ],
   "source": [
    "pred_list[:7]"
   ]
  },
  {
   "cell_type": "code",
   "execution_count": 87,
   "metadata": {},
   "outputs": [
    {
     "data": {
      "text/plain": [
       "[105.42, 55.13, 74.08, 16.22, 46.35, 38.23, 76.93]"
      ]
     },
     "execution_count": 87,
     "metadata": {},
     "output_type": "execute_result"
    }
   ],
   "source": [
    "y_test2_list[:7]"
   ]
  },
  {
   "cell_type": "code",
   "execution_count": 83,
   "metadata": {},
   "outputs": [
    {
     "data": {
      "text/plain": [
       "[114.0, 105.0, 68.0, 3.0, 107.0, 85.0, 15.0, 36.0, 0.0]"
      ]
     },
     "execution_count": 83,
     "metadata": {},
     "output_type": "execute_result"
    }
   ],
   "source": [
    "y_test_list[40:]"
   ]
  },
  {
   "cell_type": "code",
   "execution_count": 84,
   "metadata": {},
   "outputs": [
    {
     "data": {
      "text/plain": [
       "[123.5, 90.25, 31.25, 25.25, 41.5, 0.0, 65.5, 100.0, 49.0]"
      ]
     },
     "execution_count": 84,
     "metadata": {},
     "output_type": "execute_result"
    }
   ],
   "source": [
    "pred_list[40:]"
   ]
  },
  {
   "cell_type": "code",
   "execution_count": 85,
   "metadata": {},
   "outputs": [
    {
     "data": {
      "text/plain": [
       "Index(['innings_played', 'previous_average', 'previous_strike_rate',\n",
       "       'previous_centuries', 'previous_fifties', 'previous_zeros', 'innings',\n",
       "       'overall_runs', 'balls', 'average', 'strike_rate', 'centuries',\n",
       "       'fifties', 'zeros', 'rolling_test_5', 'team_India',\n",
       "       'opposition_Afghanistan', 'opposition_Australia',\n",
       "       'opposition_Bangladesh', 'opposition_England', 'opposition_Ireland',\n",
       "       'opposition_Netherlands', 'opposition_New Zealand',\n",
       "       'opposition_Pakistan', 'opposition_South Africa',\n",
       "       'opposition_Sri Lanka', 'opposition_United Arab Emirates',\n",
       "       'opposition_West Indies', 'opposition_Zimbabwe', 'venue_Adelaide Oval',\n",
       "       'venue_Arun Jaitley Stadium', 'venue_Barabati Stadium',\n",
       "       'venue_Barsapara Cricket Stadium', 'venue_Bay Oval',\n",
       "       'venue_Bellerive Oval', 'venue_Brabourne Stadium',\n",
       "       'venue_Brisbane Cricket Ground, Woolloongabba',\n",
       "       'venue_Dr. Y.S. Rajasekhara Reddy ACA-VDCA Cricket Stadium',\n",
       "       'venue_Eden Gardens', 'venue_Eden Park', 'venue_Edgbaston',\n",
       "       'venue_Feroz Shah Kotla', 'venue_Green Park',\n",
       "       'venue_Greenfield International Stadium', 'venue_Harare Sports Club',\n",
       "       'venue_Headingley',\n",
       "       'venue_Himachal Pradesh Cricket Association Stadium',\n",
       "       'venue_Holkar Cricket Stadium',\n",
       "       'venue_JSCA International Stadium Complex', 'venue_Kennington Oval',\n",
       "       'venue_Khan Shaheb Osman Ali Stadium', 'venue_Kingsmead',\n",
       "       'venue_Lord's', 'venue_M Chinnaswamy Stadium',\n",
       "       'venue_M.Chinnaswamy Stadium', 'venue_MA Chidambaram Stadium, Chepauk',\n",
       "       'venue_Madhavrao Scindia Cricket Ground',\n",
       "       'venue_Maharashtra Cricket Association Stadium',\n",
       "       'venue_Mahinda Rajapaksa International Cricket Stadium, Sooriyawewa',\n",
       "       'venue_Manuka Oval', 'venue_McLean Park',\n",
       "       'venue_Melbourne Cricket Ground', 'venue_Nehru Stadium',\n",
       "       'venue_New Wanderers Stadium', 'venue_Newlands', 'venue_Old Trafford',\n",
       "       'venue_Pallekele International Cricket Stadium',\n",
       "       'venue_Punjab Cricket Association IS Bindra Stadium, Mohali',\n",
       "       'venue_Punjab Cricket Association Stadium, Mohali',\n",
       "       'venue_Queen's Park Oval, Port of Spain',\n",
       "       'venue_Queen's Park Oval, Trinidad', 'venue_Queens Sports Club',\n",
       "       'venue_R Premadasa Stadium', 'venue_R.Premadasa Stadium, Khettarama',\n",
       "       'venue_Rajiv Gandhi International Stadium, Uppal',\n",
       "       'venue_Rangiri Dambulla International Stadium',\n",
       "       'venue_Reliance Stadium', 'venue_Riverside Ground',\n",
       "       'venue_Sabina Park, Kingston', 'venue_Sardar Patel Stadium, Motera',\n",
       "       'venue_Saurashtra Cricket Association Stadium',\n",
       "       'venue_Sawai Mansingh Stadium', 'venue_Seddon Park',\n",
       "       'venue_Shere Bangla National Stadium',\n",
       "       'venue_Sir Vivian Richards Stadium, North Sound',\n",
       "       'venue_Sophia Gardens', 'venue_St George's Park',\n",
       "       'venue_SuperSport Park', 'venue_Sydney Cricket Ground',\n",
       "       'venue_The Rose Bowl', 'venue_The Wanderers Stadium',\n",
       "       'venue_Trent Bridge',\n",
       "       'venue_Vidarbha Cricket Association Stadium, Jamtha',\n",
       "       'venue_Wankhede Stadium',\n",
       "       'venue_Western Australia Cricket Association Ground',\n",
       "       'venue_Westpac Stadium'],\n",
       "      dtype='object')"
      ]
     },
     "execution_count": 85,
     "metadata": {},
     "output_type": "execute_result"
    }
   ],
   "source": [
    "X_test.columns"
   ]
  },
  {
   "cell_type": "code",
   "execution_count": null,
   "metadata": {},
   "outputs": [],
   "source": []
  }
 ],
 "metadata": {
  "interpreter": {
   "hash": "919eb0904b72c37e8d6c7e3b2f7b6f162c89cafcc297fba09b2d10c79c52f5eb"
  },
  "kernelspec": {
   "display_name": "Python 3.8.8 64-bit ('base': conda)",
   "language": "python",
   "name": "python3"
  },
  "language_info": {
   "codemirror_mode": {
    "name": "ipython",
    "version": 3
   },
   "file_extension": ".py",
   "mimetype": "text/x-python",
   "name": "python",
   "nbconvert_exporter": "python",
   "pygments_lexer": "ipython3",
   "version": "3.8.8"
  },
  "orig_nbformat": 4
 },
 "nbformat": 4,
 "nbformat_minor": 2
}
