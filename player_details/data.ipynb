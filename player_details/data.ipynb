{
 "cells": [
  {
   "cell_type": "code",
   "execution_count": 1,
   "metadata": {},
   "outputs": [],
   "source": [
    "import numpy as np\n",
    "import pandas as pd\n",
    "import seaborn as sns"
   ]
  },
  {
   "cell_type": "code",
   "execution_count": 2,
   "metadata": {},
   "outputs": [],
   "source": [
    "df = pd.read_csv('match_batsman_details.csv')"
   ]
  },
  {
   "cell_type": "code",
   "execution_count": 3,
   "metadata": {},
   "outputs": [
    {
     "data": {
      "text/html": [
       "<div>\n",
       "<style scoped>\n",
       "    .dataframe tbody tr th:only-of-type {\n",
       "        vertical-align: middle;\n",
       "    }\n",
       "\n",
       "    .dataframe tbody tr th {\n",
       "        vertical-align: top;\n",
       "    }\n",
       "\n",
       "    .dataframe thead th {\n",
       "        text-align: right;\n",
       "    }\n",
       "</style>\n",
       "<table border=\"1\" class=\"dataframe\">\n",
       "  <thead>\n",
       "    <tr style=\"text-align: right;\">\n",
       "      <th></th>\n",
       "      <th>Unnamed: 0</th>\n",
       "      <th>date</th>\n",
       "      <th>name</th>\n",
       "      <th>team</th>\n",
       "      <th>opposition</th>\n",
       "      <th>venue</th>\n",
       "      <th>batting_innings</th>\n",
       "      <th>innings_played</th>\n",
       "      <th>previous_average</th>\n",
       "      <th>previous_strike_rate</th>\n",
       "      <th>previous_centuries</th>\n",
       "      <th>previous_fifties</th>\n",
       "      <th>previous_zeros</th>\n",
       "      <th>runs</th>\n",
       "      <th>balls</th>\n",
       "    </tr>\n",
       "  </thead>\n",
       "  <tbody>\n",
       "    <tr>\n",
       "      <th>0</th>\n",
       "      <td>0</td>\n",
       "      <td>2017-01-13</td>\n",
       "      <td>DA Warner</td>\n",
       "      <td>Australia</td>\n",
       "      <td>Pakistan</td>\n",
       "      <td>Brisbane Cricket Ground, Woolloongabba</td>\n",
       "      <td>NaN</td>\n",
       "      <td>0</td>\n",
       "      <td>0.0</td>\n",
       "      <td>0.0</td>\n",
       "      <td>0</td>\n",
       "      <td>0</td>\n",
       "      <td>0</td>\n",
       "      <td>7</td>\n",
       "      <td>NaN</td>\n",
       "    </tr>\n",
       "    <tr>\n",
       "      <th>1</th>\n",
       "      <td>1</td>\n",
       "      <td>2017-01-13</td>\n",
       "      <td>TM Head</td>\n",
       "      <td>Australia</td>\n",
       "      <td>Pakistan</td>\n",
       "      <td>Brisbane Cricket Ground, Woolloongabba</td>\n",
       "      <td>NaN</td>\n",
       "      <td>0</td>\n",
       "      <td>0.0</td>\n",
       "      <td>0.0</td>\n",
       "      <td>0</td>\n",
       "      <td>0</td>\n",
       "      <td>0</td>\n",
       "      <td>39</td>\n",
       "      <td>NaN</td>\n",
       "    </tr>\n",
       "    <tr>\n",
       "      <th>2</th>\n",
       "      <td>2</td>\n",
       "      <td>2017-01-13</td>\n",
       "      <td>SPD Smith</td>\n",
       "      <td>Australia</td>\n",
       "      <td>Pakistan</td>\n",
       "      <td>Brisbane Cricket Ground, Woolloongabba</td>\n",
       "      <td>NaN</td>\n",
       "      <td>0</td>\n",
       "      <td>0.0</td>\n",
       "      <td>0.0</td>\n",
       "      <td>0</td>\n",
       "      <td>0</td>\n",
       "      <td>0</td>\n",
       "      <td>0</td>\n",
       "      <td>NaN</td>\n",
       "    </tr>\n",
       "    <tr>\n",
       "      <th>3</th>\n",
       "      <td>3</td>\n",
       "      <td>2017-01-13</td>\n",
       "      <td>CA Lynn</td>\n",
       "      <td>Australia</td>\n",
       "      <td>Pakistan</td>\n",
       "      <td>Brisbane Cricket Ground, Woolloongabba</td>\n",
       "      <td>NaN</td>\n",
       "      <td>0</td>\n",
       "      <td>0.0</td>\n",
       "      <td>0.0</td>\n",
       "      <td>0</td>\n",
       "      <td>0</td>\n",
       "      <td>0</td>\n",
       "      <td>16</td>\n",
       "      <td>NaN</td>\n",
       "    </tr>\n",
       "    <tr>\n",
       "      <th>4</th>\n",
       "      <td>4</td>\n",
       "      <td>2017-01-13</td>\n",
       "      <td>MR Marsh</td>\n",
       "      <td>Australia</td>\n",
       "      <td>Pakistan</td>\n",
       "      <td>Brisbane Cricket Ground, Woolloongabba</td>\n",
       "      <td>NaN</td>\n",
       "      <td>0</td>\n",
       "      <td>0.0</td>\n",
       "      <td>0.0</td>\n",
       "      <td>0</td>\n",
       "      <td>0</td>\n",
       "      <td>0</td>\n",
       "      <td>4</td>\n",
       "      <td>NaN</td>\n",
       "    </tr>\n",
       "  </tbody>\n",
       "</table>\n",
       "</div>"
      ],
      "text/plain": [
       "   Unnamed: 0        date       name       team opposition  \\\n",
       "0           0  2017-01-13  DA Warner  Australia   Pakistan   \n",
       "1           1  2017-01-13    TM Head  Australia   Pakistan   \n",
       "2           2  2017-01-13  SPD Smith  Australia   Pakistan   \n",
       "3           3  2017-01-13    CA Lynn  Australia   Pakistan   \n",
       "4           4  2017-01-13   MR Marsh  Australia   Pakistan   \n",
       "\n",
       "                                    venue  batting_innings  innings_played  \\\n",
       "0  Brisbane Cricket Ground, Woolloongabba              NaN               0   \n",
       "1  Brisbane Cricket Ground, Woolloongabba              NaN               0   \n",
       "2  Brisbane Cricket Ground, Woolloongabba              NaN               0   \n",
       "3  Brisbane Cricket Ground, Woolloongabba              NaN               0   \n",
       "4  Brisbane Cricket Ground, Woolloongabba              NaN               0   \n",
       "\n",
       "   previous_average  previous_strike_rate  previous_centuries  \\\n",
       "0               0.0                   0.0                   0   \n",
       "1               0.0                   0.0                   0   \n",
       "2               0.0                   0.0                   0   \n",
       "3               0.0                   0.0                   0   \n",
       "4               0.0                   0.0                   0   \n",
       "\n",
       "   previous_fifties  previous_zeros  runs  balls  \n",
       "0                 0               0     7    NaN  \n",
       "1                 0               0    39    NaN  \n",
       "2                 0               0     0    NaN  \n",
       "3                 0               0    16    NaN  \n",
       "4                 0               0     4    NaN  "
      ]
     },
     "execution_count": 3,
     "metadata": {},
     "output_type": "execute_result"
    }
   ],
   "source": [
    "df.head()"
   ]
  },
  {
   "cell_type": "code",
   "execution_count": 4,
   "metadata": {},
   "outputs": [
    {
     "data": {
      "text/plain": [
       "(38594, 15)"
      ]
     },
     "execution_count": 4,
     "metadata": {},
     "output_type": "execute_result"
    }
   ],
   "source": [
    "df.shape"
   ]
  },
  {
   "cell_type": "code",
   "execution_count": 5,
   "metadata": {},
   "outputs": [
    {
     "data": {
      "text/plain": [
       "Index(['Unnamed: 0', 'date', 'name', 'team', 'opposition', 'venue',\n",
       "       'batting_innings', 'innings_played', 'previous_average',\n",
       "       'previous_strike_rate', 'previous_centuries', 'previous_fifties',\n",
       "       'previous_zeros', 'runs', 'balls'],\n",
       "      dtype='object')"
      ]
     },
     "execution_count": 5,
     "metadata": {},
     "output_type": "execute_result"
    }
   ],
   "source": [
    "df.columns"
   ]
  },
  {
   "cell_type": "code",
   "execution_count": 6,
   "metadata": {},
   "outputs": [
    {
     "data": {
      "text/plain": [
       "38594"
      ]
     },
     "execution_count": 6,
     "metadata": {},
     "output_type": "execute_result"
    }
   ],
   "source": [
    "df.batting_innings.isnull().sum()"
   ]
  },
  {
   "cell_type": "code",
   "execution_count": 7,
   "metadata": {},
   "outputs": [],
   "source": [
    "df = df.drop(['batting_innings','Unnamed: 0'],axis = 1)"
   ]
  },
  {
   "cell_type": "code",
   "execution_count": 8,
   "metadata": {},
   "outputs": [],
   "source": [
    "df['rolling_test_5'] = df['runs'].rolling(window=5).mean()"
   ]
  },
  {
   "cell_type": "code",
   "execution_count": 9,
   "metadata": {},
   "outputs": [
    {
     "data": {
      "text/plain": [
       "Rolling [window=5,center=False,axis=0]"
      ]
     },
     "execution_count": 9,
     "metadata": {},
     "output_type": "execute_result"
    }
   ],
   "source": [
    "df['runs'].rolling(5)"
   ]
  },
  {
   "cell_type": "code",
   "execution_count": 10,
   "metadata": {},
   "outputs": [
    {
     "data": {
      "text/html": [
       "<div>\n",
       "<style scoped>\n",
       "    .dataframe tbody tr th:only-of-type {\n",
       "        vertical-align: middle;\n",
       "    }\n",
       "\n",
       "    .dataframe tbody tr th {\n",
       "        vertical-align: top;\n",
       "    }\n",
       "\n",
       "    .dataframe thead th {\n",
       "        text-align: right;\n",
       "    }\n",
       "</style>\n",
       "<table border=\"1\" class=\"dataframe\">\n",
       "  <thead>\n",
       "    <tr style=\"text-align: right;\">\n",
       "      <th></th>\n",
       "      <th>date</th>\n",
       "      <th>name</th>\n",
       "      <th>team</th>\n",
       "      <th>opposition</th>\n",
       "      <th>venue</th>\n",
       "      <th>innings_played</th>\n",
       "      <th>previous_average</th>\n",
       "      <th>previous_strike_rate</th>\n",
       "      <th>previous_centuries</th>\n",
       "      <th>previous_fifties</th>\n",
       "      <th>previous_zeros</th>\n",
       "      <th>runs</th>\n",
       "      <th>balls</th>\n",
       "      <th>rolling_test_5</th>\n",
       "    </tr>\n",
       "  </thead>\n",
       "  <tbody>\n",
       "    <tr>\n",
       "      <th>37388</th>\n",
       "      <td>2016-01-31</td>\n",
       "      <td>Mohammad Hafeez</td>\n",
       "      <td>Pakistan</td>\n",
       "      <td>New Zealand</td>\n",
       "      <td>Eden Park</td>\n",
       "      <td>183</td>\n",
       "      <td>32.207650</td>\n",
       "      <td>65.361309</td>\n",
       "      <td>11</td>\n",
       "      <td>33</td>\n",
       "      <td>14</td>\n",
       "      <td>76</td>\n",
       "      <td>NaN</td>\n",
       "      <td>19.6</td>\n",
       "    </tr>\n",
       "    <tr>\n",
       "      <th>10354</th>\n",
       "      <td>2020-02-26</td>\n",
       "      <td>BKG Mendis</td>\n",
       "      <td>Sri Lanka</td>\n",
       "      <td>West Indies</td>\n",
       "      <td>Mahinda Rajapaksa International Cricket Stadiu...</td>\n",
       "      <td>54</td>\n",
       "      <td>27.314815</td>\n",
       "      <td>69.237411</td>\n",
       "      <td>1</td>\n",
       "      <td>10</td>\n",
       "      <td>8</td>\n",
       "      <td>119</td>\n",
       "      <td>NaN</td>\n",
       "      <td>50.0</td>\n",
       "    </tr>\n",
       "    <tr>\n",
       "      <th>31392</th>\n",
       "      <td>2015-02-26</td>\n",
       "      <td>Javed Ahmadi</td>\n",
       "      <td>Afghanistan</td>\n",
       "      <td>Scotland</td>\n",
       "      <td>University Oval</td>\n",
       "      <td>24</td>\n",
       "      <td>22.375000</td>\n",
       "      <td>62.227014</td>\n",
       "      <td>0</td>\n",
       "      <td>2</td>\n",
       "      <td>2</td>\n",
       "      <td>51</td>\n",
       "      <td>NaN</td>\n",
       "      <td>22.4</td>\n",
       "    </tr>\n",
       "    <tr>\n",
       "      <th>5846</th>\n",
       "      <td>2019-03-10</td>\n",
       "      <td>D Pretorius</td>\n",
       "      <td>South Africa</td>\n",
       "      <td>Sri Lanka</td>\n",
       "      <td>Kingsmead</td>\n",
       "      <td>4</td>\n",
       "      <td>17.750000</td>\n",
       "      <td>78.571429</td>\n",
       "      <td>0</td>\n",
       "      <td>1</td>\n",
       "      <td>1</td>\n",
       "      <td>31</td>\n",
       "      <td>NaN</td>\n",
       "      <td>32.4</td>\n",
       "    </tr>\n",
       "    <tr>\n",
       "      <th>13778</th>\n",
       "      <td>2006-02-07</td>\n",
       "      <td>MS Atapattu</td>\n",
       "      <td>Sri Lanka</td>\n",
       "      <td>South Africa</td>\n",
       "      <td>Bellerive Oval</td>\n",
       "      <td>13</td>\n",
       "      <td>34.615385</td>\n",
       "      <td>67.377008</td>\n",
       "      <td>0</td>\n",
       "      <td>4</td>\n",
       "      <td>0</td>\n",
       "      <td>80</td>\n",
       "      <td>NaN</td>\n",
       "      <td>28.0</td>\n",
       "    </tr>\n",
       "  </tbody>\n",
       "</table>\n",
       "</div>"
      ],
      "text/plain": [
       "             date             name          team    opposition  \\\n",
       "37388  2016-01-31  Mohammad Hafeez      Pakistan   New Zealand   \n",
       "10354  2020-02-26       BKG Mendis     Sri Lanka   West Indies   \n",
       "31392  2015-02-26     Javed Ahmadi   Afghanistan      Scotland   \n",
       "5846   2019-03-10      D Pretorius  South Africa     Sri Lanka   \n",
       "13778  2006-02-07      MS Atapattu     Sri Lanka  South Africa   \n",
       "\n",
       "                                                   venue  innings_played  \\\n",
       "37388                                          Eden Park             183   \n",
       "10354  Mahinda Rajapaksa International Cricket Stadiu...              54   \n",
       "31392                                    University Oval              24   \n",
       "5846                                           Kingsmead               4   \n",
       "13778                                     Bellerive Oval              13   \n",
       "\n",
       "       previous_average  previous_strike_rate  previous_centuries  \\\n",
       "37388         32.207650             65.361309                  11   \n",
       "10354         27.314815             69.237411                   1   \n",
       "31392         22.375000             62.227014                   0   \n",
       "5846          17.750000             78.571429                   0   \n",
       "13778         34.615385             67.377008                   0   \n",
       "\n",
       "       previous_fifties  previous_zeros  runs  balls  rolling_test_5  \n",
       "37388                33              14    76    NaN            19.6  \n",
       "10354                10               8   119    NaN            50.0  \n",
       "31392                 2               2    51    NaN            22.4  \n",
       "5846                  1               1    31    NaN            32.4  \n",
       "13778                 4               0    80    NaN            28.0  "
      ]
     },
     "execution_count": 10,
     "metadata": {},
     "output_type": "execute_result"
    }
   ],
   "source": [
    "df.sample(5)"
   ]
  },
  {
   "cell_type": "code",
   "execution_count": 11,
   "metadata": {},
   "outputs": [
    {
     "data": {
      "text/plain": [
       "38594"
      ]
     },
     "execution_count": 11,
     "metadata": {},
     "output_type": "execute_result"
    }
   ],
   "source": [
    "df.balls.isnull().sum()"
   ]
  },
  {
   "cell_type": "code",
   "execution_count": 12,
   "metadata": {},
   "outputs": [
    {
     "data": {
      "text/plain": [
       "(38594, 14)"
      ]
     },
     "execution_count": 12,
     "metadata": {},
     "output_type": "execute_result"
    }
   ],
   "source": [
    "df.shape"
   ]
  },
  {
   "cell_type": "code",
   "execution_count": 13,
   "metadata": {},
   "outputs": [],
   "source": [
    "df = df.drop(['balls'],axis=1)"
   ]
  },
  {
   "cell_type": "code",
   "execution_count": 14,
   "metadata": {},
   "outputs": [
    {
     "data": {
      "text/html": [
       "<div>\n",
       "<style scoped>\n",
       "    .dataframe tbody tr th:only-of-type {\n",
       "        vertical-align: middle;\n",
       "    }\n",
       "\n",
       "    .dataframe tbody tr th {\n",
       "        vertical-align: top;\n",
       "    }\n",
       "\n",
       "    .dataframe thead th {\n",
       "        text-align: right;\n",
       "    }\n",
       "</style>\n",
       "<table border=\"1\" class=\"dataframe\">\n",
       "  <thead>\n",
       "    <tr style=\"text-align: right;\">\n",
       "      <th></th>\n",
       "      <th>date</th>\n",
       "      <th>name</th>\n",
       "      <th>team</th>\n",
       "      <th>opposition</th>\n",
       "      <th>venue</th>\n",
       "      <th>previous_average</th>\n",
       "      <th>previous_strike_rate</th>\n",
       "      <th>previous_centuries</th>\n",
       "      <th>previous_fifties</th>\n",
       "      <th>previous_zeros</th>\n",
       "      <th>runs</th>\n",
       "      <th>rolling_test_5</th>\n",
       "    </tr>\n",
       "  </thead>\n",
       "  <tbody>\n",
       "    <tr>\n",
       "      <th>0</th>\n",
       "      <td>2017-01-13</td>\n",
       "      <td>DA Warner</td>\n",
       "      <td>Australia</td>\n",
       "      <td>Pakistan</td>\n",
       "      <td>Brisbane Cricket Ground, Woolloongabba</td>\n",
       "      <td>0.0</td>\n",
       "      <td>0.0</td>\n",
       "      <td>0</td>\n",
       "      <td>0</td>\n",
       "      <td>0</td>\n",
       "      <td>7</td>\n",
       "      <td>NaN</td>\n",
       "    </tr>\n",
       "    <tr>\n",
       "      <th>1</th>\n",
       "      <td>2017-01-13</td>\n",
       "      <td>TM Head</td>\n",
       "      <td>Australia</td>\n",
       "      <td>Pakistan</td>\n",
       "      <td>Brisbane Cricket Ground, Woolloongabba</td>\n",
       "      <td>0.0</td>\n",
       "      <td>0.0</td>\n",
       "      <td>0</td>\n",
       "      <td>0</td>\n",
       "      <td>0</td>\n",
       "      <td>39</td>\n",
       "      <td>NaN</td>\n",
       "    </tr>\n",
       "    <tr>\n",
       "      <th>2</th>\n",
       "      <td>2017-01-13</td>\n",
       "      <td>SPD Smith</td>\n",
       "      <td>Australia</td>\n",
       "      <td>Pakistan</td>\n",
       "      <td>Brisbane Cricket Ground, Woolloongabba</td>\n",
       "      <td>0.0</td>\n",
       "      <td>0.0</td>\n",
       "      <td>0</td>\n",
       "      <td>0</td>\n",
       "      <td>0</td>\n",
       "      <td>0</td>\n",
       "      <td>NaN</td>\n",
       "    </tr>\n",
       "    <tr>\n",
       "      <th>3</th>\n",
       "      <td>2017-01-13</td>\n",
       "      <td>CA Lynn</td>\n",
       "      <td>Australia</td>\n",
       "      <td>Pakistan</td>\n",
       "      <td>Brisbane Cricket Ground, Woolloongabba</td>\n",
       "      <td>0.0</td>\n",
       "      <td>0.0</td>\n",
       "      <td>0</td>\n",
       "      <td>0</td>\n",
       "      <td>0</td>\n",
       "      <td>16</td>\n",
       "      <td>NaN</td>\n",
       "    </tr>\n",
       "    <tr>\n",
       "      <th>4</th>\n",
       "      <td>2017-01-13</td>\n",
       "      <td>MR Marsh</td>\n",
       "      <td>Australia</td>\n",
       "      <td>Pakistan</td>\n",
       "      <td>Brisbane Cricket Ground, Woolloongabba</td>\n",
       "      <td>0.0</td>\n",
       "      <td>0.0</td>\n",
       "      <td>0</td>\n",
       "      <td>0</td>\n",
       "      <td>0</td>\n",
       "      <td>4</td>\n",
       "      <td>13.2</td>\n",
       "    </tr>\n",
       "  </tbody>\n",
       "</table>\n",
       "</div>"
      ],
      "text/plain": [
       "         date       name       team opposition  \\\n",
       "0  2017-01-13  DA Warner  Australia   Pakistan   \n",
       "1  2017-01-13    TM Head  Australia   Pakistan   \n",
       "2  2017-01-13  SPD Smith  Australia   Pakistan   \n",
       "3  2017-01-13    CA Lynn  Australia   Pakistan   \n",
       "4  2017-01-13   MR Marsh  Australia   Pakistan   \n",
       "\n",
       "                                    venue  previous_average  \\\n",
       "0  Brisbane Cricket Ground, Woolloongabba               0.0   \n",
       "1  Brisbane Cricket Ground, Woolloongabba               0.0   \n",
       "2  Brisbane Cricket Ground, Woolloongabba               0.0   \n",
       "3  Brisbane Cricket Ground, Woolloongabba               0.0   \n",
       "4  Brisbane Cricket Ground, Woolloongabba               0.0   \n",
       "\n",
       "   previous_strike_rate  previous_centuries  previous_fifties  previous_zeros  \\\n",
       "0                   0.0                   0                 0               0   \n",
       "1                   0.0                   0                 0               0   \n",
       "2                   0.0                   0                 0               0   \n",
       "3                   0.0                   0                 0               0   \n",
       "4                   0.0                   0                 0               0   \n",
       "\n",
       "   runs  rolling_test_5  \n",
       "0     7             NaN  \n",
       "1    39             NaN  \n",
       "2     0             NaN  \n",
       "3    16             NaN  \n",
       "4     4            13.2  "
      ]
     },
     "execution_count": 14,
     "metadata": {},
     "output_type": "execute_result"
    }
   ],
   "source": [
    "df = df.drop(['innings_played'],axis=1)\n",
    "df.head()"
   ]
  },
  {
   "cell_type": "code",
   "execution_count": 15,
   "metadata": {},
   "outputs": [
    {
     "data": {
      "text/html": [
       "<div>\n",
       "<style scoped>\n",
       "    .dataframe tbody tr th:only-of-type {\n",
       "        vertical-align: middle;\n",
       "    }\n",
       "\n",
       "    .dataframe tbody tr th {\n",
       "        vertical-align: top;\n",
       "    }\n",
       "\n",
       "    .dataframe thead th {\n",
       "        text-align: right;\n",
       "    }\n",
       "</style>\n",
       "<table border=\"1\" class=\"dataframe\">\n",
       "  <thead>\n",
       "    <tr style=\"text-align: right;\">\n",
       "      <th></th>\n",
       "      <th>date</th>\n",
       "      <th>name</th>\n",
       "      <th>team</th>\n",
       "      <th>opposition</th>\n",
       "      <th>venue</th>\n",
       "      <th>previous_average</th>\n",
       "      <th>previous_strike_rate</th>\n",
       "      <th>previous_centuries</th>\n",
       "      <th>previous_fifties</th>\n",
       "      <th>previous_zeros</th>\n",
       "      <th>runs</th>\n",
       "      <th>rolling_test_5</th>\n",
       "    </tr>\n",
       "  </thead>\n",
       "  <tbody>\n",
       "    <tr>\n",
       "      <th>1009</th>\n",
       "      <td>2017-05-29</td>\n",
       "      <td>JT Ball</td>\n",
       "      <td>England</td>\n",
       "      <td>South Africa</td>\n",
       "      <td>Lord's</td>\n",
       "      <td>10.000000</td>\n",
       "      <td>55.757576</td>\n",
       "      <td>0</td>\n",
       "      <td>0</td>\n",
       "      <td>1</td>\n",
       "      <td>7</td>\n",
       "      <td>24.2</td>\n",
       "    </tr>\n",
       "    <tr>\n",
       "      <th>19929</th>\n",
       "      <td>2009-01-18</td>\n",
       "      <td>HM Amla</td>\n",
       "      <td>South Africa</td>\n",
       "      <td>Australia</td>\n",
       "      <td>Bellerive Oval</td>\n",
       "      <td>33.727273</td>\n",
       "      <td>76.526929</td>\n",
       "      <td>3</td>\n",
       "      <td>8</td>\n",
       "      <td>1</td>\n",
       "      <td>8</td>\n",
       "      <td>13.0</td>\n",
       "    </tr>\n",
       "    <tr>\n",
       "      <th>28696</th>\n",
       "      <td>2012-12-02</td>\n",
       "      <td>DJG Sammy</td>\n",
       "      <td>West Indies</td>\n",
       "      <td>Bangladesh</td>\n",
       "      <td>Sheikh Abu Naser Stadium</td>\n",
       "      <td>16.028986</td>\n",
       "      <td>87.463457</td>\n",
       "      <td>0</td>\n",
       "      <td>4</td>\n",
       "      <td>4</td>\n",
       "      <td>12</td>\n",
       "      <td>10.6</td>\n",
       "    </tr>\n",
       "    <tr>\n",
       "      <th>31208</th>\n",
       "      <td>2015-02-18</td>\n",
       "      <td>Nawroz Mangal</td>\n",
       "      <td>Afghanistan</td>\n",
       "      <td>Bangladesh</td>\n",
       "      <td>Manuka Oval</td>\n",
       "      <td>13.142857</td>\n",
       "      <td>43.970141</td>\n",
       "      <td>0</td>\n",
       "      <td>0</td>\n",
       "      <td>2</td>\n",
       "      <td>27</td>\n",
       "      <td>6.0</td>\n",
       "    </tr>\n",
       "    <tr>\n",
       "      <th>35234</th>\n",
       "      <td>2014-12-07</td>\n",
       "      <td>MDKJ Perera</td>\n",
       "      <td>Sri Lanka</td>\n",
       "      <td>England</td>\n",
       "      <td>R Premadasa Stadium</td>\n",
       "      <td>30.038961</td>\n",
       "      <td>79.978376</td>\n",
       "      <td>4</td>\n",
       "      <td>11</td>\n",
       "      <td>6</td>\n",
       "      <td>31</td>\n",
       "      <td>11.0</td>\n",
       "    </tr>\n",
       "  </tbody>\n",
       "</table>\n",
       "</div>"
      ],
      "text/plain": [
       "             date           name          team    opposition  \\\n",
       "1009   2017-05-29        JT Ball       England  South Africa   \n",
       "19929  2009-01-18        HM Amla  South Africa     Australia   \n",
       "28696  2012-12-02      DJG Sammy   West Indies    Bangladesh   \n",
       "31208  2015-02-18  Nawroz Mangal   Afghanistan    Bangladesh   \n",
       "35234  2014-12-07    MDKJ Perera     Sri Lanka       England   \n",
       "\n",
       "                          venue  previous_average  previous_strike_rate  \\\n",
       "1009                     Lord's         10.000000             55.757576   \n",
       "19929            Bellerive Oval         33.727273             76.526929   \n",
       "28696  Sheikh Abu Naser Stadium         16.028986             87.463457   \n",
       "31208               Manuka Oval         13.142857             43.970141   \n",
       "35234       R Premadasa Stadium         30.038961             79.978376   \n",
       "\n",
       "       previous_centuries  previous_fifties  previous_zeros  runs  \\\n",
       "1009                    0                 0               1     7   \n",
       "19929                   3                 8               1     8   \n",
       "28696                   0                 4               4    12   \n",
       "31208                   0                 0               2    27   \n",
       "35234                   4                11               6    31   \n",
       "\n",
       "       rolling_test_5  \n",
       "1009             24.2  \n",
       "19929            13.0  \n",
       "28696            10.6  \n",
       "31208             6.0  \n",
       "35234            11.0  "
      ]
     },
     "execution_count": 15,
     "metadata": {},
     "output_type": "execute_result"
    }
   ],
   "source": [
    "df.sample(5)"
   ]
  },
  {
   "cell_type": "code",
   "execution_count": 16,
   "metadata": {},
   "outputs": [
    {
     "data": {
      "text/plain": [
       "<bound method NDFrame.head of 0        2017-01-13\n",
       "1        2017-01-13\n",
       "2        2017-01-13\n",
       "3        2017-01-13\n",
       "4        2017-01-13\n",
       "            ...    \n",
       "38589    2016-08-16\n",
       "38590    2016-08-16\n",
       "38591    2016-08-16\n",
       "38592    2016-08-16\n",
       "38593    2016-08-16\n",
       "Name: date, Length: 38594, dtype: object>"
      ]
     },
     "execution_count": 16,
     "metadata": {},
     "output_type": "execute_result"
    }
   ],
   "source": [
    "df['date'].head"
   ]
  },
  {
   "cell_type": "code",
   "execution_count": 17,
   "metadata": {},
   "outputs": [
    {
     "data": {
      "text/plain": [
       "MS Dhoni            281\n",
       "KC Sangakkara       264\n",
       "TM Dilshan          257\n",
       "DPMD Jayawardene    249\n",
       "V Kohli             244\n",
       "Name: name, dtype: int64"
      ]
     },
     "execution_count": 17,
     "metadata": {},
     "output_type": "execute_result"
    }
   ],
   "source": [
    "df['name'].value_counts().nlargest(5)"
   ]
  },
  {
   "cell_type": "code",
   "execution_count": 18,
   "metadata": {},
   "outputs": [
    {
     "data": {
      "text/plain": [
       "pandas.core.series.Series"
      ]
     },
     "execution_count": 18,
     "metadata": {},
     "output_type": "execute_result"
    }
   ],
   "source": [
    "type(df['date'])"
   ]
  },
  {
   "cell_type": "code",
   "execution_count": 39,
   "metadata": {},
   "outputs": [
    {
     "ename": "AttributeError",
     "evalue": "module 'pandas' has no attribute 'to_string'",
     "output_type": "error",
     "traceback": [
      "\u001b[1;31m---------------------------------------------------------------------------\u001b[0m",
      "\u001b[1;31mAttributeError\u001b[0m                            Traceback (most recent call last)",
      "\u001b[1;32m<ipython-input-39-2ccff963b9ea>\u001b[0m in \u001b[0;36m<module>\u001b[1;34m\u001b[0m\n\u001b[1;32m----> 1\u001b[1;33m \u001b[0mdf\u001b[0m\u001b[1;33m[\u001b[0m\u001b[1;34m'date'\u001b[0m\u001b[1;33m]\u001b[0m \u001b[1;33m=\u001b[0m \u001b[0mpd\u001b[0m\u001b[1;33m.\u001b[0m\u001b[0mto_string\u001b[0m\u001b[1;33m(\u001b[0m\u001b[0mdf\u001b[0m\u001b[1;33m[\u001b[0m\u001b[1;34m'date'\u001b[0m\u001b[1;33m]\u001b[0m\u001b[1;33m)\u001b[0m\u001b[1;33m\u001b[0m\u001b[1;33m\u001b[0m\u001b[0m\n\u001b[0m",
      "\u001b[1;32mD:\\Programs\\Anaconda\\lib\\site-packages\\pandas\\__init__.py\u001b[0m in \u001b[0;36m__getattr__\u001b[1;34m(name)\u001b[0m\n\u001b[0;32m    242\u001b[0m         \u001b[1;32mreturn\u001b[0m \u001b[0m_SparseArray\u001b[0m\u001b[1;33m\u001b[0m\u001b[1;33m\u001b[0m\u001b[0m\n\u001b[0;32m    243\u001b[0m \u001b[1;33m\u001b[0m\u001b[0m\n\u001b[1;32m--> 244\u001b[1;33m     \u001b[1;32mraise\u001b[0m \u001b[0mAttributeError\u001b[0m\u001b[1;33m(\u001b[0m\u001b[1;34mf\"module 'pandas' has no attribute '{name}'\"\u001b[0m\u001b[1;33m)\u001b[0m\u001b[1;33m\u001b[0m\u001b[1;33m\u001b[0m\u001b[0m\n\u001b[0m\u001b[0;32m    245\u001b[0m \u001b[1;33m\u001b[0m\u001b[0m\n\u001b[0;32m    246\u001b[0m \u001b[1;33m\u001b[0m\u001b[0m\n",
      "\u001b[1;31mAttributeError\u001b[0m: module 'pandas' has no attribute 'to_string'"
     ]
    }
   ],
   "source": [
    "#df['date'] = pd.to_datetime(df.date)"
   ]
  },
  {
   "cell_type": "code",
   "execution_count": 20,
   "metadata": {},
   "outputs": [
    {
     "data": {
      "text/plain": [
       "pandas.core.series.Series"
      ]
     },
     "execution_count": 20,
     "metadata": {},
     "output_type": "execute_result"
    }
   ],
   "source": [
    "type(df['date'])"
   ]
  },
  {
   "cell_type": "code",
   "execution_count": 40,
   "metadata": {},
   "outputs": [
    {
     "data": {
      "text/html": [
       "<div>\n",
       "<style scoped>\n",
       "    .dataframe tbody tr th:only-of-type {\n",
       "        vertical-align: middle;\n",
       "    }\n",
       "\n",
       "    .dataframe tbody tr th {\n",
       "        vertical-align: top;\n",
       "    }\n",
       "\n",
       "    .dataframe thead th {\n",
       "        text-align: right;\n",
       "    }\n",
       "</style>\n",
       "<table border=\"1\" class=\"dataframe\">\n",
       "  <thead>\n",
       "    <tr style=\"text-align: right;\">\n",
       "      <th></th>\n",
       "      <th>name</th>\n",
       "      <th>team</th>\n",
       "      <th>opposition</th>\n",
       "      <th>venue</th>\n",
       "      <th>previous_average</th>\n",
       "      <th>previous_strike_rate</th>\n",
       "      <th>previous_centuries</th>\n",
       "      <th>previous_fifties</th>\n",
       "      <th>previous_zeros</th>\n",
       "      <th>runs</th>\n",
       "      <th>rolling_test_5</th>\n",
       "    </tr>\n",
       "  </thead>\n",
       "  <tbody>\n",
       "    <tr>\n",
       "      <th>0</th>\n",
       "      <td>DA Warner</td>\n",
       "      <td>Australia</td>\n",
       "      <td>Pakistan</td>\n",
       "      <td>Brisbane Cricket Ground, Woolloongabba</td>\n",
       "      <td>0.000000</td>\n",
       "      <td>0.000000</td>\n",
       "      <td>0</td>\n",
       "      <td>0</td>\n",
       "      <td>0</td>\n",
       "      <td>7</td>\n",
       "      <td>NaN</td>\n",
       "    </tr>\n",
       "    <tr>\n",
       "      <th>1</th>\n",
       "      <td>TM Head</td>\n",
       "      <td>Australia</td>\n",
       "      <td>Pakistan</td>\n",
       "      <td>Brisbane Cricket Ground, Woolloongabba</td>\n",
       "      <td>0.000000</td>\n",
       "      <td>0.000000</td>\n",
       "      <td>0</td>\n",
       "      <td>0</td>\n",
       "      <td>0</td>\n",
       "      <td>39</td>\n",
       "      <td>NaN</td>\n",
       "    </tr>\n",
       "    <tr>\n",
       "      <th>2</th>\n",
       "      <td>SPD Smith</td>\n",
       "      <td>Australia</td>\n",
       "      <td>Pakistan</td>\n",
       "      <td>Brisbane Cricket Ground, Woolloongabba</td>\n",
       "      <td>0.000000</td>\n",
       "      <td>0.000000</td>\n",
       "      <td>0</td>\n",
       "      <td>0</td>\n",
       "      <td>0</td>\n",
       "      <td>0</td>\n",
       "      <td>NaN</td>\n",
       "    </tr>\n",
       "    <tr>\n",
       "      <th>3</th>\n",
       "      <td>CA Lynn</td>\n",
       "      <td>Australia</td>\n",
       "      <td>Pakistan</td>\n",
       "      <td>Brisbane Cricket Ground, Woolloongabba</td>\n",
       "      <td>0.000000</td>\n",
       "      <td>0.000000</td>\n",
       "      <td>0</td>\n",
       "      <td>0</td>\n",
       "      <td>0</td>\n",
       "      <td>16</td>\n",
       "      <td>NaN</td>\n",
       "    </tr>\n",
       "    <tr>\n",
       "      <th>4</th>\n",
       "      <td>MR Marsh</td>\n",
       "      <td>Australia</td>\n",
       "      <td>Pakistan</td>\n",
       "      <td>Brisbane Cricket Ground, Woolloongabba</td>\n",
       "      <td>0.000000</td>\n",
       "      <td>0.000000</td>\n",
       "      <td>0</td>\n",
       "      <td>0</td>\n",
       "      <td>0</td>\n",
       "      <td>4</td>\n",
       "      <td>13.2</td>\n",
       "    </tr>\n",
       "    <tr>\n",
       "      <th>...</th>\n",
       "      <td>...</td>\n",
       "      <td>...</td>\n",
       "      <td>...</td>\n",
       "      <td>...</td>\n",
       "      <td>...</td>\n",
       "      <td>...</td>\n",
       "      <td>...</td>\n",
       "      <td>...</td>\n",
       "      <td>...</td>\n",
       "      <td>...</td>\n",
       "      <td>...</td>\n",
       "    </tr>\n",
       "    <tr>\n",
       "      <th>38589</th>\n",
       "      <td>KJ Coetzer</td>\n",
       "      <td>Scotland</td>\n",
       "      <td>United Arab Emirates</td>\n",
       "      <td>Grange Cricket Club Ground, Raeburn Place</td>\n",
       "      <td>40.956522</td>\n",
       "      <td>70.702175</td>\n",
       "      <td>3</td>\n",
       "      <td>13</td>\n",
       "      <td>4</td>\n",
       "      <td>25</td>\n",
       "      <td>8.8</td>\n",
       "    </tr>\n",
       "    <tr>\n",
       "      <th>38590</th>\n",
       "      <td>CD Wallace</td>\n",
       "      <td>Scotland</td>\n",
       "      <td>United Arab Emirates</td>\n",
       "      <td>Grange Cricket Club Ground, Raeburn Place</td>\n",
       "      <td>21.363636</td>\n",
       "      <td>95.753646</td>\n",
       "      <td>0</td>\n",
       "      <td>4</td>\n",
       "      <td>1</td>\n",
       "      <td>6</td>\n",
       "      <td>7.6</td>\n",
       "    </tr>\n",
       "    <tr>\n",
       "      <th>38591</th>\n",
       "      <td>CS MacLeod</td>\n",
       "      <td>Scotland</td>\n",
       "      <td>United Arab Emirates</td>\n",
       "      <td>Grange Cricket Club Ground, Raeburn Place</td>\n",
       "      <td>29.176471</td>\n",
       "      <td>63.330321</td>\n",
       "      <td>5</td>\n",
       "      <td>5</td>\n",
       "      <td>6</td>\n",
       "      <td>103</td>\n",
       "      <td>27.4</td>\n",
       "    </tr>\n",
       "    <tr>\n",
       "      <th>38592</th>\n",
       "      <td>PL Mommsen</td>\n",
       "      <td>Scotland</td>\n",
       "      <td>United Arab Emirates</td>\n",
       "      <td>Grange Cricket Club Ground, Raeburn Place</td>\n",
       "      <td>25.826087</td>\n",
       "      <td>62.272128</td>\n",
       "      <td>1</td>\n",
       "      <td>3</td>\n",
       "      <td>2</td>\n",
       "      <td>80</td>\n",
       "      <td>43.2</td>\n",
       "    </tr>\n",
       "    <tr>\n",
       "      <th>38593</th>\n",
       "      <td>RD Berrington</td>\n",
       "      <td>Scotland</td>\n",
       "      <td>United Arab Emirates</td>\n",
       "      <td>Grange Cricket Club Ground, Raeburn Place</td>\n",
       "      <td>27.820000</td>\n",
       "      <td>68.173419</td>\n",
       "      <td>1</td>\n",
       "      <td>8</td>\n",
       "      <td>1</td>\n",
       "      <td>15</td>\n",
       "      <td>45.8</td>\n",
       "    </tr>\n",
       "  </tbody>\n",
       "</table>\n",
       "<p>38594 rows × 11 columns</p>\n",
       "</div>"
      ],
      "text/plain": [
       "                name       team            opposition  \\\n",
       "0          DA Warner  Australia              Pakistan   \n",
       "1            TM Head  Australia              Pakistan   \n",
       "2          SPD Smith  Australia              Pakistan   \n",
       "3            CA Lynn  Australia              Pakistan   \n",
       "4           MR Marsh  Australia              Pakistan   \n",
       "...              ...        ...                   ...   \n",
       "38589     KJ Coetzer   Scotland  United Arab Emirates   \n",
       "38590     CD Wallace   Scotland  United Arab Emirates   \n",
       "38591     CS MacLeod   Scotland  United Arab Emirates   \n",
       "38592     PL Mommsen   Scotland  United Arab Emirates   \n",
       "38593  RD Berrington   Scotland  United Arab Emirates   \n",
       "\n",
       "                                           venue  previous_average  \\\n",
       "0         Brisbane Cricket Ground, Woolloongabba          0.000000   \n",
       "1         Brisbane Cricket Ground, Woolloongabba          0.000000   \n",
       "2         Brisbane Cricket Ground, Woolloongabba          0.000000   \n",
       "3         Brisbane Cricket Ground, Woolloongabba          0.000000   \n",
       "4         Brisbane Cricket Ground, Woolloongabba          0.000000   \n",
       "...                                          ...               ...   \n",
       "38589  Grange Cricket Club Ground, Raeburn Place         40.956522   \n",
       "38590  Grange Cricket Club Ground, Raeburn Place         21.363636   \n",
       "38591  Grange Cricket Club Ground, Raeburn Place         29.176471   \n",
       "38592  Grange Cricket Club Ground, Raeburn Place         25.826087   \n",
       "38593  Grange Cricket Club Ground, Raeburn Place         27.820000   \n",
       "\n",
       "       previous_strike_rate  previous_centuries  previous_fifties  \\\n",
       "0                  0.000000                   0                 0   \n",
       "1                  0.000000                   0                 0   \n",
       "2                  0.000000                   0                 0   \n",
       "3                  0.000000                   0                 0   \n",
       "4                  0.000000                   0                 0   \n",
       "...                     ...                 ...               ...   \n",
       "38589             70.702175                   3                13   \n",
       "38590             95.753646                   0                 4   \n",
       "38591             63.330321                   5                 5   \n",
       "38592             62.272128                   1                 3   \n",
       "38593             68.173419                   1                 8   \n",
       "\n",
       "       previous_zeros  runs  rolling_test_5  \n",
       "0                   0     7             NaN  \n",
       "1                   0    39             NaN  \n",
       "2                   0     0             NaN  \n",
       "3                   0    16             NaN  \n",
       "4                   0     4            13.2  \n",
       "...               ...   ...             ...  \n",
       "38589               4    25             8.8  \n",
       "38590               1     6             7.6  \n",
       "38591               6   103            27.4  \n",
       "38592               2    80            43.2  \n",
       "38593               1    15            45.8  \n",
       "\n",
       "[38594 rows x 11 columns]"
      ]
     },
     "execution_count": 40,
     "metadata": {},
     "output_type": "execute_result"
    }
   ],
   "source": [
    "df.drop(['date'],axis=1)"
   ]
  },
  {
   "cell_type": "code",
   "execution_count": 41,
   "metadata": {},
   "outputs": [],
   "source": [
    "df2 = df[df['name']=='V Kohli']"
   ]
  },
  {
   "cell_type": "code",
   "execution_count": 42,
   "metadata": {},
   "outputs": [
    {
     "data": {
      "text/html": [
       "<div>\n",
       "<style scoped>\n",
       "    .dataframe tbody tr th:only-of-type {\n",
       "        vertical-align: middle;\n",
       "    }\n",
       "\n",
       "    .dataframe tbody tr th {\n",
       "        vertical-align: top;\n",
       "    }\n",
       "\n",
       "    .dataframe thead th {\n",
       "        text-align: right;\n",
       "    }\n",
       "</style>\n",
       "<table border=\"1\" class=\"dataframe\">\n",
       "  <thead>\n",
       "    <tr style=\"text-align: right;\">\n",
       "      <th></th>\n",
       "      <th>date</th>\n",
       "      <th>name</th>\n",
       "      <th>team</th>\n",
       "      <th>opposition</th>\n",
       "      <th>venue</th>\n",
       "      <th>previous_average</th>\n",
       "      <th>previous_strike_rate</th>\n",
       "      <th>previous_centuries</th>\n",
       "      <th>previous_fifties</th>\n",
       "      <th>previous_zeros</th>\n",
       "      <th>runs</th>\n",
       "      <th>rolling_test_5</th>\n",
       "    </tr>\n",
       "  </thead>\n",
       "  <tbody>\n",
       "    <tr>\n",
       "      <th>28798</th>\n",
       "      <td>2013-01-06</td>\n",
       "      <td>V Kohli</td>\n",
       "      <td>India</td>\n",
       "      <td>Pakistan</td>\n",
       "      <td>Feroz Shah Kotla</td>\n",
       "      <td>51.0</td>\n",
       "      <td>80.49217</td>\n",
       "      <td>31</td>\n",
       "      <td>49</td>\n",
       "      <td>9</td>\n",
       "      <td>7</td>\n",
       "      <td>5.6</td>\n",
       "    </tr>\n",
       "  </tbody>\n",
       "</table>\n",
       "</div>"
      ],
      "text/plain": [
       "            date     name   team opposition             venue  \\\n",
       "28798 2013-01-06  V Kohli  India   Pakistan  Feroz Shah Kotla   \n",
       "\n",
       "       previous_average  previous_strike_rate  previous_centuries  \\\n",
       "28798              51.0              80.49217                  31   \n",
       "\n",
       "       previous_fifties  previous_zeros  runs  rolling_test_5  \n",
       "28798                49               9     7             5.6  "
      ]
     },
     "execution_count": 42,
     "metadata": {},
     "output_type": "execute_result"
    }
   ],
   "source": [
    "df2.sample()"
   ]
  },
  {
   "cell_type": "code",
   "execution_count": 43,
   "metadata": {},
   "outputs": [],
   "source": [
    "df3 = pd.get_dummies(df2,columns = ['team','opposition','venue'])"
   ]
  },
  {
   "cell_type": "code",
   "execution_count": 44,
   "metadata": {},
   "outputs": [
    {
     "data": {
      "text/plain": [
       "Index(['date', 'name', 'previous_average', 'previous_strike_rate',\n",
       "       'previous_centuries', 'previous_fifties', 'previous_zeros', 'runs',\n",
       "       'rolling_test_5', 'team_India', 'opposition_Afghanistan',\n",
       "       'opposition_Australia', 'opposition_Bangladesh', 'opposition_England',\n",
       "       'opposition_Ireland', 'opposition_Netherlands',\n",
       "       'opposition_New Zealand', 'opposition_Pakistan',\n",
       "       'opposition_South Africa', 'opposition_Sri Lanka',\n",
       "       'opposition_United Arab Emirates', 'opposition_West Indies',\n",
       "       'opposition_Zimbabwe', 'venue_Adelaide Oval',\n",
       "       'venue_Arun Jaitley Stadium', 'venue_Barabati Stadium',\n",
       "       'venue_Barsapara Cricket Stadium', 'venue_Bay Oval',\n",
       "       'venue_Bellerive Oval', 'venue_Brabourne Stadium',\n",
       "       'venue_Brisbane Cricket Ground, Woolloongabba',\n",
       "       'venue_Dr. Y.S. Rajasekhara Reddy ACA-VDCA Cricket Stadium',\n",
       "       'venue_Eden Gardens', 'venue_Eden Park', 'venue_Edgbaston',\n",
       "       'venue_Feroz Shah Kotla', 'venue_Green Park',\n",
       "       'venue_Greenfield International Stadium', 'venue_Harare Sports Club',\n",
       "       'venue_Headingley',\n",
       "       'venue_Himachal Pradesh Cricket Association Stadium',\n",
       "       'venue_Holkar Cricket Stadium',\n",
       "       'venue_JSCA International Stadium Complex', 'venue_Kennington Oval',\n",
       "       'venue_Khan Shaheb Osman Ali Stadium', 'venue_Kingsmead',\n",
       "       'venue_Lord's', 'venue_M Chinnaswamy Stadium',\n",
       "       'venue_M.Chinnaswamy Stadium', 'venue_MA Chidambaram Stadium, Chepauk',\n",
       "       'venue_Madhavrao Scindia Cricket Ground',\n",
       "       'venue_Maharashtra Cricket Association Stadium',\n",
       "       'venue_Mahinda Rajapaksa International Cricket Stadium, Sooriyawewa',\n",
       "       'venue_Manuka Oval', 'venue_McLean Park',\n",
       "       'venue_Melbourne Cricket Ground', 'venue_Nehru Stadium',\n",
       "       'venue_New Wanderers Stadium', 'venue_Newlands', 'venue_Old Trafford',\n",
       "       'venue_Pallekele International Cricket Stadium',\n",
       "       'venue_Punjab Cricket Association IS Bindra Stadium, Mohali',\n",
       "       'venue_Punjab Cricket Association Stadium, Mohali',\n",
       "       'venue_Queen's Park Oval, Port of Spain',\n",
       "       'venue_Queen's Park Oval, Trinidad', 'venue_Queens Sports Club',\n",
       "       'venue_R Premadasa Stadium', 'venue_R.Premadasa Stadium, Khettarama',\n",
       "       'venue_Rajiv Gandhi International Stadium, Uppal',\n",
       "       'venue_Rangiri Dambulla International Stadium',\n",
       "       'venue_Reliance Stadium', 'venue_Riverside Ground',\n",
       "       'venue_Sabina Park, Kingston', 'venue_Sardar Patel Stadium, Motera',\n",
       "       'venue_Saurashtra Cricket Association Stadium',\n",
       "       'venue_Sawai Mansingh Stadium', 'venue_Seddon Park',\n",
       "       'venue_Shere Bangla National Stadium',\n",
       "       'venue_Sir Vivian Richards Stadium, North Sound',\n",
       "       'venue_Sophia Gardens', 'venue_St George's Park',\n",
       "       'venue_SuperSport Park', 'venue_Sydney Cricket Ground',\n",
       "       'venue_The Rose Bowl', 'venue_The Wanderers Stadium',\n",
       "       'venue_Trent Bridge',\n",
       "       'venue_Vidarbha Cricket Association Stadium, Jamtha',\n",
       "       'venue_Wankhede Stadium',\n",
       "       'venue_Western Australia Cricket Association Ground',\n",
       "       'venue_Westpac Stadium'],\n",
       "      dtype='object')"
      ]
     },
     "execution_count": 44,
     "metadata": {},
     "output_type": "execute_result"
    }
   ],
   "source": [
    "df3.columns"
   ]
  },
  {
   "cell_type": "code",
   "execution_count": 45,
   "metadata": {},
   "outputs": [
    {
     "data": {
      "text/plain": [
       "(244, 90)"
      ]
     },
     "execution_count": 45,
     "metadata": {},
     "output_type": "execute_result"
    }
   ],
   "source": [
    "df3.shape"
   ]
  },
  {
   "cell_type": "code",
   "execution_count": 46,
   "metadata": {},
   "outputs": [
    {
     "data": {
      "text/html": [
       "<div>\n",
       "<style scoped>\n",
       "    .dataframe tbody tr th:only-of-type {\n",
       "        vertical-align: middle;\n",
       "    }\n",
       "\n",
       "    .dataframe tbody tr th {\n",
       "        vertical-align: top;\n",
       "    }\n",
       "\n",
       "    .dataframe thead th {\n",
       "        text-align: right;\n",
       "    }\n",
       "</style>\n",
       "<table border=\"1\" class=\"dataframe\">\n",
       "  <thead>\n",
       "    <tr style=\"text-align: right;\">\n",
       "      <th></th>\n",
       "      <th>date</th>\n",
       "      <th>name</th>\n",
       "      <th>previous_average</th>\n",
       "      <th>previous_strike_rate</th>\n",
       "      <th>previous_centuries</th>\n",
       "      <th>previous_fifties</th>\n",
       "      <th>previous_zeros</th>\n",
       "      <th>runs</th>\n",
       "      <th>rolling_test_5</th>\n",
       "      <th>team_India</th>\n",
       "      <th>...</th>\n",
       "      <th>venue_St George's Park</th>\n",
       "      <th>venue_SuperSport Park</th>\n",
       "      <th>venue_Sydney Cricket Ground</th>\n",
       "      <th>venue_The Rose Bowl</th>\n",
       "      <th>venue_The Wanderers Stadium</th>\n",
       "      <th>venue_Trent Bridge</th>\n",
       "      <th>venue_Vidarbha Cricket Association Stadium, Jamtha</th>\n",
       "      <th>venue_Wankhede Stadium</th>\n",
       "      <th>venue_Western Australia Cricket Association Ground</th>\n",
       "      <th>venue_Westpac Stadium</th>\n",
       "    </tr>\n",
       "  </thead>\n",
       "  <tbody>\n",
       "    <tr>\n",
       "      <th>26183</th>\n",
       "      <td>2011-10-23</td>\n",
       "      <td>V Kohli</td>\n",
       "      <td>51.379085</td>\n",
       "      <td>81.282495</td>\n",
       "      <td>26</td>\n",
       "      <td>44</td>\n",
       "      <td>6</td>\n",
       "      <td>86</td>\n",
       "      <td>23.2</td>\n",
       "      <td>1</td>\n",
       "      <td>...</td>\n",
       "      <td>0</td>\n",
       "      <td>0</td>\n",
       "      <td>0</td>\n",
       "      <td>0</td>\n",
       "      <td>0</td>\n",
       "      <td>0</td>\n",
       "      <td>0</td>\n",
       "      <td>1</td>\n",
       "      <td>0</td>\n",
       "      <td>0</td>\n",
       "    </tr>\n",
       "  </tbody>\n",
       "</table>\n",
       "<p>1 rows × 90 columns</p>\n",
       "</div>"
      ],
      "text/plain": [
       "            date     name  previous_average  previous_strike_rate  \\\n",
       "26183 2011-10-23  V Kohli         51.379085             81.282495   \n",
       "\n",
       "       previous_centuries  previous_fifties  previous_zeros  runs  \\\n",
       "26183                  26                44               6    86   \n",
       "\n",
       "       rolling_test_5  team_India  ...  venue_St George's Park  \\\n",
       "26183            23.2           1  ...                       0   \n",
       "\n",
       "       venue_SuperSport Park  venue_Sydney Cricket Ground  \\\n",
       "26183                      0                            0   \n",
       "\n",
       "       venue_The Rose Bowl  venue_The Wanderers Stadium  venue_Trent Bridge  \\\n",
       "26183                    0                            0                   0   \n",
       "\n",
       "       venue_Vidarbha Cricket Association Stadium, Jamtha  \\\n",
       "26183                                                  0    \n",
       "\n",
       "       venue_Wankhede Stadium  \\\n",
       "26183                       1   \n",
       "\n",
       "       venue_Western Australia Cricket Association Ground  \\\n",
       "26183                                                  0    \n",
       "\n",
       "       venue_Westpac Stadium  \n",
       "26183                      0  \n",
       "\n",
       "[1 rows x 90 columns]"
      ]
     },
     "execution_count": 46,
     "metadata": {},
     "output_type": "execute_result"
    }
   ],
   "source": [
    "df3.sample()"
   ]
  },
  {
   "cell_type": "code",
   "execution_count": 47,
   "metadata": {},
   "outputs": [
    {
     "data": {
      "text/plain": [
       "Index(['date', 'name', 'previous_average', 'previous_strike_rate',\n",
       "       'previous_centuries', 'previous_fifties', 'previous_zeros', 'runs',\n",
       "       'rolling_test_5', 'team_India', 'opposition_Afghanistan',\n",
       "       'opposition_Australia', 'opposition_Bangladesh', 'opposition_England',\n",
       "       'opposition_Ireland', 'opposition_Netherlands',\n",
       "       'opposition_New Zealand', 'opposition_Pakistan',\n",
       "       'opposition_South Africa', 'opposition_Sri Lanka',\n",
       "       'opposition_United Arab Emirates', 'opposition_West Indies',\n",
       "       'opposition_Zimbabwe', 'venue_Adelaide Oval',\n",
       "       'venue_Arun Jaitley Stadium', 'venue_Barabati Stadium',\n",
       "       'venue_Barsapara Cricket Stadium', 'venue_Bay Oval',\n",
       "       'venue_Bellerive Oval', 'venue_Brabourne Stadium',\n",
       "       'venue_Brisbane Cricket Ground, Woolloongabba',\n",
       "       'venue_Dr. Y.S. Rajasekhara Reddy ACA-VDCA Cricket Stadium',\n",
       "       'venue_Eden Gardens', 'venue_Eden Park', 'venue_Edgbaston',\n",
       "       'venue_Feroz Shah Kotla', 'venue_Green Park',\n",
       "       'venue_Greenfield International Stadium', 'venue_Harare Sports Club',\n",
       "       'venue_Headingley',\n",
       "       'venue_Himachal Pradesh Cricket Association Stadium',\n",
       "       'venue_Holkar Cricket Stadium',\n",
       "       'venue_JSCA International Stadium Complex', 'venue_Kennington Oval',\n",
       "       'venue_Khan Shaheb Osman Ali Stadium', 'venue_Kingsmead',\n",
       "       'venue_Lord's', 'venue_M Chinnaswamy Stadium',\n",
       "       'venue_M.Chinnaswamy Stadium', 'venue_MA Chidambaram Stadium, Chepauk',\n",
       "       'venue_Madhavrao Scindia Cricket Ground',\n",
       "       'venue_Maharashtra Cricket Association Stadium',\n",
       "       'venue_Mahinda Rajapaksa International Cricket Stadium, Sooriyawewa',\n",
       "       'venue_Manuka Oval', 'venue_McLean Park',\n",
       "       'venue_Melbourne Cricket Ground', 'venue_Nehru Stadium',\n",
       "       'venue_New Wanderers Stadium', 'venue_Newlands', 'venue_Old Trafford',\n",
       "       'venue_Pallekele International Cricket Stadium',\n",
       "       'venue_Punjab Cricket Association IS Bindra Stadium, Mohali',\n",
       "       'venue_Punjab Cricket Association Stadium, Mohali',\n",
       "       'venue_Queen's Park Oval, Port of Spain',\n",
       "       'venue_Queen's Park Oval, Trinidad', 'venue_Queens Sports Club',\n",
       "       'venue_R Premadasa Stadium', 'venue_R.Premadasa Stadium, Khettarama',\n",
       "       'venue_Rajiv Gandhi International Stadium, Uppal',\n",
       "       'venue_Rangiri Dambulla International Stadium',\n",
       "       'venue_Reliance Stadium', 'venue_Riverside Ground',\n",
       "       'venue_Sabina Park, Kingston', 'venue_Sardar Patel Stadium, Motera',\n",
       "       'venue_Saurashtra Cricket Association Stadium',\n",
       "       'venue_Sawai Mansingh Stadium', 'venue_Seddon Park',\n",
       "       'venue_Shere Bangla National Stadium',\n",
       "       'venue_Sir Vivian Richards Stadium, North Sound',\n",
       "       'venue_Sophia Gardens', 'venue_St George's Park',\n",
       "       'venue_SuperSport Park', 'venue_Sydney Cricket Ground',\n",
       "       'venue_The Rose Bowl', 'venue_The Wanderers Stadium',\n",
       "       'venue_Trent Bridge',\n",
       "       'venue_Vidarbha Cricket Association Stadium, Jamtha',\n",
       "       'venue_Wankhede Stadium',\n",
       "       'venue_Western Australia Cricket Association Ground',\n",
       "       'venue_Westpac Stadium'],\n",
       "      dtype='object')"
      ]
     },
     "execution_count": 47,
     "metadata": {},
     "output_type": "execute_result"
    }
   ],
   "source": [
    "df3.columns"
   ]
  },
  {
   "cell_type": "code",
   "execution_count": 48,
   "metadata": {},
   "outputs": [],
   "source": [
    "df3 = df3.drop(['name'],axis=1)"
   ]
  },
  {
   "cell_type": "code",
   "execution_count": 49,
   "metadata": {},
   "outputs": [],
   "source": [
    "df3['date'] = pd.to_datetime(df3['date'])"
   ]
  },
  {
   "cell_type": "code",
   "execution_count": 50,
   "metadata": {},
   "outputs": [],
   "source": [
    "Y = df3['runs']"
   ]
  },
  {
   "cell_type": "code",
   "execution_count": 65,
   "metadata": {},
   "outputs": [],
   "source": [
    "X = df3.drop(['runs','date'],axis=1)\n"
   ]
  },
  {
   "cell_type": "code",
   "execution_count": 66,
   "metadata": {},
   "outputs": [],
   "source": [
    "from sklearn.model_selection import train_test_split"
   ]
  },
  {
   "cell_type": "code",
   "execution_count": 67,
   "metadata": {},
   "outputs": [],
   "source": [
    "X_train, X_test, y_train, y_test = train_test_split(X, Y, test_size=0.20, random_state=42)"
   ]
  },
  {
   "cell_type": "code",
   "execution_count": 68,
   "metadata": {},
   "outputs": [],
   "source": [
    "from sklearn.linear_model import LinearRegression"
   ]
  },
  {
   "cell_type": "code",
   "execution_count": 69,
   "metadata": {},
   "outputs": [],
   "source": [
    "model = LinearRegression()"
   ]
  },
  {
   "cell_type": "code",
   "execution_count": 70,
   "metadata": {},
   "outputs": [
    {
     "data": {
      "text/plain": [
       "Index(['previous_average', 'previous_strike_rate', 'previous_centuries',\n",
       "       'previous_fifties', 'previous_zeros', 'rolling_test_5', 'team_India',\n",
       "       'opposition_Afghanistan', 'opposition_Australia',\n",
       "       'opposition_Bangladesh', 'opposition_England', 'opposition_Ireland',\n",
       "       'opposition_Netherlands', 'opposition_New Zealand',\n",
       "       'opposition_Pakistan', 'opposition_South Africa',\n",
       "       'opposition_Sri Lanka', 'opposition_United Arab Emirates',\n",
       "       'opposition_West Indies', 'opposition_Zimbabwe', 'venue_Adelaide Oval',\n",
       "       'venue_Arun Jaitley Stadium', 'venue_Barabati Stadium',\n",
       "       'venue_Barsapara Cricket Stadium', 'venue_Bay Oval',\n",
       "       'venue_Bellerive Oval', 'venue_Brabourne Stadium',\n",
       "       'venue_Brisbane Cricket Ground, Woolloongabba',\n",
       "       'venue_Dr. Y.S. Rajasekhara Reddy ACA-VDCA Cricket Stadium',\n",
       "       'venue_Eden Gardens', 'venue_Eden Park', 'venue_Edgbaston',\n",
       "       'venue_Feroz Shah Kotla', 'venue_Green Park',\n",
       "       'venue_Greenfield International Stadium', 'venue_Harare Sports Club',\n",
       "       'venue_Headingley',\n",
       "       'venue_Himachal Pradesh Cricket Association Stadium',\n",
       "       'venue_Holkar Cricket Stadium',\n",
       "       'venue_JSCA International Stadium Complex', 'venue_Kennington Oval',\n",
       "       'venue_Khan Shaheb Osman Ali Stadium', 'venue_Kingsmead',\n",
       "       'venue_Lord's', 'venue_M Chinnaswamy Stadium',\n",
       "       'venue_M.Chinnaswamy Stadium', 'venue_MA Chidambaram Stadium, Chepauk',\n",
       "       'venue_Madhavrao Scindia Cricket Ground',\n",
       "       'venue_Maharashtra Cricket Association Stadium',\n",
       "       'venue_Mahinda Rajapaksa International Cricket Stadium, Sooriyawewa',\n",
       "       'venue_Manuka Oval', 'venue_McLean Park',\n",
       "       'venue_Melbourne Cricket Ground', 'venue_Nehru Stadium',\n",
       "       'venue_New Wanderers Stadium', 'venue_Newlands', 'venue_Old Trafford',\n",
       "       'venue_Pallekele International Cricket Stadium',\n",
       "       'venue_Punjab Cricket Association IS Bindra Stadium, Mohali',\n",
       "       'venue_Punjab Cricket Association Stadium, Mohali',\n",
       "       'venue_Queen's Park Oval, Port of Spain',\n",
       "       'venue_Queen's Park Oval, Trinidad', 'venue_Queens Sports Club',\n",
       "       'venue_R Premadasa Stadium', 'venue_R.Premadasa Stadium, Khettarama',\n",
       "       'venue_Rajiv Gandhi International Stadium, Uppal',\n",
       "       'venue_Rangiri Dambulla International Stadium',\n",
       "       'venue_Reliance Stadium', 'venue_Riverside Ground',\n",
       "       'venue_Sabina Park, Kingston', 'venue_Sardar Patel Stadium, Motera',\n",
       "       'venue_Saurashtra Cricket Association Stadium',\n",
       "       'venue_Sawai Mansingh Stadium', 'venue_Seddon Park',\n",
       "       'venue_Shere Bangla National Stadium',\n",
       "       'venue_Sir Vivian Richards Stadium, North Sound',\n",
       "       'venue_Sophia Gardens', 'venue_St George's Park',\n",
       "       'venue_SuperSport Park', 'venue_Sydney Cricket Ground',\n",
       "       'venue_The Rose Bowl', 'venue_The Wanderers Stadium',\n",
       "       'venue_Trent Bridge',\n",
       "       'venue_Vidarbha Cricket Association Stadium, Jamtha',\n",
       "       'venue_Wankhede Stadium',\n",
       "       'venue_Western Australia Cricket Association Ground',\n",
       "       'venue_Westpac Stadium'],\n",
       "      dtype='object')"
      ]
     },
     "execution_count": 70,
     "metadata": {},
     "output_type": "execute_result"
    }
   ],
   "source": [
    "X.columns"
   ]
  },
  {
   "cell_type": "code",
   "execution_count": null,
   "metadata": {},
   "outputs": [],
   "source": []
  },
  {
   "cell_type": "code",
   "execution_count": 71,
   "metadata": {},
   "outputs": [
    {
     "data": {
      "text/plain": [
       "LinearRegression()"
      ]
     },
     "execution_count": 71,
     "metadata": {},
     "output_type": "execute_result"
    }
   ],
   "source": [
    "model.fit(X_train, y_train)"
   ]
  },
  {
   "cell_type": "code",
   "execution_count": 72,
   "metadata": {},
   "outputs": [
    {
     "name": "stdout",
     "output_type": "stream",
     "text": [
      "[ 1.13013212e+00 -1.30926724e+00 -2.89893109e+00  1.38747579e+00\n",
      "  2.04736115e+00  1.55715081e+00  1.87181008e+13  7.27480144e+12\n",
      "  7.27480144e+12  7.27480144e+12  7.27480144e+12  2.70630653e+12\n",
      "  7.27480144e+12  7.27480144e+12  7.27480144e+12  7.27480144e+12\n",
      "  7.27480144e+12  7.64749013e+10  7.27480144e+12  7.27480144e+12\n",
      "  2.79514601e+11  2.79514601e+11  2.79514601e+11  2.79514601e+11\n",
      "  2.79514601e+11  2.79514601e+11  2.79514601e+11  2.79514601e+11\n",
      "  2.79514601e+11  2.79514601e+11  2.79514601e+11  2.79514601e+11\n",
      "  2.79514601e+11  2.79514601e+11  2.79514601e+11  2.79514601e+11\n",
      "  2.79514601e+11  2.79514601e+11  2.79514601e+11  2.79514601e+11\n",
      "  2.79514601e+11  2.79514601e+11  2.79514601e+11  2.79514601e+11\n",
      "  2.79514601e+11  2.79514601e+11  2.79514601e+11  2.79514601e+11\n",
      "  2.79514601e+11  2.79514601e+11  2.79514601e+11  2.79514601e+11\n",
      "  2.79514601e+11  2.79514601e+11  2.79514601e+11  2.79514601e+11\n",
      "  2.79514601e+11  2.79514601e+11  2.79514601e+11  2.79514601e+11\n",
      "  2.79514601e+11  2.79514601e+11  2.79514601e+11  2.79514601e+11\n",
      "  2.79514601e+11  2.79514601e+11  2.79514601e+11  2.79514601e+11\n",
      "  2.79514601e+11  2.79514601e+11  2.79514601e+11  2.79514601e+11\n",
      "  2.79514601e+11  2.79514601e+11  2.79514601e+11  2.79514601e+11\n",
      "  2.79514601e+11 -1.99915415e+03  2.79514601e+11  2.79514601e+11\n",
      "  2.79514601e+11  2.79514601e+11  2.79514601e+11  2.79514601e+11\n",
      "  2.79514601e+11  2.79514601e+11  2.79514601e+11]\n"
     ]
    }
   ],
   "source": [
    "print(model.coef_)"
   ]
  },
  {
   "cell_type": "code",
   "execution_count": 73,
   "metadata": {},
   "outputs": [],
   "source": [
    "predictions = model.predict(X_test)"
   ]
  },
  {
   "cell_type": "code",
   "execution_count": 74,
   "metadata": {},
   "outputs": [
    {
     "data": {
      "text/plain": [
       "array([ 4.48828125e+01,  6.05898438e+01,  2.46953125e+01,  4.39453125e+01,\n",
       "       -7.19832654e+12,  5.02265625e+01,  1.05160156e+02, -2.79514603e+11,\n",
       "        9.63007812e+01,  6.99218750e+00,  4.04023438e+01,  7.05273438e+01,\n",
       "        3.99882812e+01, -4.68750000e-01, -2.35546875e+00,  3.77343750e+01,\n",
       "       -4.56849491e+12,  4.99960938e+01,  1.57464844e+02,  3.01406250e+01,\n",
       "        3.73750000e+01,  6.98046875e+00,  3.92617188e+01,  2.31679688e+01,\n",
       "        6.09023438e+01,  1.29257812e+01,  7.30937500e+01, -1.29296875e+00,\n",
       "        9.61679688e+01,  1.00066406e+02,  4.89218750e+01,  5.12265625e+01,\n",
       "        1.83203125e+00,  4.51992188e+01,  6.95898438e+01,  1.26601562e+01,\n",
       "       -4.56849491e+12,  6.84882812e+01,  4.89218750e+01,  6.15234375e+00,\n",
       "        1.21085938e+02,  5.65000000e+01, -9.92187500e-01,  3.06250000e+01,\n",
       "        4.62812500e+01,  6.68671875e+01, -4.12500000e+00, -2.79514603e+11,\n",
       "        5.27304688e+01])"
      ]
     },
     "execution_count": 74,
     "metadata": {},
     "output_type": "execute_result"
    }
   ],
   "source": [
    "predictions\n"
   ]
  },
  {
   "cell_type": "code",
   "execution_count": 75,
   "metadata": {},
   "outputs": [
    {
     "data": {
      "text/plain": [
       "3762      92\n",
       "904        9\n",
       "26183     86\n",
       "33289      1\n",
       "31470     33\n",
       "28465     22\n",
       "30014    115\n",
       "24667     87\n",
       "951       65\n",
       "23413     24\n",
       "6581      66\n",
       "36551     25\n",
       "24314     28\n",
       "28522     22\n",
       "19422     12\n",
       "25861     12\n",
       "31752     44\n",
       "3297      11\n",
       "9251       0\n",
       "25751     31\n",
       "4005     113\n",
       "3452       4\n",
       "23801     31\n",
       "3961      71\n",
       "29742    115\n",
       "24438     37\n",
       "1186     122\n",
       "9365       9\n",
       "27010    117\n",
       "26909     66\n",
       "24144     18\n",
       "33918      5\n",
       "3792      28\n",
       "8354      44\n",
       "3437      82\n",
       "24391      8\n",
       "22988     34\n",
       "31288     46\n",
       "25410      0\n",
       "36898     77\n",
       "9491     114\n",
       "24782    105\n",
       "24160     68\n",
       "3325       3\n",
       "31141    107\n",
       "9275      85\n",
       "27647     15\n",
       "4168      36\n",
       "30118      0\n",
       "Name: runs, dtype: int64"
      ]
     },
     "execution_count": 75,
     "metadata": {},
     "output_type": "execute_result"
    }
   ],
   "source": [
    "y_test"
   ]
  },
  {
   "cell_type": "code",
   "execution_count": 76,
   "metadata": {},
   "outputs": [],
   "source": [
    "import matplotlib.pyplot as plt"
   ]
  },
  {
   "cell_type": "code",
   "execution_count": 77,
   "metadata": {},
   "outputs": [
    {
     "data": {
      "text/plain": [
       "<matplotlib.collections.PathCollection at 0x196772cda60>"
      ]
     },
     "execution_count": 77,
     "metadata": {},
     "output_type": "execute_result"
    },
    {
     "data": {
      "image/png": "[encoded data removed]",
      "text/plain": [
       "<Figure size 432x288 with 1 Axes>"
      ]
     },
     "metadata": {
      "needs_background": "light"
     },
     "output_type": "display_data"
    }
   ],
   "source": [
    "plt.scatter(y_test, predictions)"
   ]
  },
  {
   "cell_type": "code",
   "execution_count": 78,
   "metadata": {},
   "outputs": [
    {
     "data": {
      "text/plain": [
       "344782562347.5925"
      ]
     },
     "execution_count": 78,
     "metadata": {},
     "output_type": "execute_result"
    }
   ],
   "source": [
    "from sklearn import datasets, linear_model, metrics\n",
    "metrics.mean_absolute_error(y_test, predictions)"
   ]
  },
  {
   "cell_type": "code",
   "execution_count": 89,
   "metadata": {},
   "outputs": [
    {
     "data": {
      "text/plain": [
       "array([ 4.48828125e+01,  6.05898438e+01,  2.46953125e+01,  4.39453125e+01,\n",
       "       -7.19832654e+12,  5.02265625e+01,  1.05160156e+02, -2.79514603e+11,\n",
       "        9.63007812e+01,  6.99218750e+00,  4.04023438e+01,  7.05273438e+01,\n",
       "        3.99882812e+01, -4.68750000e-01, -2.35546875e+00,  3.77343750e+01,\n",
       "       -4.56849491e+12,  4.99960938e+01,  1.57464844e+02,  3.01406250e+01,\n",
       "        3.73750000e+01,  6.98046875e+00,  3.92617188e+01,  2.31679688e+01,\n",
       "        6.09023438e+01,  1.29257812e+01,  7.30937500e+01, -1.29296875e+00,\n",
       "        9.61679688e+01,  1.00066406e+02,  4.89218750e+01,  5.12265625e+01,\n",
       "        1.83203125e+00,  4.51992188e+01,  6.95898438e+01,  1.26601562e+01,\n",
       "       -4.56849491e+12,  6.84882812e+01,  4.89218750e+01,  6.15234375e+00,\n",
       "        1.21085938e+02,  5.65000000e+01, -9.92187500e-01,  3.06250000e+01,\n",
       "        4.62812500e+01,  6.68671875e+01, -4.12500000e+00, -2.79514603e+11,\n",
       "        5.27304688e+01])"
      ]
     },
     "execution_count": 89,
     "metadata": {},
     "output_type": "execute_result"
    }
   ],
   "source": [
    "predictions"
   ]
  },
  {
   "cell_type": "code",
   "execution_count": 80,
   "metadata": {},
   "outputs": [
    {
     "data": {
      "text/plain": [
       "3762      92\n",
       "904        9\n",
       "26183     86\n",
       "33289      1\n",
       "31470     33\n",
       "28465     22\n",
       "30014    115\n",
       "24667     87\n",
       "951       65\n",
       "23413     24\n",
       "Name: runs, dtype: int64"
      ]
     },
     "execution_count": 80,
     "metadata": {},
     "output_type": "execute_result"
    }
   ],
   "source": [
    "y_test.head(10)"
   ]
  },
  {
   "cell_type": "code",
   "execution_count": 81,
   "metadata": {},
   "outputs": [],
   "source": [
    "from sklearn.ensemble import RandomForestRegressor\n",
    "forest_model = RandomForestRegressor(random_state=1)\n",
    "forest_model.fit(X_train,y_train)\n",
    "y_test2 = forest_model.predict(X_test)"
   ]
  },
  {
   "cell_type": "code",
   "execution_count": 82,
   "metadata": {},
   "outputs": [
    {
     "data": {
      "text/plain": [
       "30.00244897959184"
      ]
     },
     "execution_count": 82,
     "metadata": {},
     "output_type": "execute_result"
    }
   ],
   "source": [
    "metrics.mean_absolute_error(y_test, y_test2)"
   ]
  },
  {
   "cell_type": "code",
   "execution_count": 83,
   "metadata": {},
   "outputs": [
    {
     "data": {
      "text/plain": [
       "array([ 4.48828125e+01,  6.05898438e+01,  2.46953125e+01,  4.39453125e+01,\n",
       "       -7.19832654e+12,  5.02265625e+01,  1.05160156e+02, -2.79514603e+11,\n",
       "        9.63007812e+01,  6.99218750e+00])"
      ]
     },
     "execution_count": 83,
     "metadata": {},
     "output_type": "execute_result"
    }
   ],
   "source": [
    "predictions[0:10]"
   ]
  },
  {
   "cell_type": "code",
   "execution_count": 84,
   "metadata": {},
   "outputs": [
    {
     "data": {
      "text/plain": [
       "3762      92\n",
       "904        9\n",
       "26183     86\n",
       "33289      1\n",
       "31470     33\n",
       "28465     22\n",
       "30014    115\n",
       "24667     87\n",
       "951       65\n",
       "23413     24\n",
       "Name: runs, dtype: int64"
      ]
     },
     "execution_count": 84,
     "metadata": {},
     "output_type": "execute_result"
    }
   ],
   "source": [
    "y_test.head(10)"
   ]
  },
  {
   "cell_type": "code",
   "execution_count": 85,
   "metadata": {},
   "outputs": [
    {
     "data": {
      "text/plain": [
       "<matplotlib.collections.PathCollection at 0x196773d8b20>"
      ]
     },
     "execution_count": 85,
     "metadata": {},
     "output_type": "execute_result"
    },
    {
     "data": {
      "image/png": "[encoded data removed]",
      "text/plain": [
       "<Figure size 432x288 with 1 Axes>"
      ]
     },
     "metadata": {
      "needs_background": "light"
     },
     "output_type": "display_data"
    }
   ],
   "source": [
    "plt.scatter(y_test2,y_test)"
   ]
  },
  {
   "cell_type": "code",
   "execution_count": 86,
   "metadata": {},
   "outputs": [
    {
     "data": {
      "text/plain": [
       "Index(['date', 'previous_average', 'previous_strike_rate',\n",
       "       'previous_centuries', 'previous_fifties', 'previous_zeros', 'runs',\n",
       "       'rolling_test_5', 'team_India', 'opposition_Afghanistan',\n",
       "       'opposition_Australia', 'opposition_Bangladesh', 'opposition_England',\n",
       "       'opposition_Ireland', 'opposition_Netherlands',\n",
       "       'opposition_New Zealand', 'opposition_Pakistan',\n",
       "       'opposition_South Africa', 'opposition_Sri Lanka',\n",
       "       'opposition_United Arab Emirates', 'opposition_West Indies',\n",
       "       'opposition_Zimbabwe', 'venue_Adelaide Oval',\n",
       "       'venue_Arun Jaitley Stadium', 'venue_Barabati Stadium',\n",
       "       'venue_Barsapara Cricket Stadium', 'venue_Bay Oval',\n",
       "       'venue_Bellerive Oval', 'venue_Brabourne Stadium',\n",
       "       'venue_Brisbane Cricket Ground, Woolloongabba',\n",
       "       'venue_Dr. Y.S. Rajasekhara Reddy ACA-VDCA Cricket Stadium',\n",
       "       'venue_Eden Gardens', 'venue_Eden Park', 'venue_Edgbaston',\n",
       "       'venue_Feroz Shah Kotla', 'venue_Green Park',\n",
       "       'venue_Greenfield International Stadium', 'venue_Harare Sports Club',\n",
       "       'venue_Headingley',\n",
       "       'venue_Himachal Pradesh Cricket Association Stadium',\n",
       "       'venue_Holkar Cricket Stadium',\n",
       "       'venue_JSCA International Stadium Complex', 'venue_Kennington Oval',\n",
       "       'venue_Khan Shaheb Osman Ali Stadium', 'venue_Kingsmead',\n",
       "       'venue_Lord's', 'venue_M Chinnaswamy Stadium',\n",
       "       'venue_M.Chinnaswamy Stadium', 'venue_MA Chidambaram Stadium, Chepauk',\n",
       "       'venue_Madhavrao Scindia Cricket Ground',\n",
       "       'venue_Maharashtra Cricket Association Stadium',\n",
       "       'venue_Mahinda Rajapaksa International Cricket Stadium, Sooriyawewa',\n",
       "       'venue_Manuka Oval', 'venue_McLean Park',\n",
       "       'venue_Melbourne Cricket Ground', 'venue_Nehru Stadium',\n",
       "       'venue_New Wanderers Stadium', 'venue_Newlands', 'venue_Old Trafford',\n",
       "       'venue_Pallekele International Cricket Stadium',\n",
       "       'venue_Punjab Cricket Association IS Bindra Stadium, Mohali',\n",
       "       'venue_Punjab Cricket Association Stadium, Mohali',\n",
       "       'venue_Queen's Park Oval, Port of Spain',\n",
       "       'venue_Queen's Park Oval, Trinidad', 'venue_Queens Sports Club',\n",
       "       'venue_R Premadasa Stadium', 'venue_R.Premadasa Stadium, Khettarama',\n",
       "       'venue_Rajiv Gandhi International Stadium, Uppal',\n",
       "       'venue_Rangiri Dambulla International Stadium',\n",
       "       'venue_Reliance Stadium', 'venue_Riverside Ground',\n",
       "       'venue_Sabina Park, Kingston', 'venue_Sardar Patel Stadium, Motera',\n",
       "       'venue_Saurashtra Cricket Association Stadium',\n",
       "       'venue_Sawai Mansingh Stadium', 'venue_Seddon Park',\n",
       "       'venue_Shere Bangla National Stadium',\n",
       "       'venue_Sir Vivian Richards Stadium, North Sound',\n",
       "       'venue_Sophia Gardens', 'venue_St George's Park',\n",
       "       'venue_SuperSport Park', 'venue_Sydney Cricket Ground',\n",
       "       'venue_The Rose Bowl', 'venue_The Wanderers Stadium',\n",
       "       'venue_Trent Bridge',\n",
       "       'venue_Vidarbha Cricket Association Stadium, Jamtha',\n",
       "       'venue_Wankhede Stadium',\n",
       "       'venue_Western Australia Cricket Association Ground',\n",
       "       'venue_Westpac Stadium'],\n",
       "      dtype='object')"
      ]
     },
     "execution_count": 86,
     "metadata": {},
     "output_type": "execute_result"
    }
   ],
   "source": [
    "df3.columns"
   ]
  },
  {
   "cell_type": "code",
   "execution_count": 87,
   "metadata": {},
   "outputs": [],
   "source": [
    "#merge"
   ]
  },
  {
   "cell_type": "code",
   "execution_count": 88,
   "metadata": {},
   "outputs": [],
   "source": [
    "df4 = pd.read_csv('../overall_batsman_details.csv')"
   ]
  },
  {
   "cell_type": "code",
   "execution_count": null,
   "metadata": {},
   "outputs": [
    {
     "data": {
      "text/html": [
       "<div>\n",
       "<style scoped>\n",
       "    .dataframe tbody tr th:only-of-type {\n",
       "        vertical-align: middle;\n",
       "    }\n",
       "\n",
       "    .dataframe tbody tr th {\n",
       "        vertical-align: top;\n",
       "    }\n",
       "\n",
       "    .dataframe thead th {\n",
       "        text-align: right;\n",
       "    }\n",
       "</style>\n",
       "<table border=\"1\" class=\"dataframe\">\n",
       "  <thead>\n",
       "    <tr style=\"text-align: right;\">\n",
       "      <th></th>\n",
       "      <th>player_name</th>\n",
       "      <th>team</th>\n",
       "      <th>innings</th>\n",
       "      <th>runs</th>\n",
       "      <th>balls</th>\n",
       "      <th>average</th>\n",
       "      <th>strike_rate</th>\n",
       "      <th>centuries</th>\n",
       "      <th>fifties</th>\n",
       "      <th>zeros</th>\n",
       "    </tr>\n",
       "  </thead>\n",
       "  <tbody>\n",
       "    <tr>\n",
       "      <th>562</th>\n",
       "      <td>WB Rankin</td>\n",
       "      <td>Ireland</td>\n",
       "      <td>27</td>\n",
       "      <td>99</td>\n",
       "      <td>234</td>\n",
       "      <td>3.666667</td>\n",
       "      <td>48.8869</td>\n",
       "      <td>0</td>\n",
       "      <td>0</td>\n",
       "      <td>3</td>\n",
       "    </tr>\n",
       "  </tbody>\n",
       "</table>\n",
       "</div>"
      ],
      "text/plain": [
       "    player_name     team  innings  runs  balls   average  strike_rate  \\\n",
       "562   WB Rankin  Ireland       27    99    234  3.666667      48.8869   \n",
       "\n",
       "     centuries  fifties  zeros  \n",
       "562          0        0      3  "
      ]
     },
     "execution_count": 54,
     "metadata": {},
     "output_type": "execute_result"
    }
   ],
   "source": [
    "df4.sample()"
   ]
  },
  {
   "cell_type": "code",
   "execution_count": null,
   "metadata": {},
   "outputs": [
    {
     "data": {
      "text/html": [
       "<div>\n",
       "<style scoped>\n",
       "    .dataframe tbody tr th:only-of-type {\n",
       "        vertical-align: middle;\n",
       "    }\n",
       "\n",
       "    .dataframe tbody tr th {\n",
       "        vertical-align: top;\n",
       "    }\n",
       "\n",
       "    .dataframe thead th {\n",
       "        text-align: right;\n",
       "    }\n",
       "</style>\n",
       "<table border=\"1\" class=\"dataframe\">\n",
       "  <thead>\n",
       "    <tr style=\"text-align: right;\">\n",
       "      <th></th>\n",
       "      <th>previous_average</th>\n",
       "      <th>previous_strike_rate</th>\n",
       "      <th>previous_centuries</th>\n",
       "      <th>previous_fifties</th>\n",
       "      <th>previous_zeros</th>\n",
       "      <th>rolling_test_5</th>\n",
       "      <th>team_India</th>\n",
       "      <th>opposition_Afghanistan</th>\n",
       "      <th>opposition_Australia</th>\n",
       "      <th>opposition_Bangladesh</th>\n",
       "      <th>...</th>\n",
       "      <th>venue_St George's Park</th>\n",
       "      <th>venue_SuperSport Park</th>\n",
       "      <th>venue_Sydney Cricket Ground</th>\n",
       "      <th>venue_The Rose Bowl</th>\n",
       "      <th>venue_The Wanderers Stadium</th>\n",
       "      <th>venue_Trent Bridge</th>\n",
       "      <th>venue_Vidarbha Cricket Association Stadium, Jamtha</th>\n",
       "      <th>venue_Wankhede Stadium</th>\n",
       "      <th>venue_Western Australia Cricket Association Ground</th>\n",
       "      <th>venue_Westpac Stadium</th>\n",
       "    </tr>\n",
       "  </thead>\n",
       "  <tbody>\n",
       "    <tr>\n",
       "      <th>33541</th>\n",
       "      <td>49.56338</td>\n",
       "      <td>78.806608</td>\n",
       "      <td>37</td>\n",
       "      <td>54</td>\n",
       "      <td>12</td>\n",
       "      <td>32.8</td>\n",
       "      <td>1</td>\n",
       "      <td>0</td>\n",
       "      <td>0</td>\n",
       "      <td>0</td>\n",
       "      <td>...</td>\n",
       "      <td>0</td>\n",
       "      <td>0</td>\n",
       "      <td>0</td>\n",
       "      <td>0</td>\n",
       "      <td>0</td>\n",
       "      <td>0</td>\n",
       "      <td>0</td>\n",
       "      <td>0</td>\n",
       "      <td>0</td>\n",
       "      <td>0</td>\n",
       "    </tr>\n",
       "  </tbody>\n",
       "</table>\n",
       "<p>1 rows × 87 columns</p>\n",
       "</div>"
      ],
      "text/plain": [
       "       previous_average  previous_strike_rate  previous_centuries  \\\n",
       "33541          49.56338             78.806608                  37   \n",
       "\n",
       "       previous_fifties  previous_zeros  rolling_test_5  team_India  \\\n",
       "33541                54              12            32.8           1   \n",
       "\n",
       "       opposition_Afghanistan  opposition_Australia  opposition_Bangladesh  \\\n",
       "33541                       0                     0                      0   \n",
       "\n",
       "       ...  venue_St George's Park  venue_SuperSport Park  \\\n",
       "33541  ...                       0                      0   \n",
       "\n",
       "       venue_Sydney Cricket Ground  venue_The Rose Bowl  \\\n",
       "33541                            0                    0   \n",
       "\n",
       "       venue_The Wanderers Stadium  venue_Trent Bridge  \\\n",
       "33541                            0                   0   \n",
       "\n",
       "       venue_Vidarbha Cricket Association Stadium, Jamtha  \\\n",
       "33541                                                  0    \n",
       "\n",
       "       venue_Wankhede Stadium  \\\n",
       "33541                       0   \n",
       "\n",
       "       venue_Western Australia Cricket Association Ground  \\\n",
       "33541                                                  0    \n",
       "\n",
       "       venue_Westpac Stadium  \n",
       "33541                      0  \n",
       "\n",
       "[1 rows x 87 columns]"
      ]
     },
     "execution_count": 56,
     "metadata": {},
     "output_type": "execute_result"
    }
   ],
   "source": [
    "X.sample()"
   ]
  },
  {
   "cell_type": "code",
   "execution_count": null,
   "metadata": {},
   "outputs": [],
   "source": []
  },
  {
   "cell_type": "code",
   "execution_count": null,
   "metadata": {},
   "outputs": [],
   "source": []
  },
  {
   "cell_type": "code",
   "execution_count": null,
   "metadata": {},
   "outputs": [],
   "source": []
  },
  {
   "cell_type": "code",
   "execution_count": null,
   "metadata": {},
   "outputs": [],
   "source": []
  },
  {
   "cell_type": "code",
   "execution_count": null,
   "metadata": {},
   "outputs": [],
   "source": []
  }
 ],
 "metadata": {
  "interpreter": {
   "hash": "919eb0904b72c37e8d6c7e3b2f7b6f162c89cafcc297fba09b2d10c79c52f5eb"
  },
  "kernelspec": {
   "display_name": "Python 3.8.8 64-bit ('base': conda)",
   "language": "python",
   "name": "python3"
  },
  "language_info": {
   "codemirror_mode": {
    "name": "ipython",
    "version": 3
   },
   "file_extension": ".py",
   "mimetype": "text/x-python",
   "name": "python",
   "nbconvert_exporter": "python",
   "pygments_lexer": "ipython3",
   "version": "3.8.8"
  },
  "orig_nbformat": 4
 },
 "nbformat": 4,
 "nbformat_minor": 2
}
